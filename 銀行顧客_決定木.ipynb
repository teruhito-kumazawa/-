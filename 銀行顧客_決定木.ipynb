{
 "cells": [
  {
   "cell_type": "code",
   "execution_count": 1,
   "id": "1b327e97-0774-4cab-aa82-3924dfadcb73",
   "metadata": {},
   "outputs": [],
   "source": [
    "'''\n",
    "0、id、int行の通し番号\n",
    "1、age、int、年齢\n",
    "2、job、varchar、職種\n",
    "3、marital、varchar、未婚/既婚\n",
    "4、education、varchar、教育水準\n",
    "5、default、varchar、債務不履行があるか（yes, no）\n",
    "6、balance、int、年間平均残高（€）\n",
    "7、housing、varchar、住宅ローン（yes, no）\n",
    "8、loan、varchar、個人ローン（yes, no）\n",
    "9、contact、varchar、連絡方法\n",
    "10、dayint、最終接触日\n",
    "11、monthchar、最終接触月\n",
    "12、duration、int、最終接触時間（秒）\n",
    "13、compaign、int、現キャンペーンにおける接触回数\n",
    "14、pdaysint、経過日数：前キャンペーン接触後の日数\n",
    "15、previous、int、接触実績：現キャンペーン以前までに顧客に接触した回数\n",
    "16、poutcome、varchar、前回のキャンペーンの成果\n",
    "17、y、boolean、定額預金申し込み有無（1:有り, 0:無し）\n",
    "'''\n",
    "import pandas as pd\n",
    "import numpy as np\n",
    "import matplotlib.pyplot as plt\n",
    "import japanize_matplotlib\n",
    "import seaborn as sns\n",
    "%matplotlib inline\n",
    "\n",
    "from sklearn.tree import DecisionTreeClassifier as DTC\n",
    "from sklearn.model_selection import cross_validate\n",
    "from sklearn.model_selection import GridSearchCV\n",
    "from sklearn.tree import plot_tree"
   ]
  },
  {
   "cell_type": "code",
   "execution_count": 2,
   "id": "6fce8b18-a525-46e7-98f0-37d0f10cb799",
   "metadata": {},
   "outputs": [],
   "source": [
    "train = pd.read_csv(\"./data/train.csv\")\n",
    "test = pd.read_csv(\"./data/test.csv\")\n",
    "sample = pd.read_csv(\"./data/submit_sample.csv\", header=None)"
   ]
  },
  {
   "cell_type": "code",
   "execution_count": 3,
   "id": "981d0d11-aa5f-4dcf-b80e-868329d70e33",
   "metadata": {},
   "outputs": [
    {
     "data": {
      "text/html": [
       "<div>\n",
       "<style scoped>\n",
       "    .dataframe tbody tr th:only-of-type {\n",
       "        vertical-align: middle;\n",
       "    }\n",
       "\n",
       "    .dataframe tbody tr th {\n",
       "        vertical-align: top;\n",
       "    }\n",
       "\n",
       "    .dataframe thead th {\n",
       "        text-align: right;\n",
       "    }\n",
       "</style>\n",
       "<table border=\"1\" class=\"dataframe\">\n",
       "  <thead>\n",
       "    <tr style=\"text-align: right;\">\n",
       "      <th></th>\n",
       "      <th>id</th>\n",
       "      <th>age</th>\n",
       "      <th>job</th>\n",
       "      <th>marital</th>\n",
       "      <th>education</th>\n",
       "      <th>default</th>\n",
       "      <th>balance</th>\n",
       "      <th>housing</th>\n",
       "      <th>loan</th>\n",
       "      <th>contact</th>\n",
       "      <th>day</th>\n",
       "      <th>month</th>\n",
       "      <th>duration</th>\n",
       "      <th>campaign</th>\n",
       "      <th>pdays</th>\n",
       "      <th>previous</th>\n",
       "      <th>poutcome</th>\n",
       "      <th>y</th>\n",
       "    </tr>\n",
       "  </thead>\n",
       "  <tbody>\n",
       "    <tr>\n",
       "      <th>0</th>\n",
       "      <td>1</td>\n",
       "      <td>39</td>\n",
       "      <td>blue-collar</td>\n",
       "      <td>married</td>\n",
       "      <td>secondary</td>\n",
       "      <td>no</td>\n",
       "      <td>1756</td>\n",
       "      <td>yes</td>\n",
       "      <td>no</td>\n",
       "      <td>cellular</td>\n",
       "      <td>3</td>\n",
       "      <td>apr</td>\n",
       "      <td>939</td>\n",
       "      <td>1</td>\n",
       "      <td>-1</td>\n",
       "      <td>0</td>\n",
       "      <td>unknown</td>\n",
       "      <td>1</td>\n",
       "    </tr>\n",
       "    <tr>\n",
       "      <th>1</th>\n",
       "      <td>2</td>\n",
       "      <td>51</td>\n",
       "      <td>entrepreneur</td>\n",
       "      <td>married</td>\n",
       "      <td>primary</td>\n",
       "      <td>no</td>\n",
       "      <td>1443</td>\n",
       "      <td>no</td>\n",
       "      <td>no</td>\n",
       "      <td>cellular</td>\n",
       "      <td>18</td>\n",
       "      <td>feb</td>\n",
       "      <td>172</td>\n",
       "      <td>10</td>\n",
       "      <td>-1</td>\n",
       "      <td>0</td>\n",
       "      <td>unknown</td>\n",
       "      <td>1</td>\n",
       "    </tr>\n",
       "    <tr>\n",
       "      <th>2</th>\n",
       "      <td>3</td>\n",
       "      <td>36</td>\n",
       "      <td>management</td>\n",
       "      <td>single</td>\n",
       "      <td>tertiary</td>\n",
       "      <td>no</td>\n",
       "      <td>436</td>\n",
       "      <td>no</td>\n",
       "      <td>no</td>\n",
       "      <td>cellular</td>\n",
       "      <td>13</td>\n",
       "      <td>apr</td>\n",
       "      <td>567</td>\n",
       "      <td>1</td>\n",
       "      <td>595</td>\n",
       "      <td>2</td>\n",
       "      <td>failure</td>\n",
       "      <td>1</td>\n",
       "    </tr>\n",
       "  </tbody>\n",
       "</table>\n",
       "</div>"
      ],
      "text/plain": [
       "   id  age           job  marital  education default  balance housing loan  \\\n",
       "0   1   39   blue-collar  married  secondary      no     1756     yes   no   \n",
       "1   2   51  entrepreneur  married    primary      no     1443      no   no   \n",
       "2   3   36    management   single   tertiary      no      436      no   no   \n",
       "\n",
       "    contact  day month  duration  campaign  pdays  previous poutcome  y  \n",
       "0  cellular    3   apr       939         1     -1         0  unknown  1  \n",
       "1  cellular   18   feb       172        10     -1         0  unknown  1  \n",
       "2  cellular   13   apr       567         1    595         2  failure  1  "
      ]
     },
     "execution_count": 3,
     "metadata": {},
     "output_type": "execute_result"
    }
   ],
   "source": [
    "train.head(3)"
   ]
  },
  {
   "cell_type": "code",
   "execution_count": 4,
   "id": "e723b357-8941-4e4f-8c59-85a7f86fe9d6",
   "metadata": {},
   "outputs": [
    {
     "data": {
      "text/html": [
       "<div>\n",
       "<style scoped>\n",
       "    .dataframe tbody tr th:only-of-type {\n",
       "        vertical-align: middle;\n",
       "    }\n",
       "\n",
       "    .dataframe tbody tr th {\n",
       "        vertical-align: top;\n",
       "    }\n",
       "\n",
       "    .dataframe thead th {\n",
       "        text-align: right;\n",
       "    }\n",
       "</style>\n",
       "<table border=\"1\" class=\"dataframe\">\n",
       "  <thead>\n",
       "    <tr style=\"text-align: right;\">\n",
       "      <th></th>\n",
       "      <th>id</th>\n",
       "      <th>age</th>\n",
       "      <th>job</th>\n",
       "      <th>marital</th>\n",
       "      <th>education</th>\n",
       "      <th>default</th>\n",
       "      <th>balance</th>\n",
       "      <th>housing</th>\n",
       "      <th>loan</th>\n",
       "      <th>contact</th>\n",
       "      <th>day</th>\n",
       "      <th>month</th>\n",
       "      <th>duration</th>\n",
       "      <th>campaign</th>\n",
       "      <th>pdays</th>\n",
       "      <th>previous</th>\n",
       "      <th>poutcome</th>\n",
       "    </tr>\n",
       "  </thead>\n",
       "  <tbody>\n",
       "    <tr>\n",
       "      <th>0</th>\n",
       "      <td>1</td>\n",
       "      <td>30</td>\n",
       "      <td>management</td>\n",
       "      <td>single</td>\n",
       "      <td>tertiary</td>\n",
       "      <td>no</td>\n",
       "      <td>1028</td>\n",
       "      <td>no</td>\n",
       "      <td>no</td>\n",
       "      <td>cellular</td>\n",
       "      <td>4</td>\n",
       "      <td>feb</td>\n",
       "      <td>1294</td>\n",
       "      <td>2</td>\n",
       "      <td>-1</td>\n",
       "      <td>0</td>\n",
       "      <td>unknown</td>\n",
       "    </tr>\n",
       "    <tr>\n",
       "      <th>1</th>\n",
       "      <td>2</td>\n",
       "      <td>39</td>\n",
       "      <td>self-employed</td>\n",
       "      <td>single</td>\n",
       "      <td>tertiary</td>\n",
       "      <td>no</td>\n",
       "      <td>426</td>\n",
       "      <td>no</td>\n",
       "      <td>no</td>\n",
       "      <td>unknown</td>\n",
       "      <td>18</td>\n",
       "      <td>jun</td>\n",
       "      <td>1029</td>\n",
       "      <td>1</td>\n",
       "      <td>-1</td>\n",
       "      <td>0</td>\n",
       "      <td>unknown</td>\n",
       "    </tr>\n",
       "    <tr>\n",
       "      <th>2</th>\n",
       "      <td>3</td>\n",
       "      <td>38</td>\n",
       "      <td>technician</td>\n",
       "      <td>single</td>\n",
       "      <td>tertiary</td>\n",
       "      <td>no</td>\n",
       "      <td>-572</td>\n",
       "      <td>yes</td>\n",
       "      <td>yes</td>\n",
       "      <td>unknown</td>\n",
       "      <td>5</td>\n",
       "      <td>jun</td>\n",
       "      <td>26</td>\n",
       "      <td>24</td>\n",
       "      <td>-1</td>\n",
       "      <td>0</td>\n",
       "      <td>unknown</td>\n",
       "    </tr>\n",
       "  </tbody>\n",
       "</table>\n",
       "</div>"
      ],
      "text/plain": [
       "   id  age            job marital education default  balance housing loan  \\\n",
       "0   1   30     management  single  tertiary      no     1028      no   no   \n",
       "1   2   39  self-employed  single  tertiary      no      426      no   no   \n",
       "2   3   38     technician  single  tertiary      no     -572     yes  yes   \n",
       "\n",
       "    contact  day month  duration  campaign  pdays  previous poutcome  \n",
       "0  cellular    4   feb      1294         2     -1         0  unknown  \n",
       "1   unknown   18   jun      1029         1     -1         0  unknown  \n",
       "2   unknown    5   jun        26        24     -1         0  unknown  "
      ]
     },
     "execution_count": 4,
     "metadata": {},
     "output_type": "execute_result"
    }
   ],
   "source": [
    "test.head(3)"
   ]
  },
  {
   "cell_type": "code",
   "execution_count": 5,
   "id": "69f49397-9798-47f8-88d4-693d90978908",
   "metadata": {},
   "outputs": [
    {
     "data": {
      "text/html": [
       "<div>\n",
       "<style scoped>\n",
       "    .dataframe tbody tr th:only-of-type {\n",
       "        vertical-align: middle;\n",
       "    }\n",
       "\n",
       "    .dataframe tbody tr th {\n",
       "        vertical-align: top;\n",
       "    }\n",
       "\n",
       "    .dataframe thead th {\n",
       "        text-align: right;\n",
       "    }\n",
       "</style>\n",
       "<table border=\"1\" class=\"dataframe\">\n",
       "  <thead>\n",
       "    <tr style=\"text-align: right;\">\n",
       "      <th></th>\n",
       "      <th>0</th>\n",
       "      <th>1</th>\n",
       "    </tr>\n",
       "  </thead>\n",
       "  <tbody>\n",
       "    <tr>\n",
       "      <th>0</th>\n",
       "      <td>1</td>\n",
       "      <td>0.236</td>\n",
       "    </tr>\n",
       "    <tr>\n",
       "      <th>1</th>\n",
       "      <td>2</td>\n",
       "      <td>0.128</td>\n",
       "    </tr>\n",
       "    <tr>\n",
       "      <th>2</th>\n",
       "      <td>3</td>\n",
       "      <td>0.903</td>\n",
       "    </tr>\n",
       "  </tbody>\n",
       "</table>\n",
       "</div>"
      ],
      "text/plain": [
       "   0      1\n",
       "0  1  0.236\n",
       "1  2  0.128\n",
       "2  3  0.903"
      ]
     },
     "execution_count": 5,
     "metadata": {},
     "output_type": "execute_result"
    }
   ],
   "source": [
    "sample.head(3)"
   ]
  },
  {
   "cell_type": "code",
   "execution_count": 6,
   "id": "af70402f-a5df-4557-b8ee-786904c5dadf",
   "metadata": {},
   "outputs": [
    {
     "name": "stdout",
     "output_type": "stream",
     "text": [
      "(27128, 18)\n",
      "(18083, 17)\n",
      "(18083, 2)\n"
     ]
    }
   ],
   "source": [
    "print(train.shape)\n",
    "print(test.shape)\n",
    "print(sample.shape)"
   ]
  },
  {
   "cell_type": "code",
   "execution_count": 7,
   "id": "9a36e123-e29c-49d8-8473-5d4a78592f97",
   "metadata": {},
   "outputs": [
    {
     "data": {
      "text/html": [
       "<div>\n",
       "<style scoped>\n",
       "    .dataframe tbody tr th:only-of-type {\n",
       "        vertical-align: middle;\n",
       "    }\n",
       "\n",
       "    .dataframe tbody tr th {\n",
       "        vertical-align: top;\n",
       "    }\n",
       "\n",
       "    .dataframe thead th {\n",
       "        text-align: right;\n",
       "    }\n",
       "</style>\n",
       "<table border=\"1\" class=\"dataframe\">\n",
       "  <thead>\n",
       "    <tr style=\"text-align: right;\">\n",
       "      <th></th>\n",
       "      <th>id</th>\n",
       "      <th>age</th>\n",
       "      <th>balance</th>\n",
       "      <th>day</th>\n",
       "      <th>duration</th>\n",
       "      <th>campaign</th>\n",
       "      <th>pdays</th>\n",
       "      <th>previous</th>\n",
       "      <th>y</th>\n",
       "    </tr>\n",
       "  </thead>\n",
       "  <tbody>\n",
       "    <tr>\n",
       "      <th>count</th>\n",
       "      <td>27128.000000</td>\n",
       "      <td>27128.000000</td>\n",
       "      <td>27128.000000</td>\n",
       "      <td>27128.000000</td>\n",
       "      <td>27128.000000</td>\n",
       "      <td>27128.000000</td>\n",
       "      <td>27128.000000</td>\n",
       "      <td>27128.000000</td>\n",
       "      <td>27128.000000</td>\n",
       "    </tr>\n",
       "    <tr>\n",
       "      <th>mean</th>\n",
       "      <td>13564.500000</td>\n",
       "      <td>40.951010</td>\n",
       "      <td>1355.800870</td>\n",
       "      <td>15.806215</td>\n",
       "      <td>260.711295</td>\n",
       "      <td>2.751769</td>\n",
       "      <td>40.528052</td>\n",
       "      <td>0.579733</td>\n",
       "      <td>0.117001</td>\n",
       "    </tr>\n",
       "    <tr>\n",
       "      <th>std</th>\n",
       "      <td>7831.323388</td>\n",
       "      <td>10.608542</td>\n",
       "      <td>3003.305272</td>\n",
       "      <td>8.337904</td>\n",
       "      <td>260.091727</td>\n",
       "      <td>3.126594</td>\n",
       "      <td>100.382462</td>\n",
       "      <td>2.503653</td>\n",
       "      <td>0.321427</td>\n",
       "    </tr>\n",
       "    <tr>\n",
       "      <th>min</th>\n",
       "      <td>1.000000</td>\n",
       "      <td>18.000000</td>\n",
       "      <td>-6847.000000</td>\n",
       "      <td>1.000000</td>\n",
       "      <td>0.000000</td>\n",
       "      <td>1.000000</td>\n",
       "      <td>-1.000000</td>\n",
       "      <td>0.000000</td>\n",
       "      <td>0.000000</td>\n",
       "    </tr>\n",
       "    <tr>\n",
       "      <th>25%</th>\n",
       "      <td>6782.750000</td>\n",
       "      <td>33.000000</td>\n",
       "      <td>72.000000</td>\n",
       "      <td>8.000000</td>\n",
       "      <td>104.000000</td>\n",
       "      <td>1.000000</td>\n",
       "      <td>-1.000000</td>\n",
       "      <td>0.000000</td>\n",
       "      <td>0.000000</td>\n",
       "    </tr>\n",
       "    <tr>\n",
       "      <th>50%</th>\n",
       "      <td>13564.500000</td>\n",
       "      <td>39.000000</td>\n",
       "      <td>449.000000</td>\n",
       "      <td>16.000000</td>\n",
       "      <td>182.000000</td>\n",
       "      <td>2.000000</td>\n",
       "      <td>-1.000000</td>\n",
       "      <td>0.000000</td>\n",
       "      <td>0.000000</td>\n",
       "    </tr>\n",
       "    <tr>\n",
       "      <th>75%</th>\n",
       "      <td>20346.250000</td>\n",
       "      <td>48.000000</td>\n",
       "      <td>1428.000000</td>\n",
       "      <td>21.000000</td>\n",
       "      <td>323.000000</td>\n",
       "      <td>3.000000</td>\n",
       "      <td>-1.000000</td>\n",
       "      <td>0.000000</td>\n",
       "      <td>0.000000</td>\n",
       "    </tr>\n",
       "    <tr>\n",
       "      <th>max</th>\n",
       "      <td>27128.000000</td>\n",
       "      <td>95.000000</td>\n",
       "      <td>102127.000000</td>\n",
       "      <td>31.000000</td>\n",
       "      <td>4918.000000</td>\n",
       "      <td>63.000000</td>\n",
       "      <td>871.000000</td>\n",
       "      <td>275.000000</td>\n",
       "      <td>1.000000</td>\n",
       "    </tr>\n",
       "  </tbody>\n",
       "</table>\n",
       "</div>"
      ],
      "text/plain": [
       "                 id           age        balance           day      duration  \\\n",
       "count  27128.000000  27128.000000   27128.000000  27128.000000  27128.000000   \n",
       "mean   13564.500000     40.951010    1355.800870     15.806215    260.711295   \n",
       "std     7831.323388     10.608542    3003.305272      8.337904    260.091727   \n",
       "min        1.000000     18.000000   -6847.000000      1.000000      0.000000   \n",
       "25%     6782.750000     33.000000      72.000000      8.000000    104.000000   \n",
       "50%    13564.500000     39.000000     449.000000     16.000000    182.000000   \n",
       "75%    20346.250000     48.000000    1428.000000     21.000000    323.000000   \n",
       "max    27128.000000     95.000000  102127.000000     31.000000   4918.000000   \n",
       "\n",
       "           campaign         pdays      previous             y  \n",
       "count  27128.000000  27128.000000  27128.000000  27128.000000  \n",
       "mean       2.751769     40.528052      0.579733      0.117001  \n",
       "std        3.126594    100.382462      2.503653      0.321427  \n",
       "min        1.000000     -1.000000      0.000000      0.000000  \n",
       "25%        1.000000     -1.000000      0.000000      0.000000  \n",
       "50%        2.000000     -1.000000      0.000000      0.000000  \n",
       "75%        3.000000     -1.000000      0.000000      0.000000  \n",
       "max       63.000000    871.000000    275.000000      1.000000  "
      ]
     },
     "execution_count": 7,
     "metadata": {},
     "output_type": "execute_result"
    }
   ],
   "source": [
    "train.describe()"
   ]
  },
  {
   "cell_type": "code",
   "execution_count": 8,
   "id": "4a95b191-7c59-4bcc-abc0-d33167b8f2ba",
   "metadata": {},
   "outputs": [
    {
     "data": {
      "text/html": [
       "<div>\n",
       "<style scoped>\n",
       "    .dataframe tbody tr th:only-of-type {\n",
       "        vertical-align: middle;\n",
       "    }\n",
       "\n",
       "    .dataframe tbody tr th {\n",
       "        vertical-align: top;\n",
       "    }\n",
       "\n",
       "    .dataframe thead th {\n",
       "        text-align: right;\n",
       "    }\n",
       "</style>\n",
       "<table border=\"1\" class=\"dataframe\">\n",
       "  <thead>\n",
       "    <tr style=\"text-align: right;\">\n",
       "      <th></th>\n",
       "      <th>id</th>\n",
       "      <th>age</th>\n",
       "      <th>balance</th>\n",
       "      <th>day</th>\n",
       "      <th>duration</th>\n",
       "      <th>campaign</th>\n",
       "      <th>pdays</th>\n",
       "      <th>previous</th>\n",
       "    </tr>\n",
       "  </thead>\n",
       "  <tbody>\n",
       "    <tr>\n",
       "      <th>count</th>\n",
       "      <td>18083.000000</td>\n",
       "      <td>18083.000000</td>\n",
       "      <td>18083.000000</td>\n",
       "      <td>18083.000000</td>\n",
       "      <td>18083.000000</td>\n",
       "      <td>18083.000000</td>\n",
       "      <td>18083.000000</td>\n",
       "      <td>18083.000000</td>\n",
       "    </tr>\n",
       "    <tr>\n",
       "      <th>mean</th>\n",
       "      <td>9042.000000</td>\n",
       "      <td>40.914008</td>\n",
       "      <td>1371.980092</td>\n",
       "      <td>15.806725</td>\n",
       "      <td>254.340264</td>\n",
       "      <td>2.781950</td>\n",
       "      <td>39.702428</td>\n",
       "      <td>0.581209</td>\n",
       "    </tr>\n",
       "    <tr>\n",
       "      <th>std</th>\n",
       "      <td>5220.256794</td>\n",
       "      <td>10.634331</td>\n",
       "      <td>3105.985293</td>\n",
       "      <td>8.299509</td>\n",
       "      <td>253.591981</td>\n",
       "      <td>3.054651</td>\n",
       "      <td>99.747634</td>\n",
       "      <td>1.965265</td>\n",
       "    </tr>\n",
       "    <tr>\n",
       "      <th>min</th>\n",
       "      <td>1.000000</td>\n",
       "      <td>18.000000</td>\n",
       "      <td>-8019.000000</td>\n",
       "      <td>1.000000</td>\n",
       "      <td>0.000000</td>\n",
       "      <td>1.000000</td>\n",
       "      <td>-1.000000</td>\n",
       "      <td>0.000000</td>\n",
       "    </tr>\n",
       "    <tr>\n",
       "      <th>25%</th>\n",
       "      <td>4521.500000</td>\n",
       "      <td>33.000000</td>\n",
       "      <td>72.000000</td>\n",
       "      <td>8.000000</td>\n",
       "      <td>102.000000</td>\n",
       "      <td>1.000000</td>\n",
       "      <td>-1.000000</td>\n",
       "      <td>0.000000</td>\n",
       "    </tr>\n",
       "    <tr>\n",
       "      <th>50%</th>\n",
       "      <td>9042.000000</td>\n",
       "      <td>39.000000</td>\n",
       "      <td>447.000000</td>\n",
       "      <td>16.000000</td>\n",
       "      <td>178.000000</td>\n",
       "      <td>2.000000</td>\n",
       "      <td>-1.000000</td>\n",
       "      <td>0.000000</td>\n",
       "    </tr>\n",
       "    <tr>\n",
       "      <th>75%</th>\n",
       "      <td>13562.500000</td>\n",
       "      <td>48.000000</td>\n",
       "      <td>1427.000000</td>\n",
       "      <td>21.000000</td>\n",
       "      <td>314.000000</td>\n",
       "      <td>3.000000</td>\n",
       "      <td>-1.000000</td>\n",
       "      <td>0.000000</td>\n",
       "    </tr>\n",
       "    <tr>\n",
       "      <th>max</th>\n",
       "      <td>18083.000000</td>\n",
       "      <td>95.000000</td>\n",
       "      <td>98417.000000</td>\n",
       "      <td>31.000000</td>\n",
       "      <td>3881.000000</td>\n",
       "      <td>50.000000</td>\n",
       "      <td>854.000000</td>\n",
       "      <td>58.000000</td>\n",
       "    </tr>\n",
       "  </tbody>\n",
       "</table>\n",
       "</div>"
      ],
      "text/plain": [
       "                 id           age       balance           day      duration  \\\n",
       "count  18083.000000  18083.000000  18083.000000  18083.000000  18083.000000   \n",
       "mean    9042.000000     40.914008   1371.980092     15.806725    254.340264   \n",
       "std     5220.256794     10.634331   3105.985293      8.299509    253.591981   \n",
       "min        1.000000     18.000000  -8019.000000      1.000000      0.000000   \n",
       "25%     4521.500000     33.000000     72.000000      8.000000    102.000000   \n",
       "50%     9042.000000     39.000000    447.000000     16.000000    178.000000   \n",
       "75%    13562.500000     48.000000   1427.000000     21.000000    314.000000   \n",
       "max    18083.000000     95.000000  98417.000000     31.000000   3881.000000   \n",
       "\n",
       "           campaign         pdays      previous  \n",
       "count  18083.000000  18083.000000  18083.000000  \n",
       "mean       2.781950     39.702428      0.581209  \n",
       "std        3.054651     99.747634      1.965265  \n",
       "min        1.000000     -1.000000      0.000000  \n",
       "25%        1.000000     -1.000000      0.000000  \n",
       "50%        2.000000     -1.000000      0.000000  \n",
       "75%        3.000000     -1.000000      0.000000  \n",
       "max       50.000000    854.000000     58.000000  "
      ]
     },
     "execution_count": 8,
     "metadata": {},
     "output_type": "execute_result"
    }
   ],
   "source": [
    "test.describe()"
   ]
  },
  {
   "cell_type": "code",
   "execution_count": 9,
   "id": "77a48b66-0c54-4bc8-8a86-a443a30cb006",
   "metadata": {},
   "outputs": [
    {
     "data": {
      "text/plain": [
       "id           0\n",
       "age          0\n",
       "job          0\n",
       "marital      0\n",
       "education    0\n",
       "default      0\n",
       "balance      0\n",
       "housing      0\n",
       "loan         0\n",
       "contact      0\n",
       "day          0\n",
       "month        0\n",
       "duration     0\n",
       "campaign     0\n",
       "pdays        0\n",
       "previous     0\n",
       "poutcome     0\n",
       "y            0\n",
       "dtype: int64"
      ]
     },
     "execution_count": 9,
     "metadata": {},
     "output_type": "execute_result"
    }
   ],
   "source": [
    "train.isnull().sum()"
   ]
  },
  {
   "cell_type": "code",
   "execution_count": 10,
   "id": "6508b300-bcc0-45a5-8236-fa266a85691c",
   "metadata": {},
   "outputs": [
    {
     "data": {
      "text/plain": [
       "id           0\n",
       "age          0\n",
       "job          0\n",
       "marital      0\n",
       "education    0\n",
       "default      0\n",
       "balance      0\n",
       "housing      0\n",
       "loan         0\n",
       "contact      0\n",
       "day          0\n",
       "month        0\n",
       "duration     0\n",
       "campaign     0\n",
       "pdays        0\n",
       "previous     0\n",
       "poutcome     0\n",
       "dtype: int64"
      ]
     },
     "execution_count": 10,
     "metadata": {},
     "output_type": "execute_result"
    }
   ],
   "source": [
    "test.isnull().sum()"
   ]
  },
  {
   "cell_type": "code",
   "execution_count": 11,
   "id": "3a7868f9-5620-47b6-b258-3b20e26066e5",
   "metadata": {},
   "outputs": [
    {
     "data": {
      "text/plain": [
       "0    23954\n",
       "1     3174\n",
       "Name: y, dtype: int64"
      ]
     },
     "execution_count": 11,
     "metadata": {},
     "output_type": "execute_result"
    }
   ],
   "source": [
    "#定額預金申し込み有無(1:有り、0:無し)\n",
    "train[\"y\"].value_counts()"
   ]
  },
  {
   "cell_type": "code",
   "execution_count": 12,
   "id": "e923ea30-816c-423e-97ad-a1b63abc9aaa",
   "metadata": {},
   "outputs": [
    {
     "data": {
      "text/html": [
       "<div>\n",
       "<style scoped>\n",
       "    .dataframe tbody tr th:only-of-type {\n",
       "        vertical-align: middle;\n",
       "    }\n",
       "\n",
       "    .dataframe tbody tr th {\n",
       "        vertical-align: top;\n",
       "    }\n",
       "\n",
       "    .dataframe thead th {\n",
       "        text-align: right;\n",
       "    }\n",
       "</style>\n",
       "<table border=\"1\" class=\"dataframe\">\n",
       "  <thead>\n",
       "    <tr style=\"text-align: right;\">\n",
       "      <th>y</th>\n",
       "      <th>0</th>\n",
       "      <th>1</th>\n",
       "      <th>All</th>\n",
       "    </tr>\n",
       "    <tr>\n",
       "      <th>marital</th>\n",
       "      <th></th>\n",
       "      <th></th>\n",
       "      <th></th>\n",
       "    </tr>\n",
       "  </thead>\n",
       "  <tbody>\n",
       "    <tr>\n",
       "      <th>divorced</th>\n",
       "      <td>2691</td>\n",
       "      <td>364</td>\n",
       "      <td>3055</td>\n",
       "    </tr>\n",
       "    <tr>\n",
       "      <th>married</th>\n",
       "      <td>14744</td>\n",
       "      <td>1667</td>\n",
       "      <td>16411</td>\n",
       "    </tr>\n",
       "    <tr>\n",
       "      <th>single</th>\n",
       "      <td>6519</td>\n",
       "      <td>1143</td>\n",
       "      <td>7662</td>\n",
       "    </tr>\n",
       "    <tr>\n",
       "      <th>All</th>\n",
       "      <td>23954</td>\n",
       "      <td>3174</td>\n",
       "      <td>27128</td>\n",
       "    </tr>\n",
       "  </tbody>\n",
       "</table>\n",
       "</div>"
      ],
      "text/plain": [
       "y             0     1    All\n",
       "marital                     \n",
       "divorced   2691   364   3055\n",
       "married   14744  1667  16411\n",
       "single     6519  1143   7662\n",
       "All       23954  3174  27128"
      ]
     },
     "execution_count": 12,
     "metadata": {},
     "output_type": "execute_result"
    }
   ],
   "source": [
    "pd.crosstab(train[\"marital\"], train[\"y\"], margins=True)"
   ]
  },
  {
   "cell_type": "code",
   "execution_count": 13,
   "id": "ef18c08a-1b37-42d1-8f5e-99ad700cbda5",
   "metadata": {},
   "outputs": [
    {
     "data": {
      "text/plain": [
       "count    27128.000000\n",
       "mean        40.951010\n",
       "std         10.608542\n",
       "min         18.000000\n",
       "25%         33.000000\n",
       "50%         39.000000\n",
       "75%         48.000000\n",
       "max         95.000000\n",
       "Name: age, dtype: float64"
      ]
     },
     "execution_count": 13,
     "metadata": {},
     "output_type": "execute_result"
    }
   ],
   "source": [
    "train[\"age\"].describe()"
   ]
  },
  {
   "cell_type": "code",
   "execution_count": 14,
   "id": "f377e72d-6f93-4630-ac44-0f81309fcf97",
   "metadata": {},
   "outputs": [],
   "source": [
    "age_bining = pd.cut(train[\"age\"],[0, 20, 30, 40, 50, 60, 100])"
   ]
  },
  {
   "cell_type": "code",
   "execution_count": 15,
   "id": "a4aeb38c-0abc-4e31-8bd4-c6848b0ed076",
   "metadata": {},
   "outputs": [
    {
     "data": {
      "text/plain": [
       "0         (30, 40]\n",
       "1         (50, 60]\n",
       "2         (30, 40]\n",
       "3        (60, 100]\n",
       "4         (30, 40]\n",
       "           ...    \n",
       "27123     (40, 50]\n",
       "27124     (30, 40]\n",
       "27125     (30, 40]\n",
       "27126     (30, 40]\n",
       "27127     (20, 30]\n",
       "Name: age, Length: 27128, dtype: category\n",
       "Categories (6, interval[int64, right]): [(0, 20] < (20, 30] < (30, 40] < (40, 50] < (50, 60] < (60, 100]]"
      ]
     },
     "execution_count": 15,
     "metadata": {},
     "output_type": "execute_result"
    }
   ],
   "source": [
    "age_bining"
   ]
  },
  {
   "cell_type": "code",
   "execution_count": 16,
   "id": "559bc7b9-6cdf-4116-a46a-278db761df91",
   "metadata": {},
   "outputs": [
    {
     "data": {
      "text/html": [
       "<div>\n",
       "<style scoped>\n",
       "    .dataframe tbody tr th:only-of-type {\n",
       "        vertical-align: middle;\n",
       "    }\n",
       "\n",
       "    .dataframe tbody tr th {\n",
       "        vertical-align: top;\n",
       "    }\n",
       "\n",
       "    .dataframe thead th {\n",
       "        text-align: right;\n",
       "    }\n",
       "</style>\n",
       "<table border=\"1\" class=\"dataframe\">\n",
       "  <thead>\n",
       "    <tr style=\"text-align: right;\">\n",
       "      <th>y</th>\n",
       "      <th>0</th>\n",
       "      <th>1</th>\n",
       "      <th>All</th>\n",
       "    </tr>\n",
       "    <tr>\n",
       "      <th>age</th>\n",
       "      <th></th>\n",
       "      <th></th>\n",
       "      <th></th>\n",
       "    </tr>\n",
       "  </thead>\n",
       "  <tbody>\n",
       "    <tr>\n",
       "      <th>(0, 20]</th>\n",
       "      <td>39</td>\n",
       "      <td>21</td>\n",
       "      <td>60</td>\n",
       "    </tr>\n",
       "    <tr>\n",
       "      <th>(20, 30]</th>\n",
       "      <td>3486</td>\n",
       "      <td>655</td>\n",
       "      <td>4141</td>\n",
       "    </tr>\n",
       "    <tr>\n",
       "      <th>(30, 40]</th>\n",
       "      <td>9488</td>\n",
       "      <td>1111</td>\n",
       "      <td>10599</td>\n",
       "    </tr>\n",
       "    <tr>\n",
       "      <th>(40, 50]</th>\n",
       "      <td>6117</td>\n",
       "      <td>602</td>\n",
       "      <td>6719</td>\n",
       "    </tr>\n",
       "    <tr>\n",
       "      <th>(50, 60]</th>\n",
       "      <td>4416</td>\n",
       "      <td>488</td>\n",
       "      <td>4904</td>\n",
       "    </tr>\n",
       "    <tr>\n",
       "      <th>(60, 100]</th>\n",
       "      <td>408</td>\n",
       "      <td>297</td>\n",
       "      <td>705</td>\n",
       "    </tr>\n",
       "    <tr>\n",
       "      <th>All</th>\n",
       "      <td>23954</td>\n",
       "      <td>3174</td>\n",
       "      <td>27128</td>\n",
       "    </tr>\n",
       "  </tbody>\n",
       "</table>\n",
       "</div>"
      ],
      "text/plain": [
       "y              0     1    All\n",
       "age                          \n",
       "(0, 20]       39    21     60\n",
       "(20, 30]    3486   655   4141\n",
       "(30, 40]    9488  1111  10599\n",
       "(40, 50]    6117   602   6719\n",
       "(50, 60]    4416   488   4904\n",
       "(60, 100]    408   297    705\n",
       "All        23954  3174  27128"
      ]
     },
     "execution_count": 16,
     "metadata": {},
     "output_type": "execute_result"
    }
   ],
   "source": [
    "pd.crosstab(age_bining, train[\"y\"], margins=True)"
   ]
  },
  {
   "cell_type": "code",
   "execution_count": 17,
   "id": "3ee7bc9f-38ce-403b-855a-b1f064459e2e",
   "metadata": {},
   "outputs": [
    {
     "name": "stdout",
     "output_type": "stream",
     "text": [
      "<class 'pandas.core.frame.DataFrame'>\n",
      "RangeIndex: 27128 entries, 0 to 27127\n",
      "Data columns (total 18 columns):\n",
      " #   Column     Non-Null Count  Dtype \n",
      "---  ------     --------------  ----- \n",
      " 0   id         27128 non-null  int64 \n",
      " 1   age        27128 non-null  int64 \n",
      " 2   job        27128 non-null  object\n",
      " 3   marital    27128 non-null  object\n",
      " 4   education  27128 non-null  object\n",
      " 5   default    27128 non-null  object\n",
      " 6   balance    27128 non-null  int64 \n",
      " 7   housing    27128 non-null  object\n",
      " 8   loan       27128 non-null  object\n",
      " 9   contact    27128 non-null  object\n",
      " 10  day        27128 non-null  int64 \n",
      " 11  month      27128 non-null  object\n",
      " 12  duration   27128 non-null  int64 \n",
      " 13  campaign   27128 non-null  int64 \n",
      " 14  pdays      27128 non-null  int64 \n",
      " 15  previous   27128 non-null  int64 \n",
      " 16  poutcome   27128 non-null  object\n",
      " 17  y          27128 non-null  int64 \n",
      "dtypes: int64(9), object(9)\n",
      "memory usage: 3.7+ MB\n"
     ]
    }
   ],
   "source": [
    "train.info()"
   ]
  },
  {
   "cell_type": "code",
   "execution_count": 18,
   "id": "9c851e10-ade3-44b8-9827-791ec1674ba9",
   "metadata": {},
   "outputs": [
    {
     "name": "stdout",
     "output_type": "stream",
     "text": [
      "<class 'pandas.core.frame.DataFrame'>\n",
      "RangeIndex: 18083 entries, 0 to 18082\n",
      "Data columns (total 17 columns):\n",
      " #   Column     Non-Null Count  Dtype \n",
      "---  ------     --------------  ----- \n",
      " 0   id         18083 non-null  int64 \n",
      " 1   age        18083 non-null  int64 \n",
      " 2   job        18083 non-null  object\n",
      " 3   marital    18083 non-null  object\n",
      " 4   education  18083 non-null  object\n",
      " 5   default    18083 non-null  object\n",
      " 6   balance    18083 non-null  int64 \n",
      " 7   housing    18083 non-null  object\n",
      " 8   loan       18083 non-null  object\n",
      " 9   contact    18083 non-null  object\n",
      " 10  day        18083 non-null  int64 \n",
      " 11  month      18083 non-null  object\n",
      " 12  duration   18083 non-null  int64 \n",
      " 13  campaign   18083 non-null  int64 \n",
      " 14  pdays      18083 non-null  int64 \n",
      " 15  previous   18083 non-null  int64 \n",
      " 16  poutcome   18083 non-null  object\n",
      "dtypes: int64(8), object(9)\n",
      "memory usage: 2.3+ MB\n"
     ]
    }
   ],
   "source": [
    "test.info()"
   ]
  },
  {
   "cell_type": "code",
   "execution_count": 19,
   "id": "572ff77c-7751-4a0b-852b-cb9691af5d7b",
   "metadata": {},
   "outputs": [],
   "source": [
    "pout = pd.crosstab(train[\"poutcome\"],train[\"y\"], margins=True)"
   ]
  },
  {
   "cell_type": "code",
   "execution_count": 20,
   "id": "0508308c-f2e8-4d17-af67-d8c9963cd1f3",
   "metadata": {},
   "outputs": [
    {
     "data": {
      "text/html": [
       "<div>\n",
       "<style scoped>\n",
       "    .dataframe tbody tr th:only-of-type {\n",
       "        vertical-align: middle;\n",
       "    }\n",
       "\n",
       "    .dataframe tbody tr th {\n",
       "        vertical-align: top;\n",
       "    }\n",
       "\n",
       "    .dataframe thead th {\n",
       "        text-align: right;\n",
       "    }\n",
       "</style>\n",
       "<table border=\"1\" class=\"dataframe\">\n",
       "  <thead>\n",
       "    <tr style=\"text-align: right;\">\n",
       "      <th>y</th>\n",
       "      <th>0</th>\n",
       "      <th>1</th>\n",
       "      <th>All</th>\n",
       "    </tr>\n",
       "    <tr>\n",
       "      <th>poutcome</th>\n",
       "      <th></th>\n",
       "      <th></th>\n",
       "      <th></th>\n",
       "    </tr>\n",
       "  </thead>\n",
       "  <tbody>\n",
       "    <tr>\n",
       "      <th>failure</th>\n",
       "      <td>2578</td>\n",
       "      <td>391</td>\n",
       "      <td>2969</td>\n",
       "    </tr>\n",
       "    <tr>\n",
       "      <th>other</th>\n",
       "      <td>950</td>\n",
       "      <td>173</td>\n",
       "      <td>1123</td>\n",
       "    </tr>\n",
       "    <tr>\n",
       "      <th>success</th>\n",
       "      <td>312</td>\n",
       "      <td>574</td>\n",
       "      <td>886</td>\n",
       "    </tr>\n",
       "    <tr>\n",
       "      <th>unknown</th>\n",
       "      <td>20114</td>\n",
       "      <td>2036</td>\n",
       "      <td>22150</td>\n",
       "    </tr>\n",
       "    <tr>\n",
       "      <th>All</th>\n",
       "      <td>23954</td>\n",
       "      <td>3174</td>\n",
       "      <td>27128</td>\n",
       "    </tr>\n",
       "  </tbody>\n",
       "</table>\n",
       "</div>"
      ],
      "text/plain": [
       "y             0     1    All\n",
       "poutcome                    \n",
       "failure    2578   391   2969\n",
       "other       950   173   1123\n",
       "success     312   574    886\n",
       "unknown   20114  2036  22150\n",
       "All       23954  3174  27128"
      ]
     },
     "execution_count": 20,
     "metadata": {},
     "output_type": "execute_result"
    }
   ],
   "source": [
    "pout"
   ]
  },
  {
   "cell_type": "code",
   "execution_count": 21,
   "id": "bcfc57e9-0afc-47d8-919e-53f54932ed3c",
   "metadata": {},
   "outputs": [],
   "source": [
    "pout[\"rate\"] = pout[1] / pout[\"All\"]"
   ]
  },
  {
   "cell_type": "code",
   "execution_count": 22,
   "id": "e3a8f9bc-8a26-4b1d-808e-a3e48d9d474e",
   "metadata": {},
   "outputs": [
    {
     "data": {
      "text/html": [
       "<div>\n",
       "<style scoped>\n",
       "    .dataframe tbody tr th:only-of-type {\n",
       "        vertical-align: middle;\n",
       "    }\n",
       "\n",
       "    .dataframe tbody tr th {\n",
       "        vertical-align: top;\n",
       "    }\n",
       "\n",
       "    .dataframe thead th {\n",
       "        text-align: right;\n",
       "    }\n",
       "</style>\n",
       "<table border=\"1\" class=\"dataframe\">\n",
       "  <thead>\n",
       "    <tr style=\"text-align: right;\">\n",
       "      <th>y</th>\n",
       "      <th>0</th>\n",
       "      <th>1</th>\n",
       "      <th>All</th>\n",
       "      <th>rate</th>\n",
       "    </tr>\n",
       "    <tr>\n",
       "      <th>poutcome</th>\n",
       "      <th></th>\n",
       "      <th></th>\n",
       "      <th></th>\n",
       "      <th></th>\n",
       "    </tr>\n",
       "  </thead>\n",
       "  <tbody>\n",
       "    <tr>\n",
       "      <th>failure</th>\n",
       "      <td>2578</td>\n",
       "      <td>391</td>\n",
       "      <td>2969</td>\n",
       "      <td>0.131694</td>\n",
       "    </tr>\n",
       "    <tr>\n",
       "      <th>other</th>\n",
       "      <td>950</td>\n",
       "      <td>173</td>\n",
       "      <td>1123</td>\n",
       "      <td>0.154052</td>\n",
       "    </tr>\n",
       "    <tr>\n",
       "      <th>success</th>\n",
       "      <td>312</td>\n",
       "      <td>574</td>\n",
       "      <td>886</td>\n",
       "      <td>0.647856</td>\n",
       "    </tr>\n",
       "    <tr>\n",
       "      <th>unknown</th>\n",
       "      <td>20114</td>\n",
       "      <td>2036</td>\n",
       "      <td>22150</td>\n",
       "      <td>0.091919</td>\n",
       "    </tr>\n",
       "    <tr>\n",
       "      <th>All</th>\n",
       "      <td>23954</td>\n",
       "      <td>3174</td>\n",
       "      <td>27128</td>\n",
       "      <td>0.117001</td>\n",
       "    </tr>\n",
       "  </tbody>\n",
       "</table>\n",
       "</div>"
      ],
      "text/plain": [
       "y             0     1    All      rate\n",
       "poutcome                              \n",
       "failure    2578   391   2969  0.131694\n",
       "other       950   173   1123  0.154052\n",
       "success     312   574    886  0.647856\n",
       "unknown   20114  2036  22150  0.091919\n",
       "All       23954  3174  27128  0.117001"
      ]
     },
     "execution_count": 22,
     "metadata": {},
     "output_type": "execute_result"
    }
   ],
   "source": [
    "pout"
   ]
  },
  {
   "cell_type": "code",
   "execution_count": 23,
   "id": "a1b1f890-50ee-4408-bd56-06f732f2acdb",
   "metadata": {},
   "outputs": [
    {
     "data": {
      "text/plain": [
       "count    27128.000000\n",
       "mean       260.711295\n",
       "std        260.091727\n",
       "min          0.000000\n",
       "25%        104.000000\n",
       "50%        182.000000\n",
       "75%        323.000000\n",
       "max       4918.000000\n",
       "Name: duration, dtype: float64"
      ]
     },
     "execution_count": 23,
     "metadata": {},
     "output_type": "execute_result"
    }
   ],
   "source": [
    "train[\"duration\"].describe()"
   ]
  },
  {
   "cell_type": "code",
   "execution_count": 24,
   "id": "8176fee9-8c1a-43db-a33d-f9817c09ba3d",
   "metadata": {},
   "outputs": [],
   "source": [
    "duration_bining = pd.cut(train[\"duration\"], [-1,100,200,300,400,500,600,700,800,900,1000,5000])"
   ]
  },
  {
   "cell_type": "code",
   "execution_count": 25,
   "id": "edf6c30f-c833-4dff-993f-0219a98a77ad",
   "metadata": {},
   "outputs": [
    {
     "data": {
      "text/plain": [
       "0        (900, 1000]\n",
       "1         (100, 200]\n",
       "2         (500, 600]\n",
       "3         (400, 500]\n",
       "4         (500, 600]\n",
       "            ...     \n",
       "27123     (200, 300]\n",
       "27124     (300, 400]\n",
       "27125     (400, 500]\n",
       "27126      (-1, 100]\n",
       "27127     (100, 200]\n",
       "Name: duration, Length: 27128, dtype: category\n",
       "Categories (11, interval[int64, right]): [(-1, 100] < (100, 200] < (200, 300] < (300, 400] ... (700, 800] < (800, 900] < (900, 1000] < (1000, 5000]]"
      ]
     },
     "execution_count": 25,
     "metadata": {},
     "output_type": "execute_result"
    }
   ],
   "source": [
    "duration_bining"
   ]
  },
  {
   "cell_type": "code",
   "execution_count": 26,
   "id": "b007a79f-a325-4d69-b92e-69f2a6373e4a",
   "metadata": {},
   "outputs": [],
   "source": [
    "dura = pd.crosstab(duration_bining, train[\"y\"], margins=True)"
   ]
  },
  {
   "cell_type": "code",
   "execution_count": 27,
   "id": "38f9098c-f260-47b3-97ef-40d0c6bb07f1",
   "metadata": {},
   "outputs": [
    {
     "data": {
      "text/html": [
       "<div>\n",
       "<style scoped>\n",
       "    .dataframe tbody tr th:only-of-type {\n",
       "        vertical-align: middle;\n",
       "    }\n",
       "\n",
       "    .dataframe tbody tr th {\n",
       "        vertical-align: top;\n",
       "    }\n",
       "\n",
       "    .dataframe thead th {\n",
       "        text-align: right;\n",
       "    }\n",
       "</style>\n",
       "<table border=\"1\" class=\"dataframe\">\n",
       "  <thead>\n",
       "    <tr style=\"text-align: right;\">\n",
       "      <th>y</th>\n",
       "      <th>0</th>\n",
       "      <th>1</th>\n",
       "      <th>All</th>\n",
       "    </tr>\n",
       "    <tr>\n",
       "      <th>duration</th>\n",
       "      <th></th>\n",
       "      <th></th>\n",
       "      <th></th>\n",
       "    </tr>\n",
       "  </thead>\n",
       "  <tbody>\n",
       "    <tr>\n",
       "      <th>(-1, 100]</th>\n",
       "      <td>6379</td>\n",
       "      <td>60</td>\n",
       "      <td>6439</td>\n",
       "    </tr>\n",
       "    <tr>\n",
       "      <th>(100, 200]</th>\n",
       "      <td>7909</td>\n",
       "      <td>450</td>\n",
       "      <td>8359</td>\n",
       "    </tr>\n",
       "    <tr>\n",
       "      <th>(200, 300]</th>\n",
       "      <td>4286</td>\n",
       "      <td>557</td>\n",
       "      <td>4843</td>\n",
       "    </tr>\n",
       "    <tr>\n",
       "      <th>(300, 400]</th>\n",
       "      <td>2258</td>\n",
       "      <td>408</td>\n",
       "      <td>2666</td>\n",
       "    </tr>\n",
       "    <tr>\n",
       "      <th>(400, 500]</th>\n",
       "      <td>1231</td>\n",
       "      <td>308</td>\n",
       "      <td>1539</td>\n",
       "    </tr>\n",
       "    <tr>\n",
       "      <th>(500, 600]</th>\n",
       "      <td>699</td>\n",
       "      <td>270</td>\n",
       "      <td>969</td>\n",
       "    </tr>\n",
       "    <tr>\n",
       "      <th>(600, 700]</th>\n",
       "      <td>441</td>\n",
       "      <td>259</td>\n",
       "      <td>700</td>\n",
       "    </tr>\n",
       "    <tr>\n",
       "      <th>(700, 800]</th>\n",
       "      <td>245</td>\n",
       "      <td>189</td>\n",
       "      <td>434</td>\n",
       "    </tr>\n",
       "    <tr>\n",
       "      <th>(800, 900]</th>\n",
       "      <td>149</td>\n",
       "      <td>153</td>\n",
       "      <td>302</td>\n",
       "    </tr>\n",
       "    <tr>\n",
       "      <th>(900, 1000]</th>\n",
       "      <td>95</td>\n",
       "      <td>123</td>\n",
       "      <td>218</td>\n",
       "    </tr>\n",
       "    <tr>\n",
       "      <th>(1000, 5000]</th>\n",
       "      <td>262</td>\n",
       "      <td>397</td>\n",
       "      <td>659</td>\n",
       "    </tr>\n",
       "    <tr>\n",
       "      <th>All</th>\n",
       "      <td>23954</td>\n",
       "      <td>3174</td>\n",
       "      <td>27128</td>\n",
       "    </tr>\n",
       "  </tbody>\n",
       "</table>\n",
       "</div>"
      ],
      "text/plain": [
       "y                 0     1    All\n",
       "duration                        \n",
       "(-1, 100]      6379    60   6439\n",
       "(100, 200]     7909   450   8359\n",
       "(200, 300]     4286   557   4843\n",
       "(300, 400]     2258   408   2666\n",
       "(400, 500]     1231   308   1539\n",
       "(500, 600]      699   270    969\n",
       "(600, 700]      441   259    700\n",
       "(700, 800]      245   189    434\n",
       "(800, 900]      149   153    302\n",
       "(900, 1000]      95   123    218\n",
       "(1000, 5000]    262   397    659\n",
       "All           23954  3174  27128"
      ]
     },
     "execution_count": 27,
     "metadata": {},
     "output_type": "execute_result"
    }
   ],
   "source": [
    "dura"
   ]
  },
  {
   "cell_type": "code",
   "execution_count": 28,
   "id": "d747ca17-c34c-4457-8282-5d926f9a254a",
   "metadata": {},
   "outputs": [],
   "source": [
    "dura[\"rate\"] = dura[1] / dura[\"All\"]"
   ]
  },
  {
   "cell_type": "code",
   "execution_count": 29,
   "id": "58c8b278-19f9-4edc-90f1-9e383ae680b4",
   "metadata": {},
   "outputs": [
    {
     "data": {
      "text/html": [
       "<div>\n",
       "<style scoped>\n",
       "    .dataframe tbody tr th:only-of-type {\n",
       "        vertical-align: middle;\n",
       "    }\n",
       "\n",
       "    .dataframe tbody tr th {\n",
       "        vertical-align: top;\n",
       "    }\n",
       "\n",
       "    .dataframe thead th {\n",
       "        text-align: right;\n",
       "    }\n",
       "</style>\n",
       "<table border=\"1\" class=\"dataframe\">\n",
       "  <thead>\n",
       "    <tr style=\"text-align: right;\">\n",
       "      <th>y</th>\n",
       "      <th>0</th>\n",
       "      <th>1</th>\n",
       "      <th>All</th>\n",
       "      <th>rate</th>\n",
       "    </tr>\n",
       "    <tr>\n",
       "      <th>duration</th>\n",
       "      <th></th>\n",
       "      <th></th>\n",
       "      <th></th>\n",
       "      <th></th>\n",
       "    </tr>\n",
       "  </thead>\n",
       "  <tbody>\n",
       "    <tr>\n",
       "      <th>(-1, 100]</th>\n",
       "      <td>6379</td>\n",
       "      <td>60</td>\n",
       "      <td>6439</td>\n",
       "      <td>0.009318</td>\n",
       "    </tr>\n",
       "    <tr>\n",
       "      <th>(100, 200]</th>\n",
       "      <td>7909</td>\n",
       "      <td>450</td>\n",
       "      <td>8359</td>\n",
       "      <td>0.053834</td>\n",
       "    </tr>\n",
       "    <tr>\n",
       "      <th>(200, 300]</th>\n",
       "      <td>4286</td>\n",
       "      <td>557</td>\n",
       "      <td>4843</td>\n",
       "      <td>0.115011</td>\n",
       "    </tr>\n",
       "    <tr>\n",
       "      <th>(300, 400]</th>\n",
       "      <td>2258</td>\n",
       "      <td>408</td>\n",
       "      <td>2666</td>\n",
       "      <td>0.153038</td>\n",
       "    </tr>\n",
       "    <tr>\n",
       "      <th>(400, 500]</th>\n",
       "      <td>1231</td>\n",
       "      <td>308</td>\n",
       "      <td>1539</td>\n",
       "      <td>0.200130</td>\n",
       "    </tr>\n",
       "    <tr>\n",
       "      <th>(500, 600]</th>\n",
       "      <td>699</td>\n",
       "      <td>270</td>\n",
       "      <td>969</td>\n",
       "      <td>0.278638</td>\n",
       "    </tr>\n",
       "    <tr>\n",
       "      <th>(600, 700]</th>\n",
       "      <td>441</td>\n",
       "      <td>259</td>\n",
       "      <td>700</td>\n",
       "      <td>0.370000</td>\n",
       "    </tr>\n",
       "    <tr>\n",
       "      <th>(700, 800]</th>\n",
       "      <td>245</td>\n",
       "      <td>189</td>\n",
       "      <td>434</td>\n",
       "      <td>0.435484</td>\n",
       "    </tr>\n",
       "    <tr>\n",
       "      <th>(800, 900]</th>\n",
       "      <td>149</td>\n",
       "      <td>153</td>\n",
       "      <td>302</td>\n",
       "      <td>0.506623</td>\n",
       "    </tr>\n",
       "    <tr>\n",
       "      <th>(900, 1000]</th>\n",
       "      <td>95</td>\n",
       "      <td>123</td>\n",
       "      <td>218</td>\n",
       "      <td>0.564220</td>\n",
       "    </tr>\n",
       "    <tr>\n",
       "      <th>(1000, 5000]</th>\n",
       "      <td>262</td>\n",
       "      <td>397</td>\n",
       "      <td>659</td>\n",
       "      <td>0.602428</td>\n",
       "    </tr>\n",
       "    <tr>\n",
       "      <th>All</th>\n",
       "      <td>23954</td>\n",
       "      <td>3174</td>\n",
       "      <td>27128</td>\n",
       "      <td>0.117001</td>\n",
       "    </tr>\n",
       "  </tbody>\n",
       "</table>\n",
       "</div>"
      ],
      "text/plain": [
       "y                 0     1    All      rate\n",
       "duration                                  \n",
       "(-1, 100]      6379    60   6439  0.009318\n",
       "(100, 200]     7909   450   8359  0.053834\n",
       "(200, 300]     4286   557   4843  0.115011\n",
       "(300, 400]     2258   408   2666  0.153038\n",
       "(400, 500]     1231   308   1539  0.200130\n",
       "(500, 600]      699   270    969  0.278638\n",
       "(600, 700]      441   259    700  0.370000\n",
       "(700, 800]      245   189    434  0.435484\n",
       "(800, 900]      149   153    302  0.506623\n",
       "(900, 1000]      95   123    218  0.564220\n",
       "(1000, 5000]    262   397    659  0.602428\n",
       "All           23954  3174  27128  0.117001"
      ]
     },
     "execution_count": 29,
     "metadata": {},
     "output_type": "execute_result"
    }
   ],
   "source": [
    "dura"
   ]
  },
  {
   "cell_type": "code",
   "execution_count": 30,
   "id": "4bba74c5-e883-45ad-b0e5-8826f25baee5",
   "metadata": {},
   "outputs": [],
   "source": [
    "trainX = train.iloc[:, :17]"
   ]
  },
  {
   "cell_type": "code",
   "execution_count": 31,
   "id": "2eba6630-db37-437c-9c25-307369f4d87a",
   "metadata": {},
   "outputs": [
    {
     "data": {
      "text/html": [
       "<div>\n",
       "<style scoped>\n",
       "    .dataframe tbody tr th:only-of-type {\n",
       "        vertical-align: middle;\n",
       "    }\n",
       "\n",
       "    .dataframe tbody tr th {\n",
       "        vertical-align: top;\n",
       "    }\n",
       "\n",
       "    .dataframe thead th {\n",
       "        text-align: right;\n",
       "    }\n",
       "</style>\n",
       "<table border=\"1\" class=\"dataframe\">\n",
       "  <thead>\n",
       "    <tr style=\"text-align: right;\">\n",
       "      <th></th>\n",
       "      <th>id</th>\n",
       "      <th>age</th>\n",
       "      <th>job</th>\n",
       "      <th>marital</th>\n",
       "      <th>education</th>\n",
       "      <th>default</th>\n",
       "      <th>balance</th>\n",
       "      <th>housing</th>\n",
       "      <th>loan</th>\n",
       "      <th>contact</th>\n",
       "      <th>day</th>\n",
       "      <th>month</th>\n",
       "      <th>duration</th>\n",
       "      <th>campaign</th>\n",
       "      <th>pdays</th>\n",
       "      <th>previous</th>\n",
       "      <th>poutcome</th>\n",
       "    </tr>\n",
       "  </thead>\n",
       "  <tbody>\n",
       "    <tr>\n",
       "      <th>0</th>\n",
       "      <td>1</td>\n",
       "      <td>39</td>\n",
       "      <td>blue-collar</td>\n",
       "      <td>married</td>\n",
       "      <td>secondary</td>\n",
       "      <td>no</td>\n",
       "      <td>1756</td>\n",
       "      <td>yes</td>\n",
       "      <td>no</td>\n",
       "      <td>cellular</td>\n",
       "      <td>3</td>\n",
       "      <td>apr</td>\n",
       "      <td>939</td>\n",
       "      <td>1</td>\n",
       "      <td>-1</td>\n",
       "      <td>0</td>\n",
       "      <td>unknown</td>\n",
       "    </tr>\n",
       "    <tr>\n",
       "      <th>1</th>\n",
       "      <td>2</td>\n",
       "      <td>51</td>\n",
       "      <td>entrepreneur</td>\n",
       "      <td>married</td>\n",
       "      <td>primary</td>\n",
       "      <td>no</td>\n",
       "      <td>1443</td>\n",
       "      <td>no</td>\n",
       "      <td>no</td>\n",
       "      <td>cellular</td>\n",
       "      <td>18</td>\n",
       "      <td>feb</td>\n",
       "      <td>172</td>\n",
       "      <td>10</td>\n",
       "      <td>-1</td>\n",
       "      <td>0</td>\n",
       "      <td>unknown</td>\n",
       "    </tr>\n",
       "    <tr>\n",
       "      <th>2</th>\n",
       "      <td>3</td>\n",
       "      <td>36</td>\n",
       "      <td>management</td>\n",
       "      <td>single</td>\n",
       "      <td>tertiary</td>\n",
       "      <td>no</td>\n",
       "      <td>436</td>\n",
       "      <td>no</td>\n",
       "      <td>no</td>\n",
       "      <td>cellular</td>\n",
       "      <td>13</td>\n",
       "      <td>apr</td>\n",
       "      <td>567</td>\n",
       "      <td>1</td>\n",
       "      <td>595</td>\n",
       "      <td>2</td>\n",
       "      <td>failure</td>\n",
       "    </tr>\n",
       "  </tbody>\n",
       "</table>\n",
       "</div>"
      ],
      "text/plain": [
       "   id  age           job  marital  education default  balance housing loan  \\\n",
       "0   1   39   blue-collar  married  secondary      no     1756     yes   no   \n",
       "1   2   51  entrepreneur  married    primary      no     1443      no   no   \n",
       "2   3   36    management   single   tertiary      no      436      no   no   \n",
       "\n",
       "    contact  day month  duration  campaign  pdays  previous poutcome  \n",
       "0  cellular    3   apr       939         1     -1         0  unknown  \n",
       "1  cellular   18   feb       172        10     -1         0  unknown  \n",
       "2  cellular   13   apr       567         1    595         2  failure  "
      ]
     },
     "execution_count": 31,
     "metadata": {},
     "output_type": "execute_result"
    }
   ],
   "source": [
    "trainX.head(3)"
   ]
  },
  {
   "cell_type": "code",
   "execution_count": 32,
   "id": "75239d15-024d-4102-9a8c-874156e86330",
   "metadata": {},
   "outputs": [],
   "source": [
    "y = train[\"y\"]"
   ]
  },
  {
   "cell_type": "code",
   "execution_count": 33,
   "id": "06b8b418-b8ab-4421-8576-f06311415337",
   "metadata": {},
   "outputs": [],
   "source": [
    "testX = test.copy()"
   ]
  },
  {
   "cell_type": "code",
   "execution_count": 34,
   "id": "6b4e2787-c565-4fea-a173-7077567fb1f5",
   "metadata": {},
   "outputs": [],
   "source": [
    "trainX = pd.get_dummies(trainX)\n",
    "testX = pd.get_dummies(testX)"
   ]
  },
  {
   "cell_type": "code",
   "execution_count": 35,
   "id": "22d3203b-3e5f-4a1a-8d2d-27bfba3143ce",
   "metadata": {},
   "outputs": [],
   "source": [
    "model = DTC(max_depth=2, min_samples_leaf=500)"
   ]
  },
  {
   "cell_type": "code",
   "execution_count": 36,
   "id": "ad9c3dc2-069b-4b1b-83e0-a6906ab354df",
   "metadata": {},
   "outputs": [
    {
     "data": {
      "text/plain": [
       "DecisionTreeClassifier(max_depth=2, min_samples_leaf=500)"
      ]
     },
     "execution_count": 36,
     "metadata": {},
     "output_type": "execute_result"
    }
   ],
   "source": [
    "model.fit(trainX, y)"
   ]
  },
  {
   "cell_type": "code",
   "execution_count": 37,
   "id": "299a4bf7-11a2-4dde-96bd-e3e9b3c645c3",
   "metadata": {},
   "outputs": [
    {
     "data": {
      "text/plain": [
       "[Text(0.5, 0.8333333333333334, 'duration <= 521.5\\ngini = 0.207\\nsamples = 27128\\nvalue = [23954, 3174]\\nclass = y[0]'),\n",
       " Text(0.25, 0.5, 'poutcome_success <= 0.5\\ngini = 0.141\\nsamples = 24097\\nvalue = [22262, 1835]\\nclass = y[0]'),\n",
       " Text(0.125, 0.16666666666666666, 'gini = 0.11\\nsamples = 23343\\nvalue = [21974, 1369]\\nclass = y[0]'),\n",
       " Text(0.375, 0.16666666666666666, 'gini = 0.472\\nsamples = 754\\nvalue = [288, 466]\\nclass = y[1]'),\n",
       " Text(0.75, 0.5, 'duration <= 835.5\\ngini = 0.493\\nsamples = 3031\\nvalue = [1692, 1339]\\nclass = y[0]'),\n",
       " Text(0.625, 0.16666666666666666, 'gini = 0.463\\nsamples = 1958\\nvalue = [1246, 712]\\nclass = y[0]'),\n",
       " Text(0.875, 0.16666666666666666, 'gini = 0.486\\nsamples = 1073\\nvalue = [446, 627]\\nclass = y[1]')]"
      ]
     },
     "execution_count": 37,
     "metadata": {},
     "output_type": "execute_result"
    },
    {
     "data": {
      "image/png": "[encoded data removed]",
      "text/plain": [
       "<Figure size 640x480 with 1 Axes>"
      ]
     },
     "metadata": {},
     "output_type": "display_data"
    }
   ],
   "source": [
    "plot_tree(model, feature_names=trainX.columns, class_names=True, filled=True)"
   ]
  },
  {
   "cell_type": "code",
   "execution_count": 38,
   "id": "485608a6-1a86-4be9-95cc-916fac971ff8",
   "metadata": {},
   "outputs": [],
   "source": [
    "pred = model.predict_proba(testX)"
   ]
  },
  {
   "cell_type": "code",
   "execution_count": 39,
   "id": "1292bcc6-5ded-43fa-8fc7-c674fb8e8663",
   "metadata": {},
   "outputs": [
    {
     "data": {
      "text/plain": [
       "array([[0.41565704, 0.58434296],\n",
       "       [0.41565704, 0.58434296],\n",
       "       [0.94135287, 0.05864713],\n",
       "       ...,\n",
       "       [0.94135287, 0.05864713],\n",
       "       [0.94135287, 0.05864713],\n",
       "       [0.94135287, 0.05864713]])"
      ]
     },
     "execution_count": 39,
     "metadata": {},
     "output_type": "execute_result"
    }
   ],
   "source": [
    "pred"
   ]
  },
  {
   "cell_type": "code",
   "execution_count": 40,
   "id": "266c7c7e-edca-4705-b36e-af7064e2c847",
   "metadata": {},
   "outputs": [],
   "source": [
    "pred = pred[:, 1]"
   ]
  },
  {
   "cell_type": "code",
   "execution_count": 41,
   "id": "4336dca8-fa86-401d-87fd-a49100358c7c",
   "metadata": {},
   "outputs": [
    {
     "data": {
      "text/plain": [
       "array([0.58434296, 0.58434296, 0.05864713, ..., 0.05864713, 0.05864713,\n",
       "       0.05864713])"
      ]
     },
     "execution_count": 41,
     "metadata": {},
     "output_type": "execute_result"
    }
   ],
   "source": [
    "pred"
   ]
  },
  {
   "cell_type": "code",
   "execution_count": 42,
   "id": "ebd7cc78-52e9-4e30-854e-75f8e60db8a3",
   "metadata": {},
   "outputs": [],
   "source": [
    "sample[1] = pred"
   ]
  },
  {
   "cell_type": "code",
   "execution_count": 43,
   "id": "0973027c-2141-447d-b9ba-11f3f137b86d",
   "metadata": {},
   "outputs": [],
   "source": [
    "sample.to_csv(\"submit1_bank.csv\", index=None, header=None)"
   ]
  },
  {
   "cell_type": "code",
   "execution_count": 55,
   "id": "aacfd284-b9b5-4047-87e6-a6a70d009f68",
   "metadata": {},
   "outputs": [],
   "source": [
    "model2 = DTC(max_depth=10, min_samples_leaf=500)"
   ]
  },
  {
   "cell_type": "code",
   "execution_count": 56,
   "id": "f72f0ad8-a423-4966-b7e5-6f68e198f4b7",
   "metadata": {},
   "outputs": [
    {
     "data": {
      "text/plain": [
       "DecisionTreeClassifier(max_depth=10, min_samples_leaf=500)"
      ]
     },
     "execution_count": 56,
     "metadata": {},
     "output_type": "execute_result"
    }
   ],
   "source": [
    "model2.fit(trainX, y)"
   ]
  },
  {
   "cell_type": "code",
   "execution_count": 58,
   "id": "f899e022-f489-47c7-b34a-753a32209303",
   "metadata": {
    "collapsed": true,
    "jupyter": {
     "outputs_hidden": true
    },
    "tags": []
   },
   "outputs": [
    {
     "data": {
      "text/plain": [
       "[Text(0.7364386792452831, 0.9444444444444444, 'duration <= 521.5\\ngini = 0.207\\nsamples = 27128\\nvalue = [23954, 3174]\\nclass = y[0]'),\n",
       " Text(0.5483490566037735, 0.8333333333333334, 'poutcome_success <= 0.5\\ngini = 0.141\\nsamples = 24097\\nvalue = [22262, 1835]\\nclass = y[0]'),\n",
       " Text(0.5294811320754716, 0.7222222222222222, 'duration <= 206.5\\ngini = 0.11\\nsamples = 23343\\nvalue = [21974, 1369]\\nclass = y[0]'),\n",
       " Text(0.3136792452830189, 0.6111111111111112, 'duration <= 111.5\\ngini = 0.053\\nsamples = 14866\\nvalue = [14460, 406]\\nclass = y[0]'),\n",
       " Text(0.19339622641509435, 0.5, 'duration <= 90.5\\ngini = 0.019\\nsamples = 7403\\nvalue = [7333, 70]\\nclass = y[0]'),\n",
       " Text(0.12264150943396226, 0.3888888888888889, 'duration <= 74.5\\ngini = 0.01\\nsamples = 5476\\nvalue = [5448, 28]\\nclass = y[0]'),\n",
       " Text(0.07547169811320754, 0.2777777777777778, 'marital_single <= 0.5\\ngini = 0.006\\nsamples = 3976\\nvalue = [3965, 11]\\nclass = y[0]'),\n",
       " Text(0.03773584905660377, 0.16666666666666666, 'day <= 11.5\\ngini = 0.002\\nsamples = 2863\\nvalue = [2860, 3]\\nclass = y[0]'),\n",
       " Text(0.018867924528301886, 0.05555555555555555, 'gini = 0.008\\nsamples = 785\\nvalue = [782, 3]\\nclass = y[0]'),\n",
       " Text(0.05660377358490566, 0.05555555555555555, 'gini = 0.0\\nsamples = 2078\\nvalue = [2078, 0]\\nclass = y[0]'),\n",
       " Text(0.11320754716981132, 0.16666666666666666, 'balance <= 505.5\\ngini = 0.014\\nsamples = 1113\\nvalue = [1105, 8]\\nclass = y[0]'),\n",
       " Text(0.09433962264150944, 0.05555555555555555, 'gini = 0.007\\nsamples = 608\\nvalue = [606, 2]\\nclass = y[0]'),\n",
       " Text(0.1320754716981132, 0.05555555555555555, 'gini = 0.023\\nsamples = 505\\nvalue = [499, 6]\\nclass = y[0]'),\n",
       " Text(0.16981132075471697, 0.2777777777777778, 'marital_married <= 0.5\\ngini = 0.022\\nsamples = 1500\\nvalue = [1483, 17]\\nclass = y[0]'),\n",
       " Text(0.1509433962264151, 0.16666666666666666, 'gini = 0.045\\nsamples = 522\\nvalue = [510, 12]\\nclass = y[0]'),\n",
       " Text(0.18867924528301888, 0.16666666666666666, 'gini = 0.01\\nsamples = 978\\nvalue = [973, 5]\\nclass = y[0]'),\n",
       " Text(0.2641509433962264, 0.3888888888888889, 'campaign <= 2.5\\ngini = 0.043\\nsamples = 1927\\nvalue = [1885, 42]\\nclass = y[0]'),\n",
       " Text(0.24528301886792453, 0.2777777777777778, 'housing_no <= 0.5\\ngini = 0.061\\nsamples = 1247\\nvalue = [1208, 39]\\nclass = y[0]'),\n",
       " Text(0.22641509433962265, 0.16666666666666666, 'gini = 0.033\\nsamples = 656\\nvalue = [645, 11]\\nclass = y[0]'),\n",
       " Text(0.2641509433962264, 0.16666666666666666, 'gini = 0.09\\nsamples = 591\\nvalue = [563, 28]\\nclass = y[0]'),\n",
       " Text(0.2830188679245283, 0.2777777777777778, 'gini = 0.009\\nsamples = 680\\nvalue = [677, 3]\\nclass = y[0]'),\n",
       " Text(0.4339622641509434, 0.5, 'housing_no <= 0.5\\ngini = 0.086\\nsamples = 7463\\nvalue = [7127, 336]\\nclass = y[0]'),\n",
       " Text(0.3584905660377358, 0.3888888888888889, 'month_may <= 0.5\\ngini = 0.035\\nsamples = 4257\\nvalue = [4181, 76]\\nclass = y[0]'),\n",
       " Text(0.32075471698113206, 0.2777777777777778, 'campaign <= 1.5\\ngini = 0.062\\nsamples = 2143\\nvalue = [2074, 69]\\nclass = y[0]'),\n",
       " Text(0.3018867924528302, 0.16666666666666666, 'gini = 0.105\\nsamples = 830\\nvalue = [784, 46]\\nclass = y[0]'),\n",
       " Text(0.33962264150943394, 0.16666666666666666, 'balance <= 688.5\\ngini = 0.034\\nsamples = 1313\\nvalue = [1290, 23]\\nclass = y[0]'),\n",
       " Text(0.32075471698113206, 0.05555555555555555, 'gini = 0.022\\nsamples = 791\\nvalue = [782, 9]\\nclass = y[0]'),\n",
       " Text(0.3584905660377358, 0.05555555555555555, 'gini = 0.052\\nsamples = 522\\nvalue = [508, 14]\\nclass = y[0]'),\n",
       " Text(0.39622641509433965, 0.2777777777777778, 'contact_cellular <= 0.5\\ngini = 0.007\\nsamples = 2114\\nvalue = [2107, 7]\\nclass = y[0]'),\n",
       " Text(0.37735849056603776, 0.16666666666666666, 'gini = 0.0\\nsamples = 1398\\nvalue = [1398, 0]\\nclass = y[0]'),\n",
       " Text(0.41509433962264153, 0.16666666666666666, 'gini = 0.019\\nsamples = 716\\nvalue = [709, 7]\\nclass = y[0]'),\n",
       " Text(0.5094339622641509, 0.3888888888888889, 'campaign <= 1.5\\ngini = 0.149\\nsamples = 3206\\nvalue = [2946, 260]\\nclass = y[0]'),\n",
       " Text(0.4716981132075472, 0.2777777777777778, 'balance <= 469.0\\ngini = 0.229\\nsamples = 1222\\nvalue = [1061, 161]\\nclass = y[0]'),\n",
       " Text(0.4528301886792453, 0.16666666666666666, 'gini = 0.168\\nsamples = 584\\nvalue = [530, 54]\\nclass = y[0]'),\n",
       " Text(0.49056603773584906, 0.16666666666666666, 'gini = 0.279\\nsamples = 638\\nvalue = [531, 107]\\nclass = y[0]'),\n",
       " Text(0.5471698113207547, 0.2777777777777778, 'month_aug <= 0.5\\ngini = 0.095\\nsamples = 1984\\nvalue = [1885, 99]\\nclass = y[0]'),\n",
       " Text(0.5283018867924528, 0.16666666666666666, 'age <= 39.5\\ngini = 0.126\\nsamples = 1224\\nvalue = [1141, 83]\\nclass = y[0]'),\n",
       " Text(0.5094339622641509, 0.05555555555555555, 'gini = 0.181\\nsamples = 518\\nvalue = [466, 52]\\nclass = y[0]'),\n",
       " Text(0.5471698113207547, 0.05555555555555555, 'gini = 0.084\\nsamples = 706\\nvalue = [675, 31]\\nclass = y[0]'),\n",
       " Text(0.5660377358490566, 0.16666666666666666, 'gini = 0.041\\nsamples = 760\\nvalue = [744, 16]\\nclass = y[0]'),\n",
       " Text(0.7452830188679245, 0.6111111111111112, 'housing_no <= 0.5\\ngini = 0.201\\nsamples = 8477\\nvalue = [7514, 963]\\nclass = y[0]'),\n",
       " Text(0.6792452830188679, 0.5, 'contact_unknown <= 0.5\\ngini = 0.101\\nsamples = 4881\\nvalue = [4621, 260]\\nclass = y[0]'),\n",
       " Text(0.6415094339622641, 0.3888888888888889, 'duration <= 369.5\\ngini = 0.148\\nsamples = 2954\\nvalue = [2716, 238]\\nclass = y[0]'),\n",
       " Text(0.6226415094339622, 0.2777777777777778, 'balance <= 1413.0\\ngini = 0.108\\nsamples = 2188\\nvalue = [2063, 125]\\nclass = y[0]'),\n",
       " Text(0.6037735849056604, 0.16666666666666666, 'campaign <= 1.5\\ngini = 0.085\\nsamples = 1680\\nvalue = [1605, 75]\\nclass = y[0]'),\n",
       " Text(0.5849056603773585, 0.05555555555555555, 'gini = 0.112\\nsamples = 741\\nvalue = [697, 44]\\nclass = y[0]'),\n",
       " Text(0.6226415094339622, 0.05555555555555555, 'gini = 0.064\\nsamples = 939\\nvalue = [908, 31]\\nclass = y[0]'),\n",
       " Text(0.6415094339622641, 0.16666666666666666, 'gini = 0.177\\nsamples = 508\\nvalue = [458, 50]\\nclass = y[0]'),\n",
       " Text(0.660377358490566, 0.2777777777777778, 'gini = 0.252\\nsamples = 766\\nvalue = [653, 113]\\nclass = y[0]'),\n",
       " Text(0.7169811320754716, 0.3888888888888889, 'duration <= 368.0\\ngini = 0.023\\nsamples = 1927\\nvalue = [1905, 22]\\nclass = y[0]'),\n",
       " Text(0.6981132075471698, 0.2777777777777778, 'balance <= 654.0\\ngini = 0.004\\nsamples = 1385\\nvalue = [1382, 3]\\nclass = y[0]'),\n",
       " Text(0.6792452830188679, 0.16666666666666666, 'gini = 0.0\\nsamples = 885\\nvalue = [885, 0]\\nclass = y[0]'),\n",
       " Text(0.7169811320754716, 0.16666666666666666, 'gini = 0.012\\nsamples = 500\\nvalue = [497, 3]\\nclass = y[0]'),\n",
       " Text(0.7358490566037735, 0.2777777777777778, 'gini = 0.068\\nsamples = 542\\nvalue = [523, 19]\\nclass = y[0]'),\n",
       " Text(0.8113207547169812, 0.5, 'contact_unknown <= 0.5\\ngini = 0.315\\nsamples = 3596\\nvalue = [2893, 703]\\nclass = y[0]'),\n",
       " Text(0.7924528301886793, 0.3888888888888889, 'balance <= 66.5\\ngini = 0.354\\nsamples = 2963\\nvalue = [2281, 682]\\nclass = y[0]'),\n",
       " Text(0.7735849056603774, 0.2777777777777778, 'gini = 0.182\\nsamples = 623\\nvalue = [560, 63]\\nclass = y[0]'),\n",
       " Text(0.8113207547169812, 0.2777777777777778, 'month_aug <= 0.5\\ngini = 0.389\\nsamples = 2340\\nvalue = [1721, 619]\\nclass = y[0]'),\n",
       " Text(0.7924528301886793, 0.16666666666666666, 'day <= 16.5\\ngini = 0.419\\nsamples = 1748\\nvalue = [1226, 522]\\nclass = y[0]'),\n",
       " Text(0.7735849056603774, 0.05555555555555555, 'gini = 0.453\\nsamples = 843\\nvalue = [551, 292]\\nclass = y[0]'),\n",
       " Text(0.8113207547169812, 0.05555555555555555, 'gini = 0.379\\nsamples = 905\\nvalue = [675, 230]\\nclass = y[0]'),\n",
       " Text(0.8301886792452831, 0.16666666666666666, 'gini = 0.274\\nsamples = 592\\nvalue = [495, 97]\\nclass = y[0]'),\n",
       " Text(0.8301886792452831, 0.3888888888888889, 'gini = 0.064\\nsamples = 633\\nvalue = [612, 21]\\nclass = y[0]'),\n",
       " Text(0.5672169811320755, 0.7222222222222222, 'gini = 0.472\\nsamples = 754\\nvalue = [288, 466]\\nclass = y[1]'),\n",
       " Text(0.9245283018867925, 0.8333333333333334, 'duration <= 835.5\\ngini = 0.493\\nsamples = 3031\\nvalue = [1692, 1339]\\nclass = y[0]'),\n",
       " Text(0.8867924528301887, 0.7222222222222222, 'contact_unknown <= 0.5\\ngini = 0.463\\nsamples = 1958\\nvalue = [1246, 712]\\nclass = y[0]'),\n",
       " Text(0.8679245283018868, 0.6111111111111112, 'duration <= 630.5\\ngini = 0.488\\nsamples = 1418\\nvalue = [820, 598]\\nclass = y[0]'),\n",
       " Text(0.8490566037735849, 0.5, 'gini = 0.459\\nsamples = 705\\nvalue = [454, 251]\\nclass = y[0]'),\n",
       " Text(0.8867924528301887, 0.5, 'gini = 0.5\\nsamples = 713\\nvalue = [366, 347]\\nclass = y[0]'),\n",
       " Text(0.9056603773584906, 0.6111111111111112, 'gini = 0.333\\nsamples = 540\\nvalue = [426, 114]\\nclass = y[0]'),\n",
       " Text(0.9622641509433962, 0.7222222222222222, 'balance <= 675.0\\ngini = 0.486\\nsamples = 1073\\nvalue = [446, 627]\\nclass = y[1]'),\n",
       " Text(0.9433962264150944, 0.6111111111111112, 'gini = 0.495\\nsamples = 571\\nvalue = [256, 315]\\nclass = y[1]'),\n",
       " Text(0.9811320754716981, 0.6111111111111112, 'gini = 0.47\\nsamples = 502\\nvalue = [190, 312]\\nclass = y[1]')]"
      ]
     },
     "execution_count": 58,
     "metadata": {},
     "output_type": "execute_result"
    },
    {
     "data": {
      "image/png": "[encoded data removed]",
      "text/plain": [
       "<Figure size 640x480 with 1 Axes>"
      ]
     },
     "metadata": {},
     "output_type": "display_data"
    }
   ],
   "source": [
    "plot_tree(model2, feature_names=trainX.columns, class_names=True, filled=True)"
   ]
  },
  {
   "cell_type": "code",
   "execution_count": 59,
   "id": "456d40e5-0881-4dd2-aedd-fbf8530c3f34",
   "metadata": {},
   "outputs": [],
   "source": [
    "pred2 = model2.predict_proba(testX)"
   ]
  },
  {
   "cell_type": "code",
   "execution_count": 60,
   "id": "07bb07e7-ae05-462b-b213-ff9f80ae46e8",
   "metadata": {},
   "outputs": [],
   "source": [
    "pred2 = pred2[:, 1]"
   ]
  },
  {
   "cell_type": "code",
   "execution_count": 61,
   "id": "d2615388-09c5-429a-bffb-649ebe0b7461",
   "metadata": {},
   "outputs": [
    {
     "data": {
      "text/plain": [
       "array([0.62151394, 0.55166375, 0.00328947, ..., 0.00382166, 0.00977654,\n",
       "       0.04737733])"
      ]
     },
     "execution_count": 61,
     "metadata": {},
     "output_type": "execute_result"
    }
   ],
   "source": [
    "pred2"
   ]
  },
  {
   "cell_type": "code",
   "execution_count": 62,
   "id": "21323a83-a354-4f9e-9a49-875e7026c1d5",
   "metadata": {},
   "outputs": [],
   "source": [
    "sample[1] = pred2"
   ]
  },
  {
   "cell_type": "code",
   "execution_count": 63,
   "id": "86b18074-2aff-47c3-ac9b-6884e570855b",
   "metadata": {},
   "outputs": [],
   "source": [
    "sample.to_csv(\"submit2_bank.csv\", index=None, header=None)"
   ]
  },
  {
   "cell_type": "code",
   "execution_count": null,
   "id": "9e23c4fb-01ba-4d46-b445-8433769c9a02",
   "metadata": {},
   "outputs": [],
   "source": []
  },
  {
   "cell_type": "code",
   "execution_count": 54,
   "id": "01334ed3-0021-43ea-85b4-fb5ca27380c9",
   "metadata": {},
   "outputs": [
    {
     "data": {
      "text/plain": [
       "{'fit_time': array([0.04598188, 0.0487988 , 0.07911825, 0.04705   , 0.07786202]),\n",
       " 'score_time': array([0.00532413, 0.00560617, 0.00649691, 0.00720263, 0.00711584]),\n",
       " 'test_score': array([0.74657601, 0.76182968, 0.73117591, 0.73707281, 0.75910043]),\n",
       " 'train_score': array([0.74534692, 0.74543889, 0.75305367, 0.75162494, 0.746135  ])}"
      ]
     },
     "execution_count": 54,
     "metadata": {},
     "output_type": "execute_result"
    }
   ],
   "source": [
    "cross_validate(model, trainX, y, cv=5, scoring=\"roc_auc\", n_jobs=-1, return_train_score=True)"
   ]
  },
  {
   "cell_type": "code",
   "execution_count": null,
   "id": "54fe0db5-af68-4ea4-96ae-1d66780a9268",
   "metadata": {},
   "outputs": [],
   "source": []
  },
  {
   "cell_type": "code",
   "execution_count": 64,
   "id": "552c3ee8-8625-4a75-86ad-1b601a647655",
   "metadata": {},
   "outputs": [
    {
     "data": {
      "text/plain": [
       "{'fit_time': array([0.17899704, 0.17664003, 0.16778493, 0.17053914, 0.16069722]),\n",
       " 'score_time': array([0.01862311, 0.02309489, 0.01601195, 0.01700401, 0.01480484]),\n",
       " 'test_score': array([0.88264002, 0.88482571, 0.86778474, 0.8924153 , 0.88343681]),\n",
       " 'train_score': array([0.88842017, 0.89038512, 0.89288003, 0.8876343 , 0.885615  ])}"
      ]
     },
     "execution_count": 64,
     "metadata": {},
     "output_type": "execute_result"
    }
   ],
   "source": [
    "cross_validate(model2, trainX, y, cv=5, scoring=\"roc_auc\", n_jobs=-1, return_train_score=True)"
   ]
  },
  {
   "cell_type": "code",
   "execution_count": null,
   "id": "485e62e8-d83c-408b-b71b-aa8867796efa",
   "metadata": {},
   "outputs": [],
   "source": []
  },
  {
   "cell_type": "code",
   "execution_count": 65,
   "id": "f755cce1-0ed3-44e5-9bd8-1d219afe408e",
   "metadata": {},
   "outputs": [],
   "source": [
    "model3 = DTC()"
   ]
  },
  {
   "cell_type": "code",
   "execution_count": 66,
   "id": "a83279be-d7dc-438c-8fd3-10aed4302071",
   "metadata": {},
   "outputs": [],
   "source": [
    "parameters={\"max_depth\":[2,3,4,5,6,7,8,9,10]}"
   ]
  },
  {
   "cell_type": "code",
   "execution_count": 67,
   "id": "f2c9efad-cd39-4ddc-9624-7d537682bd12",
   "metadata": {},
   "outputs": [],
   "source": [
    "parameters={\"max_depth\":list(range(2,11))}"
   ]
  },
  {
   "cell_type": "code",
   "execution_count": 68,
   "id": "99bbefab-006e-4618-b96b-7aa17a85de3e",
   "metadata": {},
   "outputs": [
    {
     "data": {
      "text/plain": [
       "{'max_depth': [2, 3, 4, 5, 6, 7, 8, 9, 10]}"
      ]
     },
     "execution_count": 68,
     "metadata": {},
     "output_type": "execute_result"
    }
   ],
   "source": [
    "parameters"
   ]
  },
  {
   "cell_type": "code",
   "execution_count": null,
   "id": "e7cf32a9-50d6-4887-a32b-ab522c1391e6",
   "metadata": {},
   "outputs": [],
   "source": []
  },
  {
   "cell_type": "code",
   "execution_count": 69,
   "id": "a2be1885-a594-4be1-93b2-d49b313da8eb",
   "metadata": {},
   "outputs": [
    {
     "data": {
      "text/plain": [
       "GridSearchCV(cv=5, estimator=DecisionTreeClassifier(), n_jobs=-1,\n",
       "             param_grid={'max_depth': [2, 3, 4, 5, 6, 7, 8, 9, 10]},\n",
       "             return_train_score=True, scoring='roc_auc')"
      ]
     },
     "execution_count": 69,
     "metadata": {},
     "output_type": "execute_result"
    }
   ],
   "source": [
    "gcv = GridSearchCV(model3, parameters, cv=5, scoring=\"roc_auc\", n_jobs=-1, return_train_score=True)\n",
    "gcv.fit(trainX, y)"
   ]
  },
  {
   "cell_type": "code",
   "execution_count": 72,
   "id": "162897c0-cfa8-4c57-94b1-b621f89ca068",
   "metadata": {},
   "outputs": [
    {
     "data": {
      "text/plain": [
       "{'mean_fit_time': array([0.09696503, 0.10084929, 0.12512598, 0.14037824, 0.14865694,\n",
       "        0.17226877, 0.17974973, 0.1634438 , 0.17587543]),\n",
       " 'std_fit_time': array([0.00786349, 0.02392678, 0.01769358, 0.01379126, 0.00456627,\n",
       "        0.01282608, 0.01132145, 0.01276756, 0.00740597]),\n",
       " 'mean_score_time': array([0.0114634 , 0.00975385, 0.00936332, 0.00994315, 0.00841055,\n",
       "        0.01297245, 0.00755997, 0.00682054, 0.00588331]),\n",
       " 'std_score_time': array([0.00279876, 0.00139736, 0.00149333, 0.00229108, 0.0007476 ,\n",
       "        0.0042245 , 0.00104205, 0.00063005, 0.00048604]),\n",
       " 'param_max_depth': masked_array(data=[2, 3, 4, 5, 6, 7, 8, 9, 10],\n",
       "              mask=[False, False, False, False, False, False, False, False,\n",
       "                    False],\n",
       "        fill_value='?',\n",
       "             dtype=object),\n",
       " 'params': [{'max_depth': 2},\n",
       "  {'max_depth': 3},\n",
       "  {'max_depth': 4},\n",
       "  {'max_depth': 5},\n",
       "  {'max_depth': 6},\n",
       "  {'max_depth': 7},\n",
       "  {'max_depth': 8},\n",
       "  {'max_depth': 9},\n",
       "  {'max_depth': 10}],\n",
       " 'split0_test_score': array([0.74657601, 0.82360265, 0.73033016, 0.74058989, 0.74368476,\n",
       "        0.73078196, 0.72283925, 0.71233859, 0.69593201]),\n",
       " 'split1_test_score': array([0.76182968, 0.82214585, 0.843183  , 0.8534447 , 0.85840528,\n",
       "        0.86055317, 0.85840183, 0.85315922, 0.83182542]),\n",
       " 'split2_test_score': array([0.73117591, 0.8075016 , 0.83351987, 0.84179917, 0.84309031,\n",
       "        0.8470071 , 0.82943971, 0.82907666, 0.80247002]),\n",
       " 'split3_test_score': array([0.73707281, 0.75196604, 0.80556935, 0.81563658, 0.82971726,\n",
       "        0.85035408, 0.85076932, 0.84346884, 0.81243207]),\n",
       " 'split4_test_score': array([0.75910043, 0.83206798, 0.85796137, 0.86203561, 0.86213026,\n",
       "        0.84647426, 0.82734122, 0.73280178, 0.72451518]),\n",
       " 'mean_test_score': array([0.74715097, 0.80745683, 0.81411275, 0.82270119, 0.82740557,\n",
       "        0.82703412, 0.81775827, 0.79416902, 0.77343494]),\n",
       " 'std_test_score': array([0.01196124, 0.02884924, 0.04524805, 0.0439301 , 0.04342192,\n",
       "        0.04839146, 0.04894801, 0.05931445, 0.05324116]),\n",
       " 'rank_test_score': array([9, 6, 5, 3, 1, 2, 4, 7, 8], dtype=int32),\n",
       " 'split0_train_score': array([0.74534692, 0.82168836, 0.84726425, 0.85815618, 0.86983919,\n",
       "        0.88432329, 0.9004806 , 0.91372037, 0.9261013 ]),\n",
       " 'split1_train_score': array([0.74543889, 0.82283293, 0.84962306, 0.86363422, 0.87426809,\n",
       "        0.88430441, 0.89732707, 0.90808259, 0.9225793 ]),\n",
       " 'split2_train_score': array([0.75305367, 0.82675277, 0.85308818, 0.86694448, 0.87724756,\n",
       "        0.89265157, 0.90362505, 0.91413933, 0.92644253]),\n",
       " 'split3_train_score': array([0.75162494, 0.77022786, 0.82376143, 0.83735619, 0.8541277 ,\n",
       "        0.88438751, 0.89785886, 0.90744218, 0.92118496]),\n",
       " 'split4_train_score': array([0.746135  , 0.8207291 , 0.84693949, 0.86020065, 0.87072476,\n",
       "        0.88435379, 0.89523813, 0.90735643, 0.92471711]),\n",
       " 'mean_train_score': array([0.74831988, 0.8124462 , 0.84413528, 0.85725834, 0.86924146,\n",
       "        0.88600411, 0.89890594, 0.91014818, 0.92420504]),\n",
       " 'std_train_score': array([0.00332399, 0.02120837, 0.01042131, 0.01039261, 0.00800435,\n",
       "        0.00332385, 0.00289108, 0.00310074, 0.00203117])}"
      ]
     },
     "execution_count": 72,
     "metadata": {},
     "output_type": "execute_result"
    }
   ],
   "source": [
    "gcv.cv_results_"
   ]
  },
  {
   "cell_type": "code",
   "execution_count": 73,
   "id": "b59eafb8-0b1e-44c2-8f21-c87e7f126f24",
   "metadata": {},
   "outputs": [],
   "source": [
    "train_score = gcv.cv_results_[\"mean_train_score\"]\n",
    "test_score = gcv.cv_results_[\"mean_test_score\"]"
   ]
  },
  {
   "cell_type": "code",
   "execution_count": 74,
   "id": "e783835c-55d7-4abf-a753-02e01ef775c6",
   "metadata": {},
   "outputs": [
    {
     "data": {
      "text/plain": [
       "array([0.74831988, 0.8124462 , 0.84413528, 0.85725834, 0.86924146,\n",
       "       0.88600411, 0.89890594, 0.91014818, 0.92420504])"
      ]
     },
     "execution_count": 74,
     "metadata": {},
     "output_type": "execute_result"
    }
   ],
   "source": [
    "train_score"
   ]
  },
  {
   "cell_type": "code",
   "execution_count": 75,
   "id": "64dce074-4065-4cfa-b562-51100d0e269b",
   "metadata": {},
   "outputs": [
    {
     "data": {
      "text/plain": [
       "array([0.74715097, 0.80745683, 0.81411275, 0.82270119, 0.82740557,\n",
       "       0.82703412, 0.81775827, 0.79416902, 0.77343494])"
      ]
     },
     "execution_count": 75,
     "metadata": {},
     "output_type": "execute_result"
    }
   ],
   "source": [
    "test_score"
   ]
  },
  {
   "cell_type": "code",
   "execution_count": 77,
   "id": "808768ff-fdd6-43dd-919b-87115ae5b615",
   "metadata": {},
   "outputs": [
    {
     "data": {
      "image/png": "[encoded data removed]",
      "text/plain": [
       "<Figure size 640x480 with 1 Axes>"
      ]
     },
     "metadata": {},
     "output_type": "display_data"
    }
   ],
   "source": [
    "plt.plot(train_score)\n",
    "plt.plot(test_score)\n",
    "plt.xticks([0,1,2,3,4,5,6,7,8],[2,3,4,5,6,7,8,9,10])\n",
    "plt.show()"
   ]
  },
  {
   "cell_type": "code",
   "execution_count": 78,
   "id": "b73cd0b0-4d9e-4b19-a13b-53dc158117da",
   "metadata": {},
   "outputs": [
    {
     "data": {
      "text/plain": [
       "{'max_depth': 6}"
      ]
     },
     "execution_count": 78,
     "metadata": {},
     "output_type": "execute_result"
    }
   ],
   "source": [
    "gcv.best_params_"
   ]
  },
  {
   "cell_type": "code",
   "execution_count": 79,
   "id": "46d29a9e-4efe-4031-9d4c-51ee5e49b1b5",
   "metadata": {},
   "outputs": [],
   "source": [
    "pred = gcv.predict_proba(testX)"
   ]
  },
  {
   "cell_type": "code",
   "execution_count": 80,
   "id": "35bbdcdf-eb49-4483-934b-873850c228f1",
   "metadata": {},
   "outputs": [
    {
     "data": {
      "text/plain": [
       "array([[0.3390411 , 0.6609589 ],\n",
       "       [0.54751131, 0.45248869],\n",
       "       [0.98031963, 0.01968037],\n",
       "       ...,\n",
       "       [0.98031963, 0.01968037],\n",
       "       [0.98031963, 0.01968037],\n",
       "       [0.98031963, 0.01968037]])"
      ]
     },
     "execution_count": 80,
     "metadata": {},
     "output_type": "execute_result"
    }
   ],
   "source": [
    "pred"
   ]
  },
  {
   "cell_type": "code",
   "execution_count": 81,
   "id": "4c9adf57-8a91-4369-9122-56c47b44bed3",
   "metadata": {},
   "outputs": [],
   "source": [
    "pred = pred[:, 1]"
   ]
  },
  {
   "cell_type": "code",
   "execution_count": 82,
   "id": "bede9ed9-8513-45bb-ae94-0b7a977e7594",
   "metadata": {},
   "outputs": [
    {
     "data": {
      "text/plain": [
       "array([0.6609589 , 0.45248869, 0.01968037, ..., 0.01968037, 0.01968037,\n",
       "       0.01968037])"
      ]
     },
     "execution_count": 82,
     "metadata": {},
     "output_type": "execute_result"
    }
   ],
   "source": [
    "pred"
   ]
  },
  {
   "cell_type": "code",
   "execution_count": 83,
   "id": "2366ae1a-a72f-4a56-affe-a3f6adcf9674",
   "metadata": {},
   "outputs": [],
   "source": [
    "sample[1] = pred"
   ]
  },
  {
   "cell_type": "code",
   "execution_count": 84,
   "id": "ba2fe557-c73b-4c2f-8c3c-3666b74bb1f4",
   "metadata": {},
   "outputs": [],
   "source": [
    "sample.to_csv(\"submit3_bank.csv\", index=None, header=None)"
   ]
  },
  {
   "cell_type": "code",
   "execution_count": null,
   "id": "8190d1d7-2ad2-442f-af51-c3b4cf0d3e49",
   "metadata": {},
   "outputs": [],
   "source": []
  },
  {
   "cell_type": "code",
   "execution_count": 85,
   "id": "79e6f636-57e3-4ccc-a93e-b38da9628d9b",
   "metadata": {},
   "outputs": [],
   "source": [
    "model4 = DTC()"
   ]
  },
  {
   "cell_type": "code",
   "execution_count": 89,
   "id": "6c7d9391-d010-4048-9bb7-fda5e0727d13",
   "metadata": {},
   "outputs": [],
   "source": [
    "parameters2 = {\"max_depth\":list(range(2, 11)), \n",
    "               \"min_samples_leaf\":[5, 10, 20, 50, 100, 500]}"
   ]
  },
  {
   "cell_type": "code",
   "execution_count": 90,
   "id": "25ea9fbf-725b-474e-835f-74b8a0c33190",
   "metadata": {},
   "outputs": [],
   "source": [
    "gcv2 = GridSearchCV(model4, parameters2, cv=5, scoring=\"roc_auc\", n_jobs=-1, return_train_score=True)"
   ]
  },
  {
   "cell_type": "code",
   "execution_count": 91,
   "id": "4d1a690e-bff5-45e3-9892-1c86ca9daea4",
   "metadata": {},
   "outputs": [
    {
     "data": {
      "text/plain": [
       "GridSearchCV(cv=5, estimator=DecisionTreeClassifier(), n_jobs=-1,\n",
       "             param_grid={'max_depth': [2, 3, 4, 5, 6, 7, 8, 9, 10],\n",
       "                         'min_samples_leaf': [5, 10, 20, 50, 100, 500]},\n",
       "             return_train_score=True, scoring='roc_auc')"
      ]
     },
     "execution_count": 91,
     "metadata": {},
     "output_type": "execute_result"
    }
   ],
   "source": [
    "gcv2.fit(trainX, y)"
   ]
  },
  {
   "cell_type": "code",
   "execution_count": 92,
   "id": "a3c5510e-d9b6-490b-8b57-ae33c3c6982b",
   "metadata": {},
   "outputs": [
    {
     "data": {
      "text/plain": [
       "{'max_depth': 10, 'min_samples_leaf': 50}"
      ]
     },
     "execution_count": 92,
     "metadata": {},
     "output_type": "execute_result"
    }
   ],
   "source": [
    "gcv2.best_params_"
   ]
  },
  {
   "cell_type": "code",
   "execution_count": 93,
   "id": "32e1d1de-6a1c-4397-95b2-a26489f0221d",
   "metadata": {},
   "outputs": [],
   "source": [
    "pred2 = gcv2.predict_proba(testX)"
   ]
  },
  {
   "cell_type": "code",
   "execution_count": 94,
   "id": "b5523c1d-83db-43d3-93da-283aa4e74490",
   "metadata": {},
   "outputs": [],
   "source": [
    "pred2 = pred2[:, 1]"
   ]
  },
  {
   "cell_type": "code",
   "execution_count": 95,
   "id": "cd55a82a-a7a1-4c4e-bd22-ce44ea31dd8e",
   "metadata": {},
   "outputs": [
    {
     "data": {
      "text/plain": [
       "array([0.81355932, 0.58333333, 0.01083477, ..., 0.01083477, 0.01083477,\n",
       "       0.01083477])"
      ]
     },
     "execution_count": 95,
     "metadata": {},
     "output_type": "execute_result"
    }
   ],
   "source": [
    "pred2"
   ]
  },
  {
   "cell_type": "code",
   "execution_count": 96,
   "id": "c2f3285d-b891-452d-b452-a0ba94dc8480",
   "metadata": {},
   "outputs": [],
   "source": [
    "sample[1] = pred2"
   ]
  },
  {
   "cell_type": "code",
   "execution_count": 97,
   "id": "c1526fdd-c09f-4488-9c30-f0c2344106dd",
   "metadata": {},
   "outputs": [],
   "source": [
    "sample.to_csv(\"submit4_bank.csv\", index=None, header=None)"
   ]
  },
  {
   "cell_type": "code",
   "execution_count": null,
   "id": "4cfeba97-7267-4a13-a64e-2e86a2f64265",
   "metadata": {},
   "outputs": [],
   "source": []
  }
 ],
 "metadata": {
  "kernelspec": {
   "display_name": "Python 3 (ipykernel)",
   "language": "python",
   "name": "python3"
  },
  "language_info": {
   "codemirror_mode": {
    "name": "ipython",
    "version": 3
   },
   "file_extension": ".py",
   "mimetype": "text/x-python",
   "name": "python",
   "nbconvert_exporter": "python",
   "pygments_lexer": "ipython3",
   "version": "3.7.13"
  }
 },
 "nbformat": 4,
 "nbformat_minor": 5
}
