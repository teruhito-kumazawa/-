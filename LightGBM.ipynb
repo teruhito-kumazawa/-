{
 "cells": [
  {
   "cell_type": "code",
   "execution_count": null,
   "id": "afe70eed-bb3e-4752-87fc-58df4a68e63b",
   "metadata": {},
   "outputs": [],
   "source": [
    "0、id、int行の通し番号\n",
    "1、age、int、年齢\n",
    "2、job、varchar、職種\n",
    "3、marital、varchar、未婚/既婚\n",
    "4、education、varchar、教育水準\n",
    "5、default、varchar、債務不履行があるか（yes, no）\n",
    "6、balance、int、年間平均残高（€）\n",
    "7、housing、varchar、住宅ローン（yes, no）\n",
    "8、loan、varchar、個人ローン（yes, no）\n",
    "9、contact、varchar、連絡方法\n",
    "10、dayint、最終接触日\n",
    "11、monthchar、最終接触月\n",
    "12、duration、int、最終接触時間（秒）\n",
    "13、compaign、int、現キャンペーンにおける接触回数\n",
    "14、pdaysint、経過日数：前キャンペーン接触後の日数\n",
    "15、previous、int、接触実績：現キャンペーン以前までに顧客に接触した回数\n",
    "16、poutcome、varchar、前回のキャンペーンの成果\n",
    "17、y、boolean、定額預金申し込み有無（1:有り, 0:無し）\n",
    "'''"
   ]
  },
  {
   "cell_type": "code",
   "execution_count": 136,
   "id": "4e90cb98-abdf-440c-b1fb-eac905652ad3",
   "metadata": {},
   "outputs": [],
   "source": [
    "import pandas as pd\n",
    "import numpy as np\n",
    "import matplotlib.pyplot as plt\n",
    "import japanize_matplotlib\n",
    "import seaborn as sns\n",
    "%matplotlib inline\n",
    "\n",
    "from sklearn.model_selection import cross_validate\n",
    "from sklearn.model_selection import GridSearchCV"
   ]
  },
  {
   "cell_type": "code",
   "execution_count": 25,
   "id": "1dbe32ba-b2a5-4397-bbbe-c71185aa7423",
   "metadata": {},
   "outputs": [],
   "source": [
    "train = pd.read_csv(\"./data/train.csv\")\n",
    "test = pd.read_csv(\"./data/test.csv\")\n",
    "sample = pd.read_csv(\"./data/submit_sample.csv\", header=None)"
   ]
  },
  {
   "cell_type": "code",
   "execution_count": 26,
   "id": "1f54f7cd-4743-4369-b2e4-61f717dd9dd3",
   "metadata": {},
   "outputs": [
    {
     "name": "stdout",
     "output_type": "stream",
     "text": [
      "(27128, 18)\n",
      "(18083, 17)\n",
      "(18083, 2)\n"
     ]
    }
   ],
   "source": [
    "print(train.shape)\n",
    "print(test.shape)\n",
    "print(sample.shape)"
   ]
  },
  {
   "cell_type": "code",
   "execution_count": 27,
   "id": "39430d2f-127d-4293-bd5a-5627ebc0b342",
   "metadata": {
    "tags": []
   },
   "outputs": [
    {
     "data": {
      "text/plain": [
       "id           0\n",
       "age          0\n",
       "job          0\n",
       "marital      0\n",
       "education    0\n",
       "default      0\n",
       "balance      0\n",
       "housing      0\n",
       "loan         0\n",
       "contact      0\n",
       "day          0\n",
       "month        0\n",
       "duration     0\n",
       "campaign     0\n",
       "pdays        0\n",
       "previous     0\n",
       "poutcome     0\n",
       "y            0\n",
       "dtype: int64"
      ]
     },
     "execution_count": 27,
     "metadata": {},
     "output_type": "execute_result"
    }
   ],
   "source": [
    "train.isnull().sum()"
   ]
  },
  {
   "cell_type": "code",
   "execution_count": 28,
   "id": "23f15942-5ec3-45da-a217-6e0cf0f4e638",
   "metadata": {
    "tags": []
   },
   "outputs": [
    {
     "data": {
      "text/plain": [
       "id           0\n",
       "age          0\n",
       "job          0\n",
       "marital      0\n",
       "education    0\n",
       "default      0\n",
       "balance      0\n",
       "housing      0\n",
       "loan         0\n",
       "contact      0\n",
       "day          0\n",
       "month        0\n",
       "duration     0\n",
       "campaign     0\n",
       "pdays        0\n",
       "previous     0\n",
       "poutcome     0\n",
       "dtype: int64"
      ]
     },
     "execution_count": 28,
     "metadata": {},
     "output_type": "execute_result"
    }
   ],
   "source": [
    "test.isnull().sum()"
   ]
  },
  {
   "cell_type": "code",
   "execution_count": 29,
   "id": "ac87dc4f-1992-4224-865b-cb910eb0c3e8",
   "metadata": {
    "tags": []
   },
   "outputs": [
    {
     "name": "stdout",
     "output_type": "stream",
     "text": [
      "<class 'pandas.core.frame.DataFrame'>\n",
      "RangeIndex: 27128 entries, 0 to 27127\n",
      "Data columns (total 18 columns):\n",
      " #   Column     Non-Null Count  Dtype \n",
      "---  ------     --------------  ----- \n",
      " 0   id         27128 non-null  int64 \n",
      " 1   age        27128 non-null  int64 \n",
      " 2   job        27128 non-null  object\n",
      " 3   marital    27128 non-null  object\n",
      " 4   education  27128 non-null  object\n",
      " 5   default    27128 non-null  object\n",
      " 6   balance    27128 non-null  int64 \n",
      " 7   housing    27128 non-null  object\n",
      " 8   loan       27128 non-null  object\n",
      " 9   contact    27128 non-null  object\n",
      " 10  day        27128 non-null  int64 \n",
      " 11  month      27128 non-null  object\n",
      " 12  duration   27128 non-null  int64 \n",
      " 13  campaign   27128 non-null  int64 \n",
      " 14  pdays      27128 non-null  int64 \n",
      " 15  previous   27128 non-null  int64 \n",
      " 16  poutcome   27128 non-null  object\n",
      " 17  y          27128 non-null  int64 \n",
      "dtypes: int64(9), object(9)\n",
      "memory usage: 3.7+ MB\n"
     ]
    }
   ],
   "source": [
    "train.info()"
   ]
  },
  {
   "cell_type": "code",
   "execution_count": 30,
   "id": "d4bbb99b-5029-425e-b87a-4b6c4d2aa224",
   "metadata": {},
   "outputs": [
    {
     "data": {
      "text/plain": [
       "Index(['id', 'age', 'job', 'marital', 'education', 'default', 'balance',\n",
       "       'housing', 'loan', 'contact', 'day', 'month', 'duration', 'campaign',\n",
       "       'pdays', 'previous', 'poutcome', 'y'],\n",
       "      dtype='object')"
      ]
     },
     "execution_count": 30,
     "metadata": {},
     "output_type": "execute_result"
    }
   ],
   "source": [
    "train.columns"
   ]
  },
  {
   "cell_type": "code",
   "execution_count": null,
   "id": "f35c95d9-56b0-43a8-a4f0-0dd10f2c00be",
   "metadata": {},
   "outputs": [],
   "source": []
  },
  {
   "cell_type": "code",
   "execution_count": 31,
   "id": "3661fbfe-ce5b-4131-a231-bcdad65e40b9",
   "metadata": {},
   "outputs": [],
   "source": [
    "#カテゴリ変数として扱いたい\n",
    "#job, marital, education, default, housing, loan, contact, month, poutcome\n",
    "for col in [\"job\", \"marital\", \"education\", \"default\", \"housing\", \"loan\", \"contact\", \"month\", \"poutcome\"]:\n",
    "    train[col] = train[col].astype(\"category\")"
   ]
  },
  {
   "cell_type": "code",
   "execution_count": 32,
   "id": "33d1e6af-a88e-4b9c-b297-0d19500f721f",
   "metadata": {},
   "outputs": [
    {
     "name": "stdout",
     "output_type": "stream",
     "text": [
      "<class 'pandas.core.frame.DataFrame'>\n",
      "RangeIndex: 27128 entries, 0 to 27127\n",
      "Data columns (total 18 columns):\n",
      " #   Column     Non-Null Count  Dtype   \n",
      "---  ------     --------------  -----   \n",
      " 0   id         27128 non-null  int64   \n",
      " 1   age        27128 non-null  int64   \n",
      " 2   job        27128 non-null  category\n",
      " 3   marital    27128 non-null  category\n",
      " 4   education  27128 non-null  category\n",
      " 5   default    27128 non-null  category\n",
      " 6   balance    27128 non-null  int64   \n",
      " 7   housing    27128 non-null  category\n",
      " 8   loan       27128 non-null  category\n",
      " 9   contact    27128 non-null  category\n",
      " 10  day        27128 non-null  int64   \n",
      " 11  month      27128 non-null  category\n",
      " 12  duration   27128 non-null  int64   \n",
      " 13  campaign   27128 non-null  int64   \n",
      " 14  pdays      27128 non-null  int64   \n",
      " 15  previous   27128 non-null  int64   \n",
      " 16  poutcome   27128 non-null  category\n",
      " 17  y          27128 non-null  int64   \n",
      "dtypes: category(9), int64(9)\n",
      "memory usage: 2.1 MB\n"
     ]
    }
   ],
   "source": [
    "train.info()"
   ]
  },
  {
   "cell_type": "code",
   "execution_count": null,
   "id": "a23f6561-bb7a-4bd1-af98-2581db46fa35",
   "metadata": {},
   "outputs": [],
   "source": []
  },
  {
   "cell_type": "code",
   "execution_count": 67,
   "id": "0391d1f9-7b4a-4088-8ec8-ce37f99ffc44",
   "metadata": {
    "collapsed": true,
    "jupyter": {
     "outputs_hidden": true
    },
    "tags": []
   },
   "outputs": [
    {
     "name": "stderr",
     "output_type": "stream",
     "text": [
      "/Users/kumazawateruhito/opt/anaconda3/envs/base_root/lib/python3.7/site-packages/lightgbm/engine.py:181: UserWarning: 'early_stopping_rounds' argument is deprecated and will be removed in a future release of LightGBM. Pass 'early_stopping()' callback via 'callbacks' argument instead.\n",
      "  _log_warning(\"'early_stopping_rounds' argument is deprecated and will be removed in a future release of LightGBM. \"\n",
      "/Users/kumazawateruhito/opt/anaconda3/envs/base_root/lib/python3.7/site-packages/lightgbm/basic.py:1780: UserWarning: Overriding the parameters from Reference Dataset.\n",
      "  _log_warning('Overriding the parameters from Reference Dataset.')\n",
      "/Users/kumazawateruhito/opt/anaconda3/envs/base_root/lib/python3.7/site-packages/lightgbm/basic.py:1513: UserWarning: categorical_column in param dict is overridden.\n",
      "  _log_warning(f'{cat_alias} in param dict is overridden.')\n"
     ]
    },
    {
     "name": "stdout",
     "output_type": "stream",
     "text": [
      "[LightGBM] [Info] Number of positive: 2519, number of negative: 19183\n",
      "[LightGBM] [Warning] Auto-choosing row-wise multi-threading, the overhead of testing was 0.002033 seconds.\n",
      "You can set `force_row_wise=true` to remove the overhead.\n",
      "And if memory is not enough, you can set `force_col_wise=true`.\n",
      "[LightGBM] [Info] Total Bins 1243\n",
      "[LightGBM] [Info] Number of data points in the train set: 21702, number of used features: 17\n",
      "[LightGBM] [Info] [binary:BoostFromScore]: pavg=0.116072 -> initscore=-2.030162\n",
      "[LightGBM] [Info] Start training from score -2.030162\n",
      "[1]\tvalid_0's auc: 0.873039\n",
      "Training until validation scores don't improve for 100 rounds\n",
      "[2]\tvalid_0's auc: 0.902138\n",
      "[3]\tvalid_0's auc: 0.911537\n",
      "[4]\tvalid_0's auc: 0.913536\n",
      "[5]\tvalid_0's auc: 0.917607\n",
      "[6]\tvalid_0's auc: 0.91991\n",
      "[7]\tvalid_0's auc: 0.920735\n",
      "[8]\tvalid_0's auc: 0.921292\n",
      "[9]\tvalid_0's auc: 0.922296\n",
      "[10]\tvalid_0's auc: 0.923189\n",
      "[11]\tvalid_0's auc: 0.923843\n",
      "[12]\tvalid_0's auc: 0.925061\n",
      "[13]\tvalid_0's auc: 0.925297\n",
      "[14]\tvalid_0's auc: 0.925586\n",
      "[15]\tvalid_0's auc: 0.927331\n",
      "[16]\tvalid_0's auc: 0.927779\n",
      "[17]\tvalid_0's auc: 0.927755\n",
      "[18]\tvalid_0's auc: 0.928136\n",
      "[19]\tvalid_0's auc: 0.928234\n",
      "[20]\tvalid_0's auc: 0.928241\n",
      "[21]\tvalid_0's auc: 0.928581\n",
      "[22]\tvalid_0's auc: 0.928493\n",
      "[23]\tvalid_0's auc: 0.929039\n",
      "[24]\tvalid_0's auc: 0.929473\n",
      "[25]\tvalid_0's auc: 0.930284\n",
      "[26]\tvalid_0's auc: 0.930262\n",
      "[27]\tvalid_0's auc: 0.930528\n",
      "[28]\tvalid_0's auc: 0.930803\n",
      "[29]\tvalid_0's auc: 0.930989\n",
      "[30]\tvalid_0's auc: 0.931157\n",
      "[31]\tvalid_0's auc: 0.931329\n",
      "[32]\tvalid_0's auc: 0.931347\n",
      "[33]\tvalid_0's auc: 0.931309\n",
      "[34]\tvalid_0's auc: 0.931295\n",
      "[35]\tvalid_0's auc: 0.931426\n",
      "[36]\tvalid_0's auc: 0.931345\n",
      "[37]\tvalid_0's auc: 0.931545\n",
      "[38]\tvalid_0's auc: 0.931747\n",
      "[39]\tvalid_0's auc: 0.93194\n",
      "[40]\tvalid_0's auc: 0.931793\n",
      "[41]\tvalid_0's auc: 0.931739\n",
      "[42]\tvalid_0's auc: 0.931887\n",
      "[43]\tvalid_0's auc: 0.931793\n",
      "[44]\tvalid_0's auc: 0.931852\n",
      "[45]\tvalid_0's auc: 0.931693\n",
      "[46]\tvalid_0's auc: 0.932003\n",
      "[47]\tvalid_0's auc: 0.932101\n",
      "[48]\tvalid_0's auc: 0.932108\n",
      "[49]\tvalid_0's auc: 0.932237\n",
      "[50]\tvalid_0's auc: 0.932164\n",
      "[51]\tvalid_0's auc: 0.932258\n",
      "[52]\tvalid_0's auc: 0.932075\n",
      "[53]\tvalid_0's auc: 0.932086\n",
      "[54]\tvalid_0's auc: 0.932122\n",
      "[55]\tvalid_0's auc: 0.932192\n",
      "[56]\tvalid_0's auc: 0.932261\n",
      "[57]\tvalid_0's auc: 0.932259\n",
      "[58]\tvalid_0's auc: 0.932265\n",
      "[59]\tvalid_0's auc: 0.932372\n",
      "[60]\tvalid_0's auc: 0.932481\n",
      "[61]\tvalid_0's auc: 0.932428\n",
      "[62]\tvalid_0's auc: 0.932294\n",
      "[63]\tvalid_0's auc: 0.932406\n",
      "[64]\tvalid_0's auc: 0.932323\n",
      "[65]\tvalid_0's auc: 0.932339\n",
      "[66]\tvalid_0's auc: 0.932194\n",
      "[67]\tvalid_0's auc: 0.932165\n",
      "[68]\tvalid_0's auc: 0.932125\n",
      "[69]\tvalid_0's auc: 0.932227\n",
      "[70]\tvalid_0's auc: 0.932207\n",
      "[71]\tvalid_0's auc: 0.932311\n",
      "[72]\tvalid_0's auc: 0.932218\n",
      "[73]\tvalid_0's auc: 0.932155\n",
      "[74]\tvalid_0's auc: 0.932181\n",
      "[75]\tvalid_0's auc: 0.932262\n",
      "[76]\tvalid_0's auc: 0.932174\n",
      "[77]\tvalid_0's auc: 0.932077\n",
      "[78]\tvalid_0's auc: 0.932096\n",
      "[79]\tvalid_0's auc: 0.932199\n",
      "[80]\tvalid_0's auc: 0.932044\n",
      "[81]\tvalid_0's auc: 0.932004\n",
      "[82]\tvalid_0's auc: 0.931993\n",
      "[83]\tvalid_0's auc: 0.931975\n",
      "[84]\tvalid_0's auc: 0.932088\n",
      "[85]\tvalid_0's auc: 0.932056\n",
      "[86]\tvalid_0's auc: 0.932042\n",
      "[87]\tvalid_0's auc: 0.932069\n",
      "[88]\tvalid_0's auc: 0.93206\n",
      "[89]\tvalid_0's auc: 0.932105\n",
      "[90]\tvalid_0's auc: 0.932078\n",
      "[91]\tvalid_0's auc: 0.932028\n",
      "[92]\tvalid_0's auc: 0.932083\n",
      "[93]\tvalid_0's auc: 0.932018\n",
      "[94]\tvalid_0's auc: 0.931933\n",
      "[95]\tvalid_0's auc: 0.931913\n",
      "[96]\tvalid_0's auc: 0.932158\n",
      "[97]\tvalid_0's auc: 0.932124\n",
      "[98]\tvalid_0's auc: 0.932017\n",
      "[99]\tvalid_0's auc: 0.931893\n",
      "[100]\tvalid_0's auc: 0.931814\n",
      "[101]\tvalid_0's auc: 0.931863\n",
      "[102]\tvalid_0's auc: 0.931797\n",
      "[103]\tvalid_0's auc: 0.931745\n",
      "[104]\tvalid_0's auc: 0.931741\n",
      "[105]\tvalid_0's auc: 0.931859\n",
      "[106]\tvalid_0's auc: 0.93195\n",
      "[107]\tvalid_0's auc: 0.931921\n",
      "[108]\tvalid_0's auc: 0.931847\n",
      "[109]\tvalid_0's auc: 0.93189\n",
      "[110]\tvalid_0's auc: 0.931898\n",
      "[111]\tvalid_0's auc: 0.931846\n",
      "[112]\tvalid_0's auc: 0.931939\n",
      "[113]\tvalid_0's auc: 0.931919\n",
      "[114]\tvalid_0's auc: 0.932007\n",
      "[115]\tvalid_0's auc: 0.931926\n",
      "[116]\tvalid_0's auc: 0.931833\n",
      "[117]\tvalid_0's auc: 0.931775\n",
      "[118]\tvalid_0's auc: 0.931927\n",
      "[119]\tvalid_0's auc: 0.931924\n",
      "[120]\tvalid_0's auc: 0.93182\n",
      "[121]\tvalid_0's auc: 0.931747\n",
      "[122]\tvalid_0's auc: 0.931829\n",
      "[123]\tvalid_0's auc: 0.931859\n",
      "[124]\tvalid_0's auc: 0.93181\n",
      "[125]\tvalid_0's auc: 0.931977\n",
      "[126]\tvalid_0's auc: 0.932075\n",
      "[127]\tvalid_0's auc: 0.932065\n",
      "[128]\tvalid_0's auc: 0.932016\n",
      "[129]\tvalid_0's auc: 0.932057\n",
      "[130]\tvalid_0's auc: 0.932144\n",
      "[131]\tvalid_0's auc: 0.932115\n",
      "[132]\tvalid_0's auc: 0.932049\n",
      "[133]\tvalid_0's auc: 0.932015\n",
      "[134]\tvalid_0's auc: 0.932001\n",
      "[135]\tvalid_0's auc: 0.93194\n",
      "[136]\tvalid_0's auc: 0.931908\n",
      "[137]\tvalid_0's auc: 0.931838\n",
      "[138]\tvalid_0's auc: 0.931873\n",
      "[139]\tvalid_0's auc: 0.93187\n",
      "[140]\tvalid_0's auc: 0.931855\n",
      "[141]\tvalid_0's auc: 0.93183\n",
      "[142]\tvalid_0's auc: 0.931802\n",
      "[143]\tvalid_0's auc: 0.931816\n",
      "[144]\tvalid_0's auc: 0.931804\n",
      "[145]\tvalid_0's auc: 0.931809\n",
      "[146]\tvalid_0's auc: 0.931865\n",
      "[147]\tvalid_0's auc: 0.931793\n",
      "[148]\tvalid_0's auc: 0.931753\n",
      "[149]\tvalid_0's auc: 0.931815\n",
      "[150]\tvalid_0's auc: 0.931841\n",
      "[151]\tvalid_0's auc: 0.93184\n",
      "[152]\tvalid_0's auc: 0.931825\n",
      "[153]\tvalid_0's auc: 0.931685\n",
      "[154]\tvalid_0's auc: 0.931725\n",
      "[155]\tvalid_0's auc: 0.931715\n",
      "[156]\tvalid_0's auc: 0.931613\n",
      "[157]\tvalid_0's auc: 0.931603\n",
      "[158]\tvalid_0's auc: 0.931654\n",
      "[159]\tvalid_0's auc: 0.931652\n",
      "[160]\tvalid_0's auc: 0.931586\n",
      "Early stopping, best iteration is:\n",
      "[60]\tvalid_0's auc: 0.932481\n"
     ]
    }
   ],
   "source": [
    "from sklearn.model_selection import train_test_split\n",
    "from sklearn.metrics import auc\n",
    "import lightgbm as lgb\n",
    "\n",
    "df_train, df_val = train_test_split(train, test_size=0.2, random_state=0)\n",
    "\n",
    "col = \"y\"\n",
    "trainy = df_train[col]\n",
    "trainX = df_train.drop(col, axis=1)\n",
    "\n",
    "valy = df_val[col]\n",
    "valX = df_val.drop(col, axis=1)\n",
    "\n",
    "trains = lgb.Dataset(trainX, trainy)\n",
    "valids = lgb.Dataset(valX, valy)\n",
    "\n",
    "params = {\n",
    "    \"objective\":\"binary\",\n",
    "    \"metrics\":\"auc\"\n",
    "}\n",
    "\n",
    "model = lgb.train(params, \n",
    "                  train_set=trains, \n",
    "                  valid_sets=valids, \n",
    "                  num_boost_round=1000, early_stopping_rounds=100)"
   ]
  },
  {
   "cell_type": "code",
   "execution_count": null,
   "id": "a015bebd-ac73-4882-bd31-66e13e009dcf",
   "metadata": {},
   "outputs": [],
   "source": []
  },
  {
   "cell_type": "code",
   "execution_count": null,
   "id": "8600c5e4-a834-4da6-abb8-fd998d5271fc",
   "metadata": {},
   "outputs": [],
   "source": []
  },
  {
   "cell_type": "code",
   "execution_count": 93,
   "id": "a35aaaa9-8d13-454b-aeca-9a1a9a355344",
   "metadata": {},
   "outputs": [],
   "source": [
    "testX = test.copy()"
   ]
  },
  {
   "cell_type": "code",
   "execution_count": 69,
   "id": "6c34ebaf-badf-4f8e-a705-db1dffee0d48",
   "metadata": {},
   "outputs": [
    {
     "name": "stdout",
     "output_type": "stream",
     "text": [
      "<class 'pandas.core.frame.DataFrame'>\n",
      "RangeIndex: 18083 entries, 0 to 18082\n",
      "Data columns (total 17 columns):\n",
      " #   Column     Non-Null Count  Dtype   \n",
      "---  ------     --------------  -----   \n",
      " 0   id         18083 non-null  int64   \n",
      " 1   age        18083 non-null  int64   \n",
      " 2   job        18083 non-null  category\n",
      " 3   marital    18083 non-null  category\n",
      " 4   education  18083 non-null  category\n",
      " 5   default    18083 non-null  category\n",
      " 6   balance    18083 non-null  int64   \n",
      " 7   housing    18083 non-null  category\n",
      " 8   loan       18083 non-null  category\n",
      " 9   contact    18083 non-null  category\n",
      " 10  day        18083 non-null  int64   \n",
      " 11  month      18083 non-null  category\n",
      " 12  duration   18083 non-null  int64   \n",
      " 13  campaign   18083 non-null  int64   \n",
      " 14  pdays      18083 non-null  int64   \n",
      " 15  previous   18083 non-null  int64   \n",
      " 16  poutcome   18083 non-null  category\n",
      "dtypes: category(9), int64(8)\n",
      "memory usage: 1.3 MB\n"
     ]
    }
   ],
   "source": [
    "testX.info()"
   ]
  },
  {
   "cell_type": "code",
   "execution_count": 70,
   "id": "0803a4b1-af9c-4471-bd8c-1013e93ff15c",
   "metadata": {},
   "outputs": [],
   "source": [
    "for col in [\"job\", \"marital\", \"education\", \"default\", \"housing\", \"loan\", \"contact\", \"month\", \"poutcome\"]:\n",
    "    testX[col] = test[col].astype(\"category\")"
   ]
  },
  {
   "cell_type": "code",
   "execution_count": 71,
   "id": "113157d9-fc82-4200-953a-71781c842584",
   "metadata": {},
   "outputs": [
    {
     "name": "stdout",
     "output_type": "stream",
     "text": [
      "<class 'pandas.core.frame.DataFrame'>\n",
      "RangeIndex: 18083 entries, 0 to 18082\n",
      "Data columns (total 17 columns):\n",
      " #   Column     Non-Null Count  Dtype   \n",
      "---  ------     --------------  -----   \n",
      " 0   id         18083 non-null  int64   \n",
      " 1   age        18083 non-null  int64   \n",
      " 2   job        18083 non-null  category\n",
      " 3   marital    18083 non-null  category\n",
      " 4   education  18083 non-null  category\n",
      " 5   default    18083 non-null  category\n",
      " 6   balance    18083 non-null  int64   \n",
      " 7   housing    18083 non-null  category\n",
      " 8   loan       18083 non-null  category\n",
      " 9   contact    18083 non-null  category\n",
      " 10  day        18083 non-null  int64   \n",
      " 11  month      18083 non-null  category\n",
      " 12  duration   18083 non-null  int64   \n",
      " 13  campaign   18083 non-null  int64   \n",
      " 14  pdays      18083 non-null  int64   \n",
      " 15  previous   18083 non-null  int64   \n",
      " 16  poutcome   18083 non-null  category\n",
      "dtypes: category(9), int64(8)\n",
      "memory usage: 1.3 MB\n"
     ]
    }
   ],
   "source": [
    "testX.info()"
   ]
  },
  {
   "cell_type": "code",
   "execution_count": 72,
   "id": "2ffc6f78-1008-4842-b936-8c449ae79232",
   "metadata": {},
   "outputs": [],
   "source": [
    "pred = model.predict(testX)"
   ]
  },
  {
   "cell_type": "code",
   "execution_count": 73,
   "id": "da4c7344-0a7a-4306-a157-de2822c79683",
   "metadata": {},
   "outputs": [
    {
     "data": {
      "text/plain": [
       "array([0.66701643, 0.6730471 , 0.01883297, ..., 0.00184338, 0.00644143,\n",
       "       0.00728678])"
      ]
     },
     "execution_count": 73,
     "metadata": {},
     "output_type": "execute_result"
    }
   ],
   "source": [
    "pred"
   ]
  },
  {
   "cell_type": "code",
   "execution_count": 74,
   "id": "82ac5aaa-123e-45d2-9e7b-8e83d5660768",
   "metadata": {},
   "outputs": [],
   "source": [
    "sample[1] = pred"
   ]
  },
  {
   "cell_type": "code",
   "execution_count": 75,
   "id": "950ec33a-7d75-4bd6-93b0-f05241e46ae1",
   "metadata": {},
   "outputs": [],
   "source": [
    "sample.to_csv(\"lgb_bank1.csv\", index=None, header=None)"
   ]
  },
  {
   "cell_type": "code",
   "execution_count": null,
   "id": "bd256df5-f048-4ecb-b98c-2733a14e0ec4",
   "metadata": {},
   "outputs": [],
   "source": []
  },
  {
   "cell_type": "code",
   "execution_count": null,
   "id": "0964dce7-796e-4694-80b7-6735233e238b",
   "metadata": {},
   "outputs": [],
   "source": []
  },
  {
   "cell_type": "code",
   "execution_count": 89,
   "id": "a87c8db7-fe41-41e5-8ebb-8a05ec68263c",
   "metadata": {},
   "outputs": [
    {
     "data": {
      "text/plain": [
       "array([157, 170,  38,  33,   9,   7, 208,  57,  17,  85, 219, 191, 337,\n",
       "        72, 142,  28,  30], dtype=int32)"
      ]
     },
     "execution_count": 89,
     "metadata": {},
     "output_type": "execute_result"
    }
   ],
   "source": [
    "model.feature_importance(importance_type=\"split\")"
   ]
  },
  {
   "cell_type": "code",
   "execution_count": 90,
   "id": "c68410b9-7cd3-480c-97ea-6235190eeaa0",
   "metadata": {},
   "outputs": [
    {
     "data": {
      "text/html": [
       "<div>\n",
       "<style scoped>\n",
       "    .dataframe tbody tr th:only-of-type {\n",
       "        vertical-align: middle;\n",
       "    }\n",
       "\n",
       "    .dataframe tbody tr th {\n",
       "        vertical-align: top;\n",
       "    }\n",
       "\n",
       "    .dataframe thead th {\n",
       "        text-align: right;\n",
       "    }\n",
       "</style>\n",
       "<table border=\"1\" class=\"dataframe\">\n",
       "  <thead>\n",
       "    <tr style=\"text-align: right;\">\n",
       "      <th></th>\n",
       "      <th>importance</th>\n",
       "    </tr>\n",
       "  </thead>\n",
       "  <tbody>\n",
       "    <tr>\n",
       "      <th>duration</th>\n",
       "      <td>337</td>\n",
       "    </tr>\n",
       "    <tr>\n",
       "      <th>day</th>\n",
       "      <td>219</td>\n",
       "    </tr>\n",
       "    <tr>\n",
       "      <th>balance</th>\n",
       "      <td>208</td>\n",
       "    </tr>\n",
       "    <tr>\n",
       "      <th>month</th>\n",
       "      <td>191</td>\n",
       "    </tr>\n",
       "    <tr>\n",
       "      <th>age</th>\n",
       "      <td>170</td>\n",
       "    </tr>\n",
       "    <tr>\n",
       "      <th>id</th>\n",
       "      <td>157</td>\n",
       "    </tr>\n",
       "    <tr>\n",
       "      <th>pdays</th>\n",
       "      <td>142</td>\n",
       "    </tr>\n",
       "    <tr>\n",
       "      <th>contact</th>\n",
       "      <td>85</td>\n",
       "    </tr>\n",
       "    <tr>\n",
       "      <th>campaign</th>\n",
       "      <td>72</td>\n",
       "    </tr>\n",
       "    <tr>\n",
       "      <th>housing</th>\n",
       "      <td>57</td>\n",
       "    </tr>\n",
       "    <tr>\n",
       "      <th>job</th>\n",
       "      <td>38</td>\n",
       "    </tr>\n",
       "    <tr>\n",
       "      <th>marital</th>\n",
       "      <td>33</td>\n",
       "    </tr>\n",
       "    <tr>\n",
       "      <th>poutcome</th>\n",
       "      <td>30</td>\n",
       "    </tr>\n",
       "    <tr>\n",
       "      <th>previous</th>\n",
       "      <td>28</td>\n",
       "    </tr>\n",
       "    <tr>\n",
       "      <th>loan</th>\n",
       "      <td>17</td>\n",
       "    </tr>\n",
       "    <tr>\n",
       "      <th>education</th>\n",
       "      <td>9</td>\n",
       "    </tr>\n",
       "    <tr>\n",
       "      <th>default</th>\n",
       "      <td>7</td>\n",
       "    </tr>\n",
       "  </tbody>\n",
       "</table>\n",
       "</div>"
      ],
      "text/plain": [
       "           importance\n",
       "duration          337\n",
       "day               219\n",
       "balance           208\n",
       "month             191\n",
       "age               170\n",
       "id                157\n",
       "pdays             142\n",
       "contact            85\n",
       "campaign           72\n",
       "housing            57\n",
       "job                38\n",
       "marital            33\n",
       "poutcome           30\n",
       "previous           28\n",
       "loan               17\n",
       "education           9\n",
       "default             7"
      ]
     },
     "execution_count": 90,
     "metadata": {},
     "output_type": "execute_result"
    }
   ],
   "source": [
    "pd.DataFrame(model.feature_importance(importance_type=\"split\"), index=valX.columns, columns=[\"importance\"]).sort_values(\"importance\", ascending=False)"
   ]
  },
  {
   "cell_type": "code",
   "execution_count": null,
   "id": "365933d2-1791-479d-aa6c-163a0bb8fc31",
   "metadata": {},
   "outputs": [],
   "source": []
  },
  {
   "cell_type": "code",
   "execution_count": 91,
   "id": "3690ad31-6702-4ac6-8671-69c0d3dc31b3",
   "metadata": {},
   "outputs": [
    {
     "data": {
      "text/plain": [
       "array([ 1022.34221077,  1695.52275681,   367.74752104,   294.51625681,\n",
       "          56.40056038,    39.47429967,  1645.95513487,  1894.08394575,\n",
       "         201.99473763,  2200.45195246,  2691.93933034,  5520.94137025,\n",
       "       19106.71541071,   643.25726724,  2021.10009193,   234.95312953,\n",
       "        4926.48470163])"
      ]
     },
     "execution_count": 91,
     "metadata": {},
     "output_type": "execute_result"
    }
   ],
   "source": [
    "model.feature_importance(importance_type=\"gain\")"
   ]
  },
  {
   "cell_type": "code",
   "execution_count": 92,
   "id": "9fbf2123-de32-4b0a-bffb-291ac0c1c659",
   "metadata": {},
   "outputs": [
    {
     "data": {
      "text/html": [
       "<div>\n",
       "<style scoped>\n",
       "    .dataframe tbody tr th:only-of-type {\n",
       "        vertical-align: middle;\n",
       "    }\n",
       "\n",
       "    .dataframe tbody tr th {\n",
       "        vertical-align: top;\n",
       "    }\n",
       "\n",
       "    .dataframe thead th {\n",
       "        text-align: right;\n",
       "    }\n",
       "</style>\n",
       "<table border=\"1\" class=\"dataframe\">\n",
       "  <thead>\n",
       "    <tr style=\"text-align: right;\">\n",
       "      <th></th>\n",
       "      <th>importance</th>\n",
       "    </tr>\n",
       "  </thead>\n",
       "  <tbody>\n",
       "    <tr>\n",
       "      <th>duration</th>\n",
       "      <td>19106.715411</td>\n",
       "    </tr>\n",
       "    <tr>\n",
       "      <th>month</th>\n",
       "      <td>5520.941370</td>\n",
       "    </tr>\n",
       "    <tr>\n",
       "      <th>poutcome</th>\n",
       "      <td>4926.484702</td>\n",
       "    </tr>\n",
       "    <tr>\n",
       "      <th>day</th>\n",
       "      <td>2691.939330</td>\n",
       "    </tr>\n",
       "    <tr>\n",
       "      <th>contact</th>\n",
       "      <td>2200.451952</td>\n",
       "    </tr>\n",
       "    <tr>\n",
       "      <th>pdays</th>\n",
       "      <td>2021.100092</td>\n",
       "    </tr>\n",
       "    <tr>\n",
       "      <th>housing</th>\n",
       "      <td>1894.083946</td>\n",
       "    </tr>\n",
       "    <tr>\n",
       "      <th>age</th>\n",
       "      <td>1695.522757</td>\n",
       "    </tr>\n",
       "    <tr>\n",
       "      <th>balance</th>\n",
       "      <td>1645.955135</td>\n",
       "    </tr>\n",
       "    <tr>\n",
       "      <th>id</th>\n",
       "      <td>1022.342211</td>\n",
       "    </tr>\n",
       "    <tr>\n",
       "      <th>campaign</th>\n",
       "      <td>643.257267</td>\n",
       "    </tr>\n",
       "    <tr>\n",
       "      <th>job</th>\n",
       "      <td>367.747521</td>\n",
       "    </tr>\n",
       "    <tr>\n",
       "      <th>marital</th>\n",
       "      <td>294.516257</td>\n",
       "    </tr>\n",
       "    <tr>\n",
       "      <th>previous</th>\n",
       "      <td>234.953130</td>\n",
       "    </tr>\n",
       "    <tr>\n",
       "      <th>loan</th>\n",
       "      <td>201.994738</td>\n",
       "    </tr>\n",
       "    <tr>\n",
       "      <th>education</th>\n",
       "      <td>56.400560</td>\n",
       "    </tr>\n",
       "    <tr>\n",
       "      <th>default</th>\n",
       "      <td>39.474300</td>\n",
       "    </tr>\n",
       "  </tbody>\n",
       "</table>\n",
       "</div>"
      ],
      "text/plain": [
       "             importance\n",
       "duration   19106.715411\n",
       "month       5520.941370\n",
       "poutcome    4926.484702\n",
       "day         2691.939330\n",
       "contact     2200.451952\n",
       "pdays       2021.100092\n",
       "housing     1894.083946\n",
       "age         1695.522757\n",
       "balance     1645.955135\n",
       "id          1022.342211\n",
       "campaign     643.257267\n",
       "job          367.747521\n",
       "marital      294.516257\n",
       "previous     234.953130\n",
       "loan         201.994738\n",
       "education     56.400560\n",
       "default       39.474300"
      ]
     },
     "execution_count": 92,
     "metadata": {},
     "output_type": "execute_result"
    }
   ],
   "source": [
    "pd.DataFrame(model.feature_importance(importance_type=\"gain\"), index=valX.columns, columns=[\"importance\"]).sort_values(\"importance\", ascending=False)"
   ]
  },
  {
   "cell_type": "code",
   "execution_count": null,
   "id": "ec1ac8fd-02ef-47ea-bae5-339f592aa3b3",
   "metadata": {},
   "outputs": [],
   "source": []
  },
  {
   "cell_type": "code",
   "execution_count": null,
   "id": "7955c29a-9c6c-4785-8526-36b5a08ef9f4",
   "metadata": {},
   "outputs": [],
   "source": []
  },
  {
   "cell_type": "code",
   "execution_count": null,
   "id": "b4201a9b-b7bb-404f-9e85-2492b5c11837",
   "metadata": {},
   "outputs": [],
   "source": []
  },
  {
   "cell_type": "code",
   "execution_count": null,
   "id": "21c89f34-153b-4170-a849-4b7d67e4444e",
   "metadata": {},
   "outputs": [],
   "source": []
  },
  {
   "cell_type": "code",
   "execution_count": null,
   "id": "8f488f52-86d7-47aa-bd1c-2491d176fd5a",
   "metadata": {},
   "outputs": [],
   "source": []
  },
  {
   "cell_type": "code",
   "execution_count": 102,
   "id": "e79d5afe-9e67-45ce-aabb-6de2c4b7ab36",
   "metadata": {
    "tags": []
   },
   "outputs": [],
   "source": [
    "train = train.drop(\"default\", axis=1)"
   ]
  },
  {
   "cell_type": "code",
   "execution_count": 103,
   "id": "0e9085de-06e3-4614-9015-294df0801d5d",
   "metadata": {},
   "outputs": [
    {
     "name": "stdout",
     "output_type": "stream",
     "text": [
      "<class 'pandas.core.frame.DataFrame'>\n",
      "RangeIndex: 27128 entries, 0 to 27127\n",
      "Data columns (total 17 columns):\n",
      " #   Column     Non-Null Count  Dtype   \n",
      "---  ------     --------------  -----   \n",
      " 0   id         27128 non-null  int64   \n",
      " 1   age        27128 non-null  int64   \n",
      " 2   job        27128 non-null  category\n",
      " 3   marital    27128 non-null  category\n",
      " 4   education  27128 non-null  category\n",
      " 5   balance    27128 non-null  int64   \n",
      " 6   housing    27128 non-null  category\n",
      " 7   loan       27128 non-null  category\n",
      " 8   contact    27128 non-null  category\n",
      " 9   day        27128 non-null  int64   \n",
      " 10  month      27128 non-null  category\n",
      " 11  duration   27128 non-null  int64   \n",
      " 12  campaign   27128 non-null  int64   \n",
      " 13  pdays      27128 non-null  int64   \n",
      " 14  previous   27128 non-null  int64   \n",
      " 15  poutcome   27128 non-null  category\n",
      " 16  y          27128 non-null  int64   \n",
      "dtypes: category(8), int64(9)\n",
      "memory usage: 2.1 MB\n"
     ]
    }
   ],
   "source": [
    "train.info()"
   ]
  },
  {
   "cell_type": "code",
   "execution_count": 104,
   "id": "04f21e5b-96bd-42c2-9013-b3e81a916351",
   "metadata": {},
   "outputs": [],
   "source": [
    "testX = testX.drop(\"default\", axis=1)"
   ]
  },
  {
   "cell_type": "code",
   "execution_count": 105,
   "id": "691a79cf-be28-49bd-a37b-7415c731d45e",
   "metadata": {},
   "outputs": [
    {
     "name": "stdout",
     "output_type": "stream",
     "text": [
      "<class 'pandas.core.frame.DataFrame'>\n",
      "RangeIndex: 18083 entries, 0 to 18082\n",
      "Data columns (total 16 columns):\n",
      " #   Column     Non-Null Count  Dtype   \n",
      "---  ------     --------------  -----   \n",
      " 0   id         18083 non-null  int64   \n",
      " 1   age        18083 non-null  int64   \n",
      " 2   job        18083 non-null  category\n",
      " 3   marital    18083 non-null  category\n",
      " 4   education  18083 non-null  category\n",
      " 5   balance    18083 non-null  int64   \n",
      " 6   housing    18083 non-null  category\n",
      " 7   loan       18083 non-null  category\n",
      " 8   contact    18083 non-null  category\n",
      " 9   day        18083 non-null  int64   \n",
      " 10  month      18083 non-null  category\n",
      " 11  duration   18083 non-null  int64   \n",
      " 12  campaign   18083 non-null  int64   \n",
      " 13  pdays      18083 non-null  int64   \n",
      " 14  previous   18083 non-null  int64   \n",
      " 15  poutcome   18083 non-null  category\n",
      "dtypes: category(8), int64(8)\n",
      "memory usage: 1.2 MB\n"
     ]
    }
   ],
   "source": [
    "testX.info()"
   ]
  },
  {
   "cell_type": "code",
   "execution_count": 106,
   "id": "df5e91dd-8216-4afb-a60f-bf93ca5086ed",
   "metadata": {
    "collapsed": true,
    "jupyter": {
     "outputs_hidden": true
    },
    "tags": []
   },
   "outputs": [
    {
     "name": "stderr",
     "output_type": "stream",
     "text": [
      "/Users/kumazawateruhito/opt/anaconda3/envs/base_root/lib/python3.7/site-packages/lightgbm/engine.py:181: UserWarning: 'early_stopping_rounds' argument is deprecated and will be removed in a future release of LightGBM. Pass 'early_stopping()' callback via 'callbacks' argument instead.\n",
      "  _log_warning(\"'early_stopping_rounds' argument is deprecated and will be removed in a future release of LightGBM. \"\n",
      "/Users/kumazawateruhito/opt/anaconda3/envs/base_root/lib/python3.7/site-packages/lightgbm/basic.py:1780: UserWarning: Overriding the parameters from Reference Dataset.\n",
      "  _log_warning('Overriding the parameters from Reference Dataset.')\n",
      "/Users/kumazawateruhito/opt/anaconda3/envs/base_root/lib/python3.7/site-packages/lightgbm/basic.py:1513: UserWarning: categorical_column in param dict is overridden.\n",
      "  _log_warning(f'{cat_alias} in param dict is overridden.')\n"
     ]
    },
    {
     "name": "stdout",
     "output_type": "stream",
     "text": [
      "[LightGBM] [Info] Number of positive: 2519, number of negative: 19183\n",
      "[LightGBM] [Warning] Auto-choosing row-wise multi-threading, the overhead of testing was 0.001848 seconds.\n",
      "You can set `force_row_wise=true` to remove the overhead.\n",
      "And if memory is not enough, you can set `force_col_wise=true`.\n",
      "[LightGBM] [Info] Total Bins 1240\n",
      "[LightGBM] [Info] Number of data points in the train set: 21702, number of used features: 16\n",
      "[LightGBM] [Info] [binary:BoostFromScore]: pavg=0.116072 -> initscore=-2.030162\n",
      "[LightGBM] [Info] Start training from score -2.030162\n",
      "[1]\tvalid_0's auc: 0.873039\n",
      "Training until validation scores don't improve for 100 rounds\n",
      "[2]\tvalid_0's auc: 0.902138\n",
      "[3]\tvalid_0's auc: 0.911537\n",
      "[4]\tvalid_0's auc: 0.913536\n",
      "[5]\tvalid_0's auc: 0.917607\n",
      "[6]\tvalid_0's auc: 0.91991\n",
      "[7]\tvalid_0's auc: 0.920735\n",
      "[8]\tvalid_0's auc: 0.921292\n",
      "[9]\tvalid_0's auc: 0.922296\n",
      "[10]\tvalid_0's auc: 0.923189\n",
      "[11]\tvalid_0's auc: 0.923843\n",
      "[12]\tvalid_0's auc: 0.925061\n",
      "[13]\tvalid_0's auc: 0.925297\n",
      "[14]\tvalid_0's auc: 0.925586\n",
      "[15]\tvalid_0's auc: 0.927235\n",
      "[16]\tvalid_0's auc: 0.927654\n",
      "[17]\tvalid_0's auc: 0.927731\n",
      "[18]\tvalid_0's auc: 0.928038\n",
      "[19]\tvalid_0's auc: 0.928084\n",
      "[20]\tvalid_0's auc: 0.928478\n",
      "[21]\tvalid_0's auc: 0.928464\n",
      "[22]\tvalid_0's auc: 0.928613\n",
      "[23]\tvalid_0's auc: 0.92928\n",
      "[24]\tvalid_0's auc: 0.929819\n",
      "[25]\tvalid_0's auc: 0.930178\n",
      "[26]\tvalid_0's auc: 0.930275\n",
      "[27]\tvalid_0's auc: 0.930721\n",
      "[28]\tvalid_0's auc: 0.931065\n",
      "[29]\tvalid_0's auc: 0.93121\n",
      "[30]\tvalid_0's auc: 0.931531\n",
      "[31]\tvalid_0's auc: 0.93176\n",
      "[32]\tvalid_0's auc: 0.931832\n",
      "[33]\tvalid_0's auc: 0.932114\n",
      "[34]\tvalid_0's auc: 0.93261\n",
      "[35]\tvalid_0's auc: 0.932594\n",
      "[36]\tvalid_0's auc: 0.93259\n",
      "[37]\tvalid_0's auc: 0.93259\n",
      "[38]\tvalid_0's auc: 0.932387\n",
      "[39]\tvalid_0's auc: 0.93238\n",
      "[40]\tvalid_0's auc: 0.932719\n",
      "[41]\tvalid_0's auc: 0.932866\n",
      "[42]\tvalid_0's auc: 0.932816\n",
      "[43]\tvalid_0's auc: 0.93258\n",
      "[44]\tvalid_0's auc: 0.932567\n",
      "[45]\tvalid_0's auc: 0.932575\n",
      "[46]\tvalid_0's auc: 0.932979\n",
      "[47]\tvalid_0's auc: 0.933145\n",
      "[48]\tvalid_0's auc: 0.933185\n",
      "[49]\tvalid_0's auc: 0.933196\n",
      "[50]\tvalid_0's auc: 0.933054\n",
      "[51]\tvalid_0's auc: 0.933096\n",
      "[52]\tvalid_0's auc: 0.933401\n",
      "[53]\tvalid_0's auc: 0.933396\n",
      "[54]\tvalid_0's auc: 0.933404\n",
      "[55]\tvalid_0's auc: 0.933387\n",
      "[56]\tvalid_0's auc: 0.933424\n",
      "[57]\tvalid_0's auc: 0.933391\n",
      "[58]\tvalid_0's auc: 0.933309\n",
      "[59]\tvalid_0's auc: 0.933301\n",
      "[60]\tvalid_0's auc: 0.93333\n",
      "[61]\tvalid_0's auc: 0.933241\n",
      "[62]\tvalid_0's auc: 0.933235\n",
      "[63]\tvalid_0's auc: 0.933409\n",
      "[64]\tvalid_0's auc: 0.933499\n",
      "[65]\tvalid_0's auc: 0.933477\n",
      "[66]\tvalid_0's auc: 0.933412\n",
      "[67]\tvalid_0's auc: 0.933404\n",
      "[68]\tvalid_0's auc: 0.933317\n",
      "[69]\tvalid_0's auc: 0.933333\n",
      "[70]\tvalid_0's auc: 0.933327\n",
      "[71]\tvalid_0's auc: 0.933228\n",
      "[72]\tvalid_0's auc: 0.933233\n",
      "[73]\tvalid_0's auc: 0.933314\n",
      "[74]\tvalid_0's auc: 0.933512\n",
      "[75]\tvalid_0's auc: 0.933533\n",
      "[76]\tvalid_0's auc: 0.933468\n",
      "[77]\tvalid_0's auc: 0.933466\n",
      "[78]\tvalid_0's auc: 0.933426\n",
      "[79]\tvalid_0's auc: 0.933296\n",
      "[80]\tvalid_0's auc: 0.933255\n",
      "[81]\tvalid_0's auc: 0.933271\n",
      "[82]\tvalid_0's auc: 0.933422\n",
      "[83]\tvalid_0's auc: 0.93339\n",
      "[84]\tvalid_0's auc: 0.93338\n",
      "[85]\tvalid_0's auc: 0.933376\n",
      "[86]\tvalid_0's auc: 0.933579\n",
      "[87]\tvalid_0's auc: 0.933616\n",
      "[88]\tvalid_0's auc: 0.933514\n",
      "[89]\tvalid_0's auc: 0.933546\n",
      "[90]\tvalid_0's auc: 0.933581\n",
      "[91]\tvalid_0's auc: 0.933535\n",
      "[92]\tvalid_0's auc: 0.93361\n",
      "[93]\tvalid_0's auc: 0.933591\n",
      "[94]\tvalid_0's auc: 0.93346\n",
      "[95]\tvalid_0's auc: 0.933551\n",
      "[96]\tvalid_0's auc: 0.933724\n",
      "[97]\tvalid_0's auc: 0.933815\n",
      "[98]\tvalid_0's auc: 0.933977\n",
      "[99]\tvalid_0's auc: 0.934023\n",
      "[100]\tvalid_0's auc: 0.934009\n",
      "[101]\tvalid_0's auc: 0.933968\n",
      "[102]\tvalid_0's auc: 0.934179\n",
      "[103]\tvalid_0's auc: 0.934127\n",
      "[104]\tvalid_0's auc: 0.934149\n",
      "[105]\tvalid_0's auc: 0.934087\n",
      "[106]\tvalid_0's auc: 0.934006\n",
      "[107]\tvalid_0's auc: 0.933921\n",
      "[108]\tvalid_0's auc: 0.933742\n",
      "[109]\tvalid_0's auc: 0.933692\n",
      "[110]\tvalid_0's auc: 0.933708\n",
      "[111]\tvalid_0's auc: 0.933768\n",
      "[112]\tvalid_0's auc: 0.933746\n",
      "[113]\tvalid_0's auc: 0.933918\n",
      "[114]\tvalid_0's auc: 0.933934\n",
      "[115]\tvalid_0's auc: 0.933997\n",
      "[116]\tvalid_0's auc: 0.934109\n",
      "[117]\tvalid_0's auc: 0.934078\n",
      "[118]\tvalid_0's auc: 0.934116\n",
      "[119]\tvalid_0's auc: 0.93408\n",
      "[120]\tvalid_0's auc: 0.934143\n",
      "[121]\tvalid_0's auc: 0.934099\n",
      "[122]\tvalid_0's auc: 0.93404\n",
      "[123]\tvalid_0's auc: 0.934019\n",
      "[124]\tvalid_0's auc: 0.934124\n",
      "[125]\tvalid_0's auc: 0.934098\n",
      "[126]\tvalid_0's auc: 0.934091\n",
      "[127]\tvalid_0's auc: 0.934151\n",
      "[128]\tvalid_0's auc: 0.934397\n",
      "[129]\tvalid_0's auc: 0.934386\n",
      "[130]\tvalid_0's auc: 0.934329\n",
      "[131]\tvalid_0's auc: 0.934437\n",
      "[132]\tvalid_0's auc: 0.93438\n",
      "[133]\tvalid_0's auc: 0.934296\n",
      "[134]\tvalid_0's auc: 0.934306\n",
      "[135]\tvalid_0's auc: 0.934286\n",
      "[136]\tvalid_0's auc: 0.934192\n",
      "[137]\tvalid_0's auc: 0.934118\n",
      "[138]\tvalid_0's auc: 0.934123\n",
      "[139]\tvalid_0's auc: 0.93409\n",
      "[140]\tvalid_0's auc: 0.934067\n",
      "[141]\tvalid_0's auc: 0.934138\n",
      "[142]\tvalid_0's auc: 0.934138\n",
      "[143]\tvalid_0's auc: 0.934187\n",
      "[144]\tvalid_0's auc: 0.934159\n",
      "[145]\tvalid_0's auc: 0.934181\n",
      "[146]\tvalid_0's auc: 0.934088\n",
      "[147]\tvalid_0's auc: 0.934016\n",
      "[148]\tvalid_0's auc: 0.933857\n",
      "[149]\tvalid_0's auc: 0.933767\n",
      "[150]\tvalid_0's auc: 0.933815\n",
      "[151]\tvalid_0's auc: 0.933885\n",
      "[152]\tvalid_0's auc: 0.93388\n",
      "[153]\tvalid_0's auc: 0.933785\n",
      "[154]\tvalid_0's auc: 0.933736\n",
      "[155]\tvalid_0's auc: 0.933732\n",
      "[156]\tvalid_0's auc: 0.933693\n",
      "[157]\tvalid_0's auc: 0.933517\n",
      "[158]\tvalid_0's auc: 0.933558\n",
      "[159]\tvalid_0's auc: 0.933527\n",
      "[160]\tvalid_0's auc: 0.933445\n",
      "[161]\tvalid_0's auc: 0.933385\n",
      "[162]\tvalid_0's auc: 0.93341\n",
      "[163]\tvalid_0's auc: 0.933423\n",
      "[164]\tvalid_0's auc: 0.933367\n",
      "[165]\tvalid_0's auc: 0.933401\n",
      "[166]\tvalid_0's auc: 0.93337\n",
      "[167]\tvalid_0's auc: 0.933359\n",
      "[168]\tvalid_0's auc: 0.933295\n",
      "[169]\tvalid_0's auc: 0.933262\n",
      "[170]\tvalid_0's auc: 0.933251\n",
      "[171]\tvalid_0's auc: 0.933145\n",
      "[172]\tvalid_0's auc: 0.93318\n",
      "[173]\tvalid_0's auc: 0.933195\n",
      "[174]\tvalid_0's auc: 0.933177\n",
      "[175]\tvalid_0's auc: 0.933267\n",
      "[176]\tvalid_0's auc: 0.933152\n",
      "[177]\tvalid_0's auc: 0.93302\n",
      "[178]\tvalid_0's auc: 0.933015\n",
      "[179]\tvalid_0's auc: 0.932982\n",
      "[180]\tvalid_0's auc: 0.932943\n",
      "[181]\tvalid_0's auc: 0.932805\n",
      "[182]\tvalid_0's auc: 0.932654\n",
      "[183]\tvalid_0's auc: 0.932701\n",
      "[184]\tvalid_0's auc: 0.932732\n",
      "[185]\tvalid_0's auc: 0.932665\n",
      "[186]\tvalid_0's auc: 0.932623\n",
      "[187]\tvalid_0's auc: 0.932617\n",
      "[188]\tvalid_0's auc: 0.932602\n",
      "[189]\tvalid_0's auc: 0.93251\n",
      "[190]\tvalid_0's auc: 0.932435\n",
      "[191]\tvalid_0's auc: 0.932494\n",
      "[192]\tvalid_0's auc: 0.932359\n",
      "[193]\tvalid_0's auc: 0.932381\n",
      "[194]\tvalid_0's auc: 0.932365\n",
      "[195]\tvalid_0's auc: 0.932349\n",
      "[196]\tvalid_0's auc: 0.93247\n",
      "[197]\tvalid_0's auc: 0.932424\n",
      "[198]\tvalid_0's auc: 0.932428\n",
      "[199]\tvalid_0's auc: 0.932356\n",
      "[200]\tvalid_0's auc: 0.932272\n",
      "[201]\tvalid_0's auc: 0.932362\n",
      "[202]\tvalid_0's auc: 0.932411\n",
      "[203]\tvalid_0's auc: 0.932473\n",
      "[204]\tvalid_0's auc: 0.932418\n",
      "[205]\tvalid_0's auc: 0.932375\n",
      "[206]\tvalid_0's auc: 0.932352\n",
      "[207]\tvalid_0's auc: 0.932332\n",
      "[208]\tvalid_0's auc: 0.932331\n",
      "[209]\tvalid_0's auc: 0.93232\n",
      "[210]\tvalid_0's auc: 0.932285\n",
      "[211]\tvalid_0's auc: 0.932344\n",
      "[212]\tvalid_0's auc: 0.93229\n",
      "[213]\tvalid_0's auc: 0.932245\n",
      "[214]\tvalid_0's auc: 0.932155\n",
      "[215]\tvalid_0's auc: 0.932188\n",
      "[216]\tvalid_0's auc: 0.932312\n",
      "[217]\tvalid_0's auc: 0.932314\n",
      "[218]\tvalid_0's auc: 0.932343\n",
      "[219]\tvalid_0's auc: 0.932357\n",
      "[220]\tvalid_0's auc: 0.932294\n",
      "[221]\tvalid_0's auc: 0.932352\n",
      "[222]\tvalid_0's auc: 0.93237\n",
      "[223]\tvalid_0's auc: 0.932339\n",
      "[224]\tvalid_0's auc: 0.932372\n",
      "[225]\tvalid_0's auc: 0.932369\n",
      "[226]\tvalid_0's auc: 0.932396\n",
      "[227]\tvalid_0's auc: 0.932379\n",
      "[228]\tvalid_0's auc: 0.932354\n",
      "[229]\tvalid_0's auc: 0.93227\n",
      "[230]\tvalid_0's auc: 0.93227\n",
      "[231]\tvalid_0's auc: 0.932209\n",
      "Early stopping, best iteration is:\n",
      "[131]\tvalid_0's auc: 0.934437\n"
     ]
    }
   ],
   "source": [
    "df_train, df_val = train_test_split(train, test_size=0.2, random_state=0)\n",
    "\n",
    "col = \"y\"\n",
    "trainy = df_train[col]\n",
    "trainX = df_train.drop(col, axis=1)\n",
    "\n",
    "valy = df_val[col]\n",
    "valX = df_val.drop(col, axis=1)\n",
    "\n",
    "trains = lgb.Dataset(trainX, trainy)\n",
    "valids = lgb.Dataset(valX, valy)\n",
    "\n",
    "params = {\n",
    "    \"objective\":\"binary\",\n",
    "    \"metrics\":\"auc\"\n",
    "}\n",
    "\n",
    "model = lgb.train(params, \n",
    "                  train_set=trains, \n",
    "                  valid_sets=valids, \n",
    "                  num_boost_round=1000, early_stopping_rounds=100)"
   ]
  },
  {
   "cell_type": "code",
   "execution_count": 107,
   "id": "c0b4bc22-c774-4035-8446-84ad5d1f99d5",
   "metadata": {},
   "outputs": [],
   "source": [
    "pred = model.predict(testX)"
   ]
  },
  {
   "cell_type": "code",
   "execution_count": 108,
   "id": "7777a2d9-87d5-49bd-877e-996946d770de",
   "metadata": {},
   "outputs": [
    {
     "data": {
      "text/plain": [
       "array([7.15911943e-01, 6.93213015e-01, 1.30775326e-02, ...,\n",
       "       4.83200445e-04, 1.77595469e-03, 2.58648834e-03])"
      ]
     },
     "execution_count": 108,
     "metadata": {},
     "output_type": "execute_result"
    }
   ],
   "source": [
    "pred"
   ]
  },
  {
   "cell_type": "code",
   "execution_count": 113,
   "id": "795acbc8-fe8c-4699-bdc2-a82c56c1c0b2",
   "metadata": {},
   "outputs": [],
   "source": [
    "sample[1] = pred"
   ]
  },
  {
   "cell_type": "code",
   "execution_count": 115,
   "id": "55b6f65d-a8ce-4c67-a862-84c564fecd6a",
   "metadata": {},
   "outputs": [],
   "source": [
    "sample.to_csv(\"lgb_bank2.csv\", index=None, header=None)"
   ]
  },
  {
   "cell_type": "code",
   "execution_count": null,
   "id": "a2189978-32be-447f-b9d0-aedd8bfbbeac",
   "metadata": {},
   "outputs": [],
   "source": []
  },
  {
   "cell_type": "code",
   "execution_count": null,
   "id": "8786fde2-16d9-41ca-92f1-12acc8a62140",
   "metadata": {},
   "outputs": [],
   "source": []
  },
  {
   "cell_type": "code",
   "execution_count": null,
   "id": "b1e44986-c9d9-4f9f-8a30-842920c41aee",
   "metadata": {},
   "outputs": [],
   "source": []
  },
  {
   "cell_type": "code",
   "execution_count": 109,
   "id": "748fd5dc-4957-4fb3-859b-7ac7ad8c0413",
   "metadata": {},
   "outputs": [
    {
     "data": {
      "text/plain": [
       "array([503, 439,  89, 103,  20, 541,  93,  32, 137, 431, 279, 687, 150,\n",
       "       303,  82,  41], dtype=int32)"
      ]
     },
     "execution_count": 109,
     "metadata": {},
     "output_type": "execute_result"
    }
   ],
   "source": [
    "model.feature_importance(importance_type=\"split\")"
   ]
  },
  {
   "cell_type": "code",
   "execution_count": 112,
   "id": "9e74eeb5-0f6e-4b15-bb54-ae4f69c6fd12",
   "metadata": {
    "collapsed": true,
    "jupyter": {
     "outputs_hidden": true
    },
    "tags": []
   },
   "outputs": [
    {
     "data": {
      "text/html": [
       "<div>\n",
       "<style scoped>\n",
       "    .dataframe tbody tr th:only-of-type {\n",
       "        vertical-align: middle;\n",
       "    }\n",
       "\n",
       "    .dataframe tbody tr th {\n",
       "        vertical-align: top;\n",
       "    }\n",
       "\n",
       "    .dataframe thead th {\n",
       "        text-align: right;\n",
       "    }\n",
       "</style>\n",
       "<table border=\"1\" class=\"dataframe\">\n",
       "  <thead>\n",
       "    <tr style=\"text-align: right;\">\n",
       "      <th></th>\n",
       "      <th>importance</th>\n",
       "    </tr>\n",
       "  </thead>\n",
       "  <tbody>\n",
       "    <tr>\n",
       "      <th>duration</th>\n",
       "      <td>687</td>\n",
       "    </tr>\n",
       "    <tr>\n",
       "      <th>balance</th>\n",
       "      <td>541</td>\n",
       "    </tr>\n",
       "    <tr>\n",
       "      <th>id</th>\n",
       "      <td>503</td>\n",
       "    </tr>\n",
       "    <tr>\n",
       "      <th>age</th>\n",
       "      <td>439</td>\n",
       "    </tr>\n",
       "    <tr>\n",
       "      <th>day</th>\n",
       "      <td>431</td>\n",
       "    </tr>\n",
       "    <tr>\n",
       "      <th>pdays</th>\n",
       "      <td>303</td>\n",
       "    </tr>\n",
       "    <tr>\n",
       "      <th>month</th>\n",
       "      <td>279</td>\n",
       "    </tr>\n",
       "    <tr>\n",
       "      <th>campaign</th>\n",
       "      <td>150</td>\n",
       "    </tr>\n",
       "    <tr>\n",
       "      <th>contact</th>\n",
       "      <td>137</td>\n",
       "    </tr>\n",
       "    <tr>\n",
       "      <th>marital</th>\n",
       "      <td>103</td>\n",
       "    </tr>\n",
       "    <tr>\n",
       "      <th>housing</th>\n",
       "      <td>93</td>\n",
       "    </tr>\n",
       "    <tr>\n",
       "      <th>job</th>\n",
       "      <td>89</td>\n",
       "    </tr>\n",
       "    <tr>\n",
       "      <th>previous</th>\n",
       "      <td>82</td>\n",
       "    </tr>\n",
       "    <tr>\n",
       "      <th>poutcome</th>\n",
       "      <td>41</td>\n",
       "    </tr>\n",
       "    <tr>\n",
       "      <th>loan</th>\n",
       "      <td>32</td>\n",
       "    </tr>\n",
       "    <tr>\n",
       "      <th>education</th>\n",
       "      <td>20</td>\n",
       "    </tr>\n",
       "  </tbody>\n",
       "</table>\n",
       "</div>"
      ],
      "text/plain": [
       "           importance\n",
       "duration          687\n",
       "balance           541\n",
       "id                503\n",
       "age               439\n",
       "day               431\n",
       "pdays             303\n",
       "month             279\n",
       "campaign          150\n",
       "contact           137\n",
       "marital           103\n",
       "housing            93\n",
       "job                89\n",
       "previous           82\n",
       "poutcome           41\n",
       "loan               32\n",
       "education          20"
      ]
     },
     "execution_count": 112,
     "metadata": {},
     "output_type": "execute_result"
    }
   ],
   "source": [
    "pd.DataFrame(model.feature_importance(importance_type=\"split\"), index=valX.columns, columns=[\"importance\"]).sort_values(\"importance\", ascending=False)"
   ]
  },
  {
   "cell_type": "code",
   "execution_count": 116,
   "id": "16f6e65a-2408-468d-baa0-9be22a96fb83",
   "metadata": {},
   "outputs": [
    {
     "data": {
      "text/plain": [
       "array([ 2269.82490456,  2699.82036757,   573.54376644,   574.44035673,\n",
       "          81.51354778,  2819.59841627,  2061.27269745,   253.02936947,\n",
       "        2400.40937978,  3512.5025984 ,  5889.70203012, 20285.11684394,\n",
       "         838.45460325,  2511.42359364,   430.26009333,  4945.64135081])"
      ]
     },
     "execution_count": 116,
     "metadata": {},
     "output_type": "execute_result"
    }
   ],
   "source": [
    "model.feature_importance(importance_type=\"gain\")"
   ]
  },
  {
   "cell_type": "code",
   "execution_count": 118,
   "id": "3d94849d-3ab5-4085-be10-dda3f1acc72b",
   "metadata": {
    "collapsed": true,
    "jupyter": {
     "outputs_hidden": true
    },
    "tags": []
   },
   "outputs": [
    {
     "data": {
      "text/html": [
       "<div>\n",
       "<style scoped>\n",
       "    .dataframe tbody tr th:only-of-type {\n",
       "        vertical-align: middle;\n",
       "    }\n",
       "\n",
       "    .dataframe tbody tr th {\n",
       "        vertical-align: top;\n",
       "    }\n",
       "\n",
       "    .dataframe thead th {\n",
       "        text-align: right;\n",
       "    }\n",
       "</style>\n",
       "<table border=\"1\" class=\"dataframe\">\n",
       "  <thead>\n",
       "    <tr style=\"text-align: right;\">\n",
       "      <th></th>\n",
       "      <th>importance</th>\n",
       "    </tr>\n",
       "  </thead>\n",
       "  <tbody>\n",
       "    <tr>\n",
       "      <th>duration</th>\n",
       "      <td>20285.116844</td>\n",
       "    </tr>\n",
       "    <tr>\n",
       "      <th>month</th>\n",
       "      <td>5889.702030</td>\n",
       "    </tr>\n",
       "    <tr>\n",
       "      <th>poutcome</th>\n",
       "      <td>4945.641351</td>\n",
       "    </tr>\n",
       "    <tr>\n",
       "      <th>day</th>\n",
       "      <td>3512.502598</td>\n",
       "    </tr>\n",
       "    <tr>\n",
       "      <th>balance</th>\n",
       "      <td>2819.598416</td>\n",
       "    </tr>\n",
       "    <tr>\n",
       "      <th>age</th>\n",
       "      <td>2699.820368</td>\n",
       "    </tr>\n",
       "    <tr>\n",
       "      <th>pdays</th>\n",
       "      <td>2511.423594</td>\n",
       "    </tr>\n",
       "    <tr>\n",
       "      <th>contact</th>\n",
       "      <td>2400.409380</td>\n",
       "    </tr>\n",
       "    <tr>\n",
       "      <th>id</th>\n",
       "      <td>2269.824905</td>\n",
       "    </tr>\n",
       "    <tr>\n",
       "      <th>housing</th>\n",
       "      <td>2061.272697</td>\n",
       "    </tr>\n",
       "    <tr>\n",
       "      <th>campaign</th>\n",
       "      <td>838.454603</td>\n",
       "    </tr>\n",
       "    <tr>\n",
       "      <th>marital</th>\n",
       "      <td>574.440357</td>\n",
       "    </tr>\n",
       "    <tr>\n",
       "      <th>job</th>\n",
       "      <td>573.543766</td>\n",
       "    </tr>\n",
       "    <tr>\n",
       "      <th>previous</th>\n",
       "      <td>430.260093</td>\n",
       "    </tr>\n",
       "    <tr>\n",
       "      <th>loan</th>\n",
       "      <td>253.029369</td>\n",
       "    </tr>\n",
       "    <tr>\n",
       "      <th>education</th>\n",
       "      <td>81.513548</td>\n",
       "    </tr>\n",
       "  </tbody>\n",
       "</table>\n",
       "</div>"
      ],
      "text/plain": [
       "             importance\n",
       "duration   20285.116844\n",
       "month       5889.702030\n",
       "poutcome    4945.641351\n",
       "day         3512.502598\n",
       "balance     2819.598416\n",
       "age         2699.820368\n",
       "pdays       2511.423594\n",
       "contact     2400.409380\n",
       "id          2269.824905\n",
       "housing     2061.272697\n",
       "campaign     838.454603\n",
       "marital      574.440357\n",
       "job          573.543766\n",
       "previous     430.260093\n",
       "loan         253.029369\n",
       "education     81.513548"
      ]
     },
     "execution_count": 118,
     "metadata": {},
     "output_type": "execute_result"
    }
   ],
   "source": [
    "pd.DataFrame(model.feature_importance(importance_type=\"gain\"), index=valX.columns, columns=[\"importance\"]).sort_values(\"importance\", ascending=False)"
   ]
  },
  {
   "cell_type": "code",
   "execution_count": null,
   "id": "bec87430-354a-4cb8-8e23-b853c8b62fd8",
   "metadata": {},
   "outputs": [],
   "source": []
  },
  {
   "cell_type": "code",
   "execution_count": null,
   "id": "cab258b3-cee5-453f-ba01-25db273e13da",
   "metadata": {},
   "outputs": [],
   "source": []
  },
  {
   "cell_type": "code",
   "execution_count": 119,
   "id": "51b8a8e3-993d-48a0-9efd-cd8697f307ef",
   "metadata": {},
   "outputs": [],
   "source": [
    "train = train.drop(\"education\", axis=1)"
   ]
  },
  {
   "cell_type": "code",
   "execution_count": 120,
   "id": "83aac161-3d9d-44c1-9953-783d024095c9",
   "metadata": {},
   "outputs": [
    {
     "name": "stdout",
     "output_type": "stream",
     "text": [
      "<class 'pandas.core.frame.DataFrame'>\n",
      "RangeIndex: 27128 entries, 0 to 27127\n",
      "Data columns (total 16 columns):\n",
      " #   Column    Non-Null Count  Dtype   \n",
      "---  ------    --------------  -----   \n",
      " 0   id        27128 non-null  int64   \n",
      " 1   age       27128 non-null  int64   \n",
      " 2   job       27128 non-null  category\n",
      " 3   marital   27128 non-null  category\n",
      " 4   balance   27128 non-null  int64   \n",
      " 5   housing   27128 non-null  category\n",
      " 6   loan      27128 non-null  category\n",
      " 7   contact   27128 non-null  category\n",
      " 8   day       27128 non-null  int64   \n",
      " 9   month     27128 non-null  category\n",
      " 10  duration  27128 non-null  int64   \n",
      " 11  campaign  27128 non-null  int64   \n",
      " 12  pdays     27128 non-null  int64   \n",
      " 13  previous  27128 non-null  int64   \n",
      " 14  poutcome  27128 non-null  category\n",
      " 15  y         27128 non-null  int64   \n",
      "dtypes: category(7), int64(9)\n",
      "memory usage: 2.0 MB\n"
     ]
    }
   ],
   "source": [
    "train.info()"
   ]
  },
  {
   "cell_type": "code",
   "execution_count": 121,
   "id": "162f5f47-34f6-4a66-a7d5-da7eb4d36c46",
   "metadata": {},
   "outputs": [],
   "source": [
    "testX = testX.drop(\"education\", axis=1)"
   ]
  },
  {
   "cell_type": "code",
   "execution_count": 122,
   "id": "4eb792d2-5ec4-4ebd-b2c1-1699e6d337d7",
   "metadata": {},
   "outputs": [
    {
     "name": "stdout",
     "output_type": "stream",
     "text": [
      "<class 'pandas.core.frame.DataFrame'>\n",
      "RangeIndex: 18083 entries, 0 to 18082\n",
      "Data columns (total 15 columns):\n",
      " #   Column    Non-Null Count  Dtype   \n",
      "---  ------    --------------  -----   \n",
      " 0   id        18083 non-null  int64   \n",
      " 1   age       18083 non-null  int64   \n",
      " 2   job       18083 non-null  category\n",
      " 3   marital   18083 non-null  category\n",
      " 4   balance   18083 non-null  int64   \n",
      " 5   housing   18083 non-null  category\n",
      " 6   loan      18083 non-null  category\n",
      " 7   contact   18083 non-null  category\n",
      " 8   day       18083 non-null  int64   \n",
      " 9   month     18083 non-null  category\n",
      " 10  duration  18083 non-null  int64   \n",
      " 11  campaign  18083 non-null  int64   \n",
      " 12  pdays     18083 non-null  int64   \n",
      " 13  previous  18083 non-null  int64   \n",
      " 14  poutcome  18083 non-null  category\n",
      "dtypes: category(7), int64(8)\n",
      "memory usage: 1.2 MB\n"
     ]
    }
   ],
   "source": [
    "testX.info()"
   ]
  },
  {
   "cell_type": "code",
   "execution_count": 123,
   "id": "9113bb81-8464-4074-a351-b439a1e67593",
   "metadata": {
    "collapsed": true,
    "jupyter": {
     "outputs_hidden": true
    },
    "tags": []
   },
   "outputs": [
    {
     "name": "stderr",
     "output_type": "stream",
     "text": [
      "/Users/kumazawateruhito/opt/anaconda3/envs/base_root/lib/python3.7/site-packages/lightgbm/engine.py:181: UserWarning: 'early_stopping_rounds' argument is deprecated and will be removed in a future release of LightGBM. Pass 'early_stopping()' callback via 'callbacks' argument instead.\n",
      "  _log_warning(\"'early_stopping_rounds' argument is deprecated and will be removed in a future release of LightGBM. \"\n",
      "/Users/kumazawateruhito/opt/anaconda3/envs/base_root/lib/python3.7/site-packages/lightgbm/basic.py:1780: UserWarning: Overriding the parameters from Reference Dataset.\n",
      "  _log_warning('Overriding the parameters from Reference Dataset.')\n",
      "/Users/kumazawateruhito/opt/anaconda3/envs/base_root/lib/python3.7/site-packages/lightgbm/basic.py:1513: UserWarning: categorical_column in param dict is overridden.\n",
      "  _log_warning(f'{cat_alias} in param dict is overridden.')\n"
     ]
    },
    {
     "name": "stdout",
     "output_type": "stream",
     "text": [
      "[LightGBM] [Info] Number of positive: 2519, number of negative: 19183\n",
      "[LightGBM] [Warning] Auto-choosing row-wise multi-threading, the overhead of testing was 0.002736 seconds.\n",
      "You can set `force_row_wise=true` to remove the overhead.\n",
      "And if memory is not enough, you can set `force_col_wise=true`.\n",
      "[LightGBM] [Info] Total Bins 1235\n",
      "[LightGBM] [Info] Number of data points in the train set: 21702, number of used features: 15\n",
      "[LightGBM] [Info] [binary:BoostFromScore]: pavg=0.116072 -> initscore=-2.030162\n",
      "[LightGBM] [Info] Start training from score -2.030162\n",
      "[1]\tvalid_0's auc: 0.873039\n",
      "Training until validation scores don't improve for 100 rounds\n",
      "[2]\tvalid_0's auc: 0.902138\n",
      "[3]\tvalid_0's auc: 0.911537\n",
      "[4]\tvalid_0's auc: 0.913536\n",
      "[5]\tvalid_0's auc: 0.917607\n",
      "[6]\tvalid_0's auc: 0.91991\n",
      "[7]\tvalid_0's auc: 0.920735\n",
      "[8]\tvalid_0's auc: 0.921292\n",
      "[9]\tvalid_0's auc: 0.922296\n",
      "[10]\tvalid_0's auc: 0.923189\n",
      "[11]\tvalid_0's auc: 0.923843\n",
      "[12]\tvalid_0's auc: 0.925061\n",
      "[13]\tvalid_0's auc: 0.925297\n",
      "[14]\tvalid_0's auc: 0.925586\n",
      "[15]\tvalid_0's auc: 0.927235\n",
      "[16]\tvalid_0's auc: 0.927654\n",
      "[17]\tvalid_0's auc: 0.927599\n",
      "[18]\tvalid_0's auc: 0.927864\n",
      "[19]\tvalid_0's auc: 0.927721\n",
      "[20]\tvalid_0's auc: 0.928078\n",
      "[21]\tvalid_0's auc: 0.928558\n",
      "[22]\tvalid_0's auc: 0.92898\n",
      "[23]\tvalid_0's auc: 0.929718\n",
      "[24]\tvalid_0's auc: 0.930494\n",
      "[25]\tvalid_0's auc: 0.930894\n",
      "[26]\tvalid_0's auc: 0.930869\n",
      "[27]\tvalid_0's auc: 0.931135\n",
      "[28]\tvalid_0's auc: 0.931226\n",
      "[29]\tvalid_0's auc: 0.931683\n",
      "[30]\tvalid_0's auc: 0.93204\n",
      "[31]\tvalid_0's auc: 0.932046\n",
      "[32]\tvalid_0's auc: 0.931844\n",
      "[33]\tvalid_0's auc: 0.931809\n",
      "[34]\tvalid_0's auc: 0.931886\n",
      "[35]\tvalid_0's auc: 0.931968\n",
      "[36]\tvalid_0's auc: 0.932211\n",
      "[37]\tvalid_0's auc: 0.93267\n",
      "[38]\tvalid_0's auc: 0.932754\n",
      "[39]\tvalid_0's auc: 0.93285\n",
      "[40]\tvalid_0's auc: 0.932723\n",
      "[41]\tvalid_0's auc: 0.93267\n",
      "[42]\tvalid_0's auc: 0.932489\n",
      "[43]\tvalid_0's auc: 0.932872\n",
      "[44]\tvalid_0's auc: 0.932877\n",
      "[45]\tvalid_0's auc: 0.932872\n",
      "[46]\tvalid_0's auc: 0.933071\n",
      "[47]\tvalid_0's auc: 0.933074\n",
      "[48]\tvalid_0's auc: 0.933016\n",
      "[49]\tvalid_0's auc: 0.93279\n",
      "[50]\tvalid_0's auc: 0.933\n",
      "[51]\tvalid_0's auc: 0.933088\n",
      "[52]\tvalid_0's auc: 0.933103\n",
      "[53]\tvalid_0's auc: 0.933161\n",
      "[54]\tvalid_0's auc: 0.933295\n",
      "[55]\tvalid_0's auc: 0.933188\n",
      "[56]\tvalid_0's auc: 0.933168\n",
      "[57]\tvalid_0's auc: 0.933223\n",
      "[58]\tvalid_0's auc: 0.933135\n",
      "[59]\tvalid_0's auc: 0.933142\n",
      "[60]\tvalid_0's auc: 0.933071\n",
      "[61]\tvalid_0's auc: 0.933055\n",
      "[62]\tvalid_0's auc: 0.933266\n",
      "[63]\tvalid_0's auc: 0.933187\n",
      "[64]\tvalid_0's auc: 0.933052\n",
      "[65]\tvalid_0's auc: 0.932976\n",
      "[66]\tvalid_0's auc: 0.932974\n",
      "[67]\tvalid_0's auc: 0.932912\n",
      "[68]\tvalid_0's auc: 0.932896\n",
      "[69]\tvalid_0's auc: 0.933008\n",
      "[70]\tvalid_0's auc: 0.932928\n",
      "[71]\tvalid_0's auc: 0.932868\n",
      "[72]\tvalid_0's auc: 0.932792\n",
      "[73]\tvalid_0's auc: 0.932735\n",
      "[74]\tvalid_0's auc: 0.932732\n",
      "[75]\tvalid_0's auc: 0.932828\n",
      "[76]\tvalid_0's auc: 0.932743\n",
      "[77]\tvalid_0's auc: 0.932647\n",
      "[78]\tvalid_0's auc: 0.932404\n",
      "[79]\tvalid_0's auc: 0.932511\n",
      "[80]\tvalid_0's auc: 0.932363\n",
      "[81]\tvalid_0's auc: 0.932305\n",
      "[82]\tvalid_0's auc: 0.932278\n",
      "[83]\tvalid_0's auc: 0.932221\n",
      "[84]\tvalid_0's auc: 0.932172\n",
      "[85]\tvalid_0's auc: 0.932176\n",
      "[86]\tvalid_0's auc: 0.932183\n",
      "[87]\tvalid_0's auc: 0.932031\n",
      "[88]\tvalid_0's auc: 0.932036\n",
      "[89]\tvalid_0's auc: 0.931937\n",
      "[90]\tvalid_0's auc: 0.932015\n",
      "[91]\tvalid_0's auc: 0.931941\n",
      "[92]\tvalid_0's auc: 0.932054\n",
      "[93]\tvalid_0's auc: 0.932054\n",
      "[94]\tvalid_0's auc: 0.932087\n",
      "[95]\tvalid_0's auc: 0.932068\n",
      "[96]\tvalid_0's auc: 0.932105\n",
      "[97]\tvalid_0's auc: 0.932167\n",
      "[98]\tvalid_0's auc: 0.932244\n",
      "[99]\tvalid_0's auc: 0.932236\n",
      "[100]\tvalid_0's auc: 0.93223\n",
      "[101]\tvalid_0's auc: 0.932209\n",
      "[102]\tvalid_0's auc: 0.932257\n",
      "[103]\tvalid_0's auc: 0.932209\n",
      "[104]\tvalid_0's auc: 0.932218\n",
      "[105]\tvalid_0's auc: 0.93218\n",
      "[106]\tvalid_0's auc: 0.932186\n",
      "[107]\tvalid_0's auc: 0.932416\n",
      "[108]\tvalid_0's auc: 0.932468\n",
      "[109]\tvalid_0's auc: 0.932502\n",
      "[110]\tvalid_0's auc: 0.932425\n",
      "[111]\tvalid_0's auc: 0.932601\n",
      "[112]\tvalid_0's auc: 0.932529\n",
      "[113]\tvalid_0's auc: 0.932436\n",
      "[114]\tvalid_0's auc: 0.932423\n",
      "[115]\tvalid_0's auc: 0.932344\n",
      "[116]\tvalid_0's auc: 0.932261\n",
      "[117]\tvalid_0's auc: 0.932229\n",
      "[118]\tvalid_0's auc: 0.932372\n",
      "[119]\tvalid_0's auc: 0.932375\n",
      "[120]\tvalid_0's auc: 0.932398\n",
      "[121]\tvalid_0's auc: 0.932196\n",
      "[122]\tvalid_0's auc: 0.932135\n",
      "[123]\tvalid_0's auc: 0.932317\n",
      "[124]\tvalid_0's auc: 0.93237\n",
      "[125]\tvalid_0's auc: 0.932311\n",
      "[126]\tvalid_0's auc: 0.93234\n",
      "[127]\tvalid_0's auc: 0.932408\n",
      "[128]\tvalid_0's auc: 0.932417\n",
      "[129]\tvalid_0's auc: 0.932553\n",
      "[130]\tvalid_0's auc: 0.932536\n",
      "[131]\tvalid_0's auc: 0.932482\n",
      "[132]\tvalid_0's auc: 0.932391\n",
      "[133]\tvalid_0's auc: 0.932306\n",
      "[134]\tvalid_0's auc: 0.932305\n",
      "[135]\tvalid_0's auc: 0.932352\n",
      "[136]\tvalid_0's auc: 0.932463\n",
      "[137]\tvalid_0's auc: 0.932584\n",
      "[138]\tvalid_0's auc: 0.932465\n",
      "[139]\tvalid_0's auc: 0.932373\n",
      "[140]\tvalid_0's auc: 0.932423\n",
      "[141]\tvalid_0's auc: 0.932546\n",
      "[142]\tvalid_0's auc: 0.932487\n",
      "[143]\tvalid_0's auc: 0.93241\n",
      "[144]\tvalid_0's auc: 0.932409\n",
      "[145]\tvalid_0's auc: 0.932317\n",
      "[146]\tvalid_0's auc: 0.932268\n",
      "[147]\tvalid_0's auc: 0.932183\n",
      "[148]\tvalid_0's auc: 0.932176\n",
      "[149]\tvalid_0's auc: 0.932295\n",
      "[150]\tvalid_0's auc: 0.932351\n",
      "[151]\tvalid_0's auc: 0.932399\n",
      "[152]\tvalid_0's auc: 0.93251\n",
      "[153]\tvalid_0's auc: 0.932546\n",
      "[154]\tvalid_0's auc: 0.932468\n",
      "Early stopping, best iteration is:\n",
      "[54]\tvalid_0's auc: 0.933295\n"
     ]
    }
   ],
   "source": [
    "df_train, df_val = train_test_split(train, test_size=0.2, random_state=0)\n",
    "\n",
    "col = \"y\"\n",
    "trainy = df_train[col]\n",
    "trainX = df_train.drop(col, axis=1)\n",
    "\n",
    "valy = df_val[col]\n",
    "valX = df_val.drop(col, axis=1)\n",
    "\n",
    "trains = lgb.Dataset(trainX, trainy)\n",
    "valids = lgb.Dataset(valX, valy)\n",
    "\n",
    "params = {\n",
    "    \"objective\":\"binary\",\n",
    "    \"metrics\":\"auc\"\n",
    "}\n",
    "\n",
    "model = lgb.train(params, \n",
    "                  train_set=trains, \n",
    "                  valid_sets=valids, \n",
    "                  num_boost_round=1000, early_stopping_rounds=100)"
   ]
  },
  {
   "cell_type": "code",
   "execution_count": 124,
   "id": "65f246fc-ff88-48b8-b776-b67f0d746a08",
   "metadata": {},
   "outputs": [],
   "source": [
    "pred = model.predict(testX)"
   ]
  },
  {
   "cell_type": "code",
   "execution_count": 125,
   "id": "e02de561-6c82-45d3-a515-7e0d3d65ce08",
   "metadata": {},
   "outputs": [
    {
     "data": {
      "text/plain": [
       "array([0.64339752, 0.65165109, 0.00859225, ..., 0.00218701, 0.01064278,\n",
       "       0.00593805])"
      ]
     },
     "execution_count": 125,
     "metadata": {},
     "output_type": "execute_result"
    }
   ],
   "source": [
    "pred"
   ]
  },
  {
   "cell_type": "code",
   "execution_count": 126,
   "id": "c2c9b919-d492-4d65-9ee3-97f9810a6876",
   "metadata": {},
   "outputs": [],
   "source": [
    "sample[1] = pred"
   ]
  },
  {
   "cell_type": "code",
   "execution_count": 127,
   "id": "a2d0d4e8-bd3b-4dac-80b8-b9953cc5f52f",
   "metadata": {},
   "outputs": [],
   "source": [
    "sample.to_csv(\"lgb_bank3.csv\", index=None, header=None)"
   ]
  },
  {
   "cell_type": "code",
   "execution_count": null,
   "id": "3fe850d0-d2b7-4604-99cd-dfd9eb4983a0",
   "metadata": {},
   "outputs": [],
   "source": []
  },
  {
   "cell_type": "code",
   "execution_count": null,
   "id": "c4f8a80a-6e13-488c-b024-70fb668e2543",
   "metadata": {},
   "outputs": [],
   "source": []
  },
  {
   "cell_type": "code",
   "execution_count": 128,
   "id": "07145094-128b-402f-af56-5b22864f21df",
   "metadata": {},
   "outputs": [
    {
     "data": {
      "text/plain": [
       "array([117, 147,  45,  42, 177,  60,  19,  75, 188, 196, 331,  47, 125,\n",
       "        20,  31], dtype=int32)"
      ]
     },
     "execution_count": 128,
     "metadata": {},
     "output_type": "execute_result"
    }
   ],
   "source": [
    "model.feature_importance(importance_type=\"split\")"
   ]
  },
  {
   "cell_type": "code",
   "execution_count": 133,
   "id": "2ae207e6-5fa8-4294-a881-b3345df0e125",
   "metadata": {
    "collapsed": true,
    "jupyter": {
     "outputs_hidden": true
    },
    "tags": []
   },
   "outputs": [
    {
     "data": {
      "text/html": [
       "<div>\n",
       "<style scoped>\n",
       "    .dataframe tbody tr th:only-of-type {\n",
       "        vertical-align: middle;\n",
       "    }\n",
       "\n",
       "    .dataframe tbody tr th {\n",
       "        vertical-align: top;\n",
       "    }\n",
       "\n",
       "    .dataframe thead th {\n",
       "        text-align: right;\n",
       "    }\n",
       "</style>\n",
       "<table border=\"1\" class=\"dataframe\">\n",
       "  <thead>\n",
       "    <tr style=\"text-align: right;\">\n",
       "      <th></th>\n",
       "      <th>importance</th>\n",
       "    </tr>\n",
       "  </thead>\n",
       "  <tbody>\n",
       "    <tr>\n",
       "      <th>duration</th>\n",
       "      <td>331</td>\n",
       "    </tr>\n",
       "    <tr>\n",
       "      <th>month</th>\n",
       "      <td>196</td>\n",
       "    </tr>\n",
       "    <tr>\n",
       "      <th>day</th>\n",
       "      <td>188</td>\n",
       "    </tr>\n",
       "    <tr>\n",
       "      <th>balance</th>\n",
       "      <td>177</td>\n",
       "    </tr>\n",
       "    <tr>\n",
       "      <th>age</th>\n",
       "      <td>147</td>\n",
       "    </tr>\n",
       "    <tr>\n",
       "      <th>pdays</th>\n",
       "      <td>125</td>\n",
       "    </tr>\n",
       "    <tr>\n",
       "      <th>id</th>\n",
       "      <td>117</td>\n",
       "    </tr>\n",
       "    <tr>\n",
       "      <th>contact</th>\n",
       "      <td>75</td>\n",
       "    </tr>\n",
       "    <tr>\n",
       "      <th>housing</th>\n",
       "      <td>60</td>\n",
       "    </tr>\n",
       "    <tr>\n",
       "      <th>campaign</th>\n",
       "      <td>47</td>\n",
       "    </tr>\n",
       "    <tr>\n",
       "      <th>job</th>\n",
       "      <td>45</td>\n",
       "    </tr>\n",
       "    <tr>\n",
       "      <th>marital</th>\n",
       "      <td>42</td>\n",
       "    </tr>\n",
       "    <tr>\n",
       "      <th>poutcome</th>\n",
       "      <td>31</td>\n",
       "    </tr>\n",
       "    <tr>\n",
       "      <th>previous</th>\n",
       "      <td>20</td>\n",
       "    </tr>\n",
       "    <tr>\n",
       "      <th>loan</th>\n",
       "      <td>19</td>\n",
       "    </tr>\n",
       "  </tbody>\n",
       "</table>\n",
       "</div>"
      ],
      "text/plain": [
       "          importance\n",
       "duration         331\n",
       "month            196\n",
       "day              188\n",
       "balance          177\n",
       "age              147\n",
       "pdays            125\n",
       "id               117\n",
       "contact           75\n",
       "housing           60\n",
       "campaign          47\n",
       "job               45\n",
       "marital           42\n",
       "poutcome          31\n",
       "previous          20\n",
       "loan              19"
      ]
     },
     "execution_count": 133,
     "metadata": {},
     "output_type": "execute_result"
    }
   ],
   "source": [
    "pd.DataFrame(model.feature_importance(importance_type=\"split\"), index=valX.columns, columns=[\"importance\"]).sort_values(\"importance\", ascending=False)"
   ]
  },
  {
   "cell_type": "code",
   "execution_count": 134,
   "id": "251ecb78-5681-42b9-be82-d7e16590f2e7",
   "metadata": {},
   "outputs": [
    {
     "data": {
      "text/plain": [
       "array([  804.39894962,  1600.72898388,   428.1671803 ,   365.1719389 ,\n",
       "        1466.6315515 ,  1911.11407423,   211.23256707,  2140.07857323,\n",
       "        2553.70424008,  5556.22169685, 19104.60957837,   467.91748714,\n",
       "        1871.1838913 ,   169.88038874,  4920.05955744])"
      ]
     },
     "execution_count": 134,
     "metadata": {},
     "output_type": "execute_result"
    }
   ],
   "source": [
    "model.feature_importance(importance_type=\"gain\")"
   ]
  },
  {
   "cell_type": "code",
   "execution_count": 135,
   "id": "523846c7-7d4b-4745-835a-e5b3975c0dab",
   "metadata": {},
   "outputs": [
    {
     "data": {
      "text/html": [
       "<div>\n",
       "<style scoped>\n",
       "    .dataframe tbody tr th:only-of-type {\n",
       "        vertical-align: middle;\n",
       "    }\n",
       "\n",
       "    .dataframe tbody tr th {\n",
       "        vertical-align: top;\n",
       "    }\n",
       "\n",
       "    .dataframe thead th {\n",
       "        text-align: right;\n",
       "    }\n",
       "</style>\n",
       "<table border=\"1\" class=\"dataframe\">\n",
       "  <thead>\n",
       "    <tr style=\"text-align: right;\">\n",
       "      <th></th>\n",
       "      <th>importance</th>\n",
       "    </tr>\n",
       "  </thead>\n",
       "  <tbody>\n",
       "    <tr>\n",
       "      <th>duration</th>\n",
       "      <td>19104.609578</td>\n",
       "    </tr>\n",
       "    <tr>\n",
       "      <th>month</th>\n",
       "      <td>5556.221697</td>\n",
       "    </tr>\n",
       "    <tr>\n",
       "      <th>poutcome</th>\n",
       "      <td>4920.059557</td>\n",
       "    </tr>\n",
       "    <tr>\n",
       "      <th>day</th>\n",
       "      <td>2553.704240</td>\n",
       "    </tr>\n",
       "    <tr>\n",
       "      <th>contact</th>\n",
       "      <td>2140.078573</td>\n",
       "    </tr>\n",
       "    <tr>\n",
       "      <th>housing</th>\n",
       "      <td>1911.114074</td>\n",
       "    </tr>\n",
       "    <tr>\n",
       "      <th>pdays</th>\n",
       "      <td>1871.183891</td>\n",
       "    </tr>\n",
       "    <tr>\n",
       "      <th>age</th>\n",
       "      <td>1600.728984</td>\n",
       "    </tr>\n",
       "    <tr>\n",
       "      <th>balance</th>\n",
       "      <td>1466.631552</td>\n",
       "    </tr>\n",
       "    <tr>\n",
       "      <th>id</th>\n",
       "      <td>804.398950</td>\n",
       "    </tr>\n",
       "    <tr>\n",
       "      <th>campaign</th>\n",
       "      <td>467.917487</td>\n",
       "    </tr>\n",
       "    <tr>\n",
       "      <th>job</th>\n",
       "      <td>428.167180</td>\n",
       "    </tr>\n",
       "    <tr>\n",
       "      <th>marital</th>\n",
       "      <td>365.171939</td>\n",
       "    </tr>\n",
       "    <tr>\n",
       "      <th>loan</th>\n",
       "      <td>211.232567</td>\n",
       "    </tr>\n",
       "    <tr>\n",
       "      <th>previous</th>\n",
       "      <td>169.880389</td>\n",
       "    </tr>\n",
       "  </tbody>\n",
       "</table>\n",
       "</div>"
      ],
      "text/plain": [
       "            importance\n",
       "duration  19104.609578\n",
       "month      5556.221697\n",
       "poutcome   4920.059557\n",
       "day        2553.704240\n",
       "contact    2140.078573\n",
       "housing    1911.114074\n",
       "pdays      1871.183891\n",
       "age        1600.728984\n",
       "balance    1466.631552\n",
       "id          804.398950\n",
       "campaign    467.917487\n",
       "job         428.167180\n",
       "marital     365.171939\n",
       "loan        211.232567\n",
       "previous    169.880389"
      ]
     },
     "execution_count": 135,
     "metadata": {},
     "output_type": "execute_result"
    }
   ],
   "source": [
    "pd.DataFrame(model.feature_importance(importance_type=\"gain\"), index=valX.columns, columns=[\"importance\"]).sort_values(\"importance\", ascending=False)"
   ]
  },
  {
   "cell_type": "code",
   "execution_count": null,
   "id": "878a0ef8-b0f9-4080-ba71-bab142567457",
   "metadata": {},
   "outputs": [],
   "source": []
  }
 ],
 "metadata": {
  "kernelspec": {
   "display_name": "Python 3 (ipykernel)",
   "language": "python",
   "name": "python3"
  },
  "language_info": {
   "codemirror_mode": {
    "name": "ipython",
    "version": 3
   },
   "file_extension": ".py",
   "mimetype": "text/x-python",
   "name": "python",
   "nbconvert_exporter": "python",
   "pygments_lexer": "ipython3",
   "version": "3.7.13"
  }
 },
 "nbformat": 4,
 "nbformat_minor": 5
}
