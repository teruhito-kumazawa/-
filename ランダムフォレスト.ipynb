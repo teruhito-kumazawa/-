{
 "cells": [
  {
   "cell_type": "code",
   "execution_count": 27,
   "id": "a2535b23-19bd-47ad-9827-f1f81beb0dda",
   "metadata": {},
   "outputs": [],
   "source": [
    "'''\n",
    "0、id、int行の通し番号\n",
    "1、age、int、年齢\n",
    "2、job、varchar、職種\n",
    "3、marital、varchar、未婚/既婚\n",
    "4、education、varchar、教育水準\n",
    "5、default、varchar、債務不履行があるか（yes, no）\n",
    "6、balance、int、年間平均残高（€）\n",
    "7、housing、varchar、住宅ローン（yes, no）\n",
    "8、loan、varchar、個人ローン（yes, no）\n",
    "9、contact、varchar、連絡方法\n",
    "10、dayint、最終接触日\n",
    "11、monthchar、最終接触月\n",
    "12、duration、int、最終接触時間（秒）\n",
    "13、compaign、int、現キャンペーンにおける接触回数\n",
    "14、pdaysint、経過日数：前キャンペーン接触後の日数\n",
    "15、previous、int、接触実績：現キャンペーン以前までに顧客に接触した回数\n",
    "16、poutcome、varchar、前回のキャンペーンの成果\n",
    "17、y、boolean、定額預金申し込み有無（1:有り, 0:無し）\n",
    "'''\n",
    "import pandas as pd\n",
    "import numpy as np\n",
    "import matplotlib.pyplot as plt\n",
    "import japanize_matplotlib\n",
    "import seaborn as sns\n",
    "%matplotlib inline\n",
    "\n",
    "from sklearn.model_selection import train_test_split\n",
    "from sklearn.ensemble import RandomForestClassifier\n",
    "from sklearn.model_selection import cross_validate\n",
    "from sklearn.model_selection import GridSearchCV"
   ]
  },
  {
   "cell_type": "code",
   "execution_count": 28,
   "id": "a776cdb1-4e4a-4f8b-8213-858233704a1d",
   "metadata": {},
   "outputs": [],
   "source": [
    "train = pd.read_csv(\"./data/train.csv\")\n",
    "test = pd.read_csv(\"./data/test.csv\")\n",
    "sample = pd.read_csv(\"./data/submit_sample.csv\", header=None)"
   ]
  },
  {
   "cell_type": "code",
   "execution_count": 29,
   "id": "67f49cb0-af71-4a4d-8b2a-9ffbd3d0d8cf",
   "metadata": {},
   "outputs": [
    {
     "data": {
      "text/html": [
       "<div>\n",
       "<style scoped>\n",
       "    .dataframe tbody tr th:only-of-type {\n",
       "        vertical-align: middle;\n",
       "    }\n",
       "\n",
       "    .dataframe tbody tr th {\n",
       "        vertical-align: top;\n",
       "    }\n",
       "\n",
       "    .dataframe thead th {\n",
       "        text-align: right;\n",
       "    }\n",
       "</style>\n",
       "<table border=\"1\" class=\"dataframe\">\n",
       "  <thead>\n",
       "    <tr style=\"text-align: right;\">\n",
       "      <th></th>\n",
       "      <th>id</th>\n",
       "      <th>age</th>\n",
       "      <th>job</th>\n",
       "      <th>marital</th>\n",
       "      <th>education</th>\n",
       "      <th>default</th>\n",
       "      <th>balance</th>\n",
       "      <th>housing</th>\n",
       "      <th>loan</th>\n",
       "      <th>contact</th>\n",
       "      <th>day</th>\n",
       "      <th>month</th>\n",
       "      <th>duration</th>\n",
       "      <th>campaign</th>\n",
       "      <th>pdays</th>\n",
       "      <th>previous</th>\n",
       "      <th>poutcome</th>\n",
       "      <th>y</th>\n",
       "    </tr>\n",
       "  </thead>\n",
       "  <tbody>\n",
       "    <tr>\n",
       "      <th>0</th>\n",
       "      <td>1</td>\n",
       "      <td>39</td>\n",
       "      <td>blue-collar</td>\n",
       "      <td>married</td>\n",
       "      <td>secondary</td>\n",
       "      <td>no</td>\n",
       "      <td>1756</td>\n",
       "      <td>yes</td>\n",
       "      <td>no</td>\n",
       "      <td>cellular</td>\n",
       "      <td>3</td>\n",
       "      <td>apr</td>\n",
       "      <td>939</td>\n",
       "      <td>1</td>\n",
       "      <td>-1</td>\n",
       "      <td>0</td>\n",
       "      <td>unknown</td>\n",
       "      <td>1</td>\n",
       "    </tr>\n",
       "    <tr>\n",
       "      <th>1</th>\n",
       "      <td>2</td>\n",
       "      <td>51</td>\n",
       "      <td>entrepreneur</td>\n",
       "      <td>married</td>\n",
       "      <td>primary</td>\n",
       "      <td>no</td>\n",
       "      <td>1443</td>\n",
       "      <td>no</td>\n",
       "      <td>no</td>\n",
       "      <td>cellular</td>\n",
       "      <td>18</td>\n",
       "      <td>feb</td>\n",
       "      <td>172</td>\n",
       "      <td>10</td>\n",
       "      <td>-1</td>\n",
       "      <td>0</td>\n",
       "      <td>unknown</td>\n",
       "      <td>1</td>\n",
       "    </tr>\n",
       "    <tr>\n",
       "      <th>2</th>\n",
       "      <td>3</td>\n",
       "      <td>36</td>\n",
       "      <td>management</td>\n",
       "      <td>single</td>\n",
       "      <td>tertiary</td>\n",
       "      <td>no</td>\n",
       "      <td>436</td>\n",
       "      <td>no</td>\n",
       "      <td>no</td>\n",
       "      <td>cellular</td>\n",
       "      <td>13</td>\n",
       "      <td>apr</td>\n",
       "      <td>567</td>\n",
       "      <td>1</td>\n",
       "      <td>595</td>\n",
       "      <td>2</td>\n",
       "      <td>failure</td>\n",
       "      <td>1</td>\n",
       "    </tr>\n",
       "  </tbody>\n",
       "</table>\n",
       "</div>"
      ],
      "text/plain": [
       "   id  age           job  marital  education default  balance housing loan  \\\n",
       "0   1   39   blue-collar  married  secondary      no     1756     yes   no   \n",
       "1   2   51  entrepreneur  married    primary      no     1443      no   no   \n",
       "2   3   36    management   single   tertiary      no      436      no   no   \n",
       "\n",
       "    contact  day month  duration  campaign  pdays  previous poutcome  y  \n",
       "0  cellular    3   apr       939         1     -1         0  unknown  1  \n",
       "1  cellular   18   feb       172        10     -1         0  unknown  1  \n",
       "2  cellular   13   apr       567         1    595         2  failure  1  "
      ]
     },
     "execution_count": 29,
     "metadata": {},
     "output_type": "execute_result"
    }
   ],
   "source": [
    "train.head(3)"
   ]
  },
  {
   "cell_type": "code",
   "execution_count": 30,
   "id": "b67bd498-3ad0-4374-9fbe-e2e4a1cea94d",
   "metadata": {},
   "outputs": [
    {
     "name": "stdout",
     "output_type": "stream",
     "text": [
      "(27128, 18)\n",
      "(18083, 17)\n",
      "(18083, 2)\n"
     ]
    }
   ],
   "source": [
    "print(train.shape)\n",
    "print(test.shape)\n",
    "print(sample.shape)"
   ]
  },
  {
   "cell_type": "code",
   "execution_count": 31,
   "id": "b99163a7-c89f-44a2-87bc-155b94cc401a",
   "metadata": {},
   "outputs": [
    {
     "data": {
      "text/plain": [
       "id           0\n",
       "age          0\n",
       "job          0\n",
       "marital      0\n",
       "education    0\n",
       "default      0\n",
       "balance      0\n",
       "housing      0\n",
       "loan         0\n",
       "contact      0\n",
       "day          0\n",
       "month        0\n",
       "duration     0\n",
       "campaign     0\n",
       "pdays        0\n",
       "previous     0\n",
       "poutcome     0\n",
       "y            0\n",
       "dtype: int64"
      ]
     },
     "execution_count": 31,
     "metadata": {},
     "output_type": "execute_result"
    }
   ],
   "source": [
    "train.isnull().sum()"
   ]
  },
  {
   "cell_type": "code",
   "execution_count": 32,
   "id": "05783260-66a9-45e1-bfa1-70f57fd1f020",
   "metadata": {},
   "outputs": [
    {
     "data": {
      "text/plain": [
       "id           0\n",
       "age          0\n",
       "job          0\n",
       "marital      0\n",
       "education    0\n",
       "default      0\n",
       "balance      0\n",
       "housing      0\n",
       "loan         0\n",
       "contact      0\n",
       "day          0\n",
       "month        0\n",
       "duration     0\n",
       "campaign     0\n",
       "pdays        0\n",
       "previous     0\n",
       "poutcome     0\n",
       "dtype: int64"
      ]
     },
     "execution_count": 32,
     "metadata": {},
     "output_type": "execute_result"
    }
   ],
   "source": [
    "test.isnull().sum()"
   ]
  },
  {
   "cell_type": "code",
   "execution_count": 33,
   "id": "15df293f-e68c-4ac3-8368-f355d6205761",
   "metadata": {},
   "outputs": [
    {
     "name": "stdout",
     "output_type": "stream",
     "text": [
      "<class 'pandas.core.frame.DataFrame'>\n",
      "RangeIndex: 27128 entries, 0 to 27127\n",
      "Data columns (total 18 columns):\n",
      " #   Column     Non-Null Count  Dtype \n",
      "---  ------     --------------  ----- \n",
      " 0   id         27128 non-null  int64 \n",
      " 1   age        27128 non-null  int64 \n",
      " 2   job        27128 non-null  object\n",
      " 3   marital    27128 non-null  object\n",
      " 4   education  27128 non-null  object\n",
      " 5   default    27128 non-null  object\n",
      " 6   balance    27128 non-null  int64 \n",
      " 7   housing    27128 non-null  object\n",
      " 8   loan       27128 non-null  object\n",
      " 9   contact    27128 non-null  object\n",
      " 10  day        27128 non-null  int64 \n",
      " 11  month      27128 non-null  object\n",
      " 12  duration   27128 non-null  int64 \n",
      " 13  campaign   27128 non-null  int64 \n",
      " 14  pdays      27128 non-null  int64 \n",
      " 15  previous   27128 non-null  int64 \n",
      " 16  poutcome   27128 non-null  object\n",
      " 17  y          27128 non-null  int64 \n",
      "dtypes: int64(9), object(9)\n",
      "memory usage: 3.7+ MB\n"
     ]
    }
   ],
   "source": [
    "train.info()"
   ]
  },
  {
   "cell_type": "code",
   "execution_count": 34,
   "id": "7ce7816c-ad7d-4c0b-b39f-94fb3f4b2c0b",
   "metadata": {},
   "outputs": [
    {
     "data": {
      "text/plain": [
       "Index(['id', 'age', 'job', 'marital', 'education', 'default', 'balance',\n",
       "       'housing', 'loan', 'contact', 'day', 'month', 'duration', 'campaign',\n",
       "       'pdays', 'previous', 'poutcome', 'y'],\n",
       "      dtype='object')"
      ]
     },
     "execution_count": 34,
     "metadata": {},
     "output_type": "execute_result"
    }
   ],
   "source": [
    "train.columns"
   ]
  },
  {
   "cell_type": "code",
   "execution_count": 35,
   "id": "1307a432-83ab-4575-9a49-cd13ade80d91",
   "metadata": {},
   "outputs": [],
   "source": [
    "trainX = train.iloc[:, 1:17]\n",
    "trainy = train[\"y\"]"
   ]
  },
  {
   "cell_type": "code",
   "execution_count": 36,
   "id": "8d17adba-c869-407f-b213-5a7bf0e0caea",
   "metadata": {},
   "outputs": [
    {
     "data": {
      "text/html": [
       "<div>\n",
       "<style scoped>\n",
       "    .dataframe tbody tr th:only-of-type {\n",
       "        vertical-align: middle;\n",
       "    }\n",
       "\n",
       "    .dataframe tbody tr th {\n",
       "        vertical-align: top;\n",
       "    }\n",
       "\n",
       "    .dataframe thead th {\n",
       "        text-align: right;\n",
       "    }\n",
       "</style>\n",
       "<table border=\"1\" class=\"dataframe\">\n",
       "  <thead>\n",
       "    <tr style=\"text-align: right;\">\n",
       "      <th></th>\n",
       "      <th>age</th>\n",
       "      <th>job</th>\n",
       "      <th>marital</th>\n",
       "      <th>education</th>\n",
       "      <th>default</th>\n",
       "      <th>balance</th>\n",
       "      <th>housing</th>\n",
       "      <th>loan</th>\n",
       "      <th>contact</th>\n",
       "      <th>day</th>\n",
       "      <th>month</th>\n",
       "      <th>duration</th>\n",
       "      <th>campaign</th>\n",
       "      <th>pdays</th>\n",
       "      <th>previous</th>\n",
       "      <th>poutcome</th>\n",
       "    </tr>\n",
       "  </thead>\n",
       "  <tbody>\n",
       "    <tr>\n",
       "      <th>0</th>\n",
       "      <td>39</td>\n",
       "      <td>blue-collar</td>\n",
       "      <td>married</td>\n",
       "      <td>secondary</td>\n",
       "      <td>no</td>\n",
       "      <td>1756</td>\n",
       "      <td>yes</td>\n",
       "      <td>no</td>\n",
       "      <td>cellular</td>\n",
       "      <td>3</td>\n",
       "      <td>apr</td>\n",
       "      <td>939</td>\n",
       "      <td>1</td>\n",
       "      <td>-1</td>\n",
       "      <td>0</td>\n",
       "      <td>unknown</td>\n",
       "    </tr>\n",
       "    <tr>\n",
       "      <th>1</th>\n",
       "      <td>51</td>\n",
       "      <td>entrepreneur</td>\n",
       "      <td>married</td>\n",
       "      <td>primary</td>\n",
       "      <td>no</td>\n",
       "      <td>1443</td>\n",
       "      <td>no</td>\n",
       "      <td>no</td>\n",
       "      <td>cellular</td>\n",
       "      <td>18</td>\n",
       "      <td>feb</td>\n",
       "      <td>172</td>\n",
       "      <td>10</td>\n",
       "      <td>-1</td>\n",
       "      <td>0</td>\n",
       "      <td>unknown</td>\n",
       "    </tr>\n",
       "    <tr>\n",
       "      <th>2</th>\n",
       "      <td>36</td>\n",
       "      <td>management</td>\n",
       "      <td>single</td>\n",
       "      <td>tertiary</td>\n",
       "      <td>no</td>\n",
       "      <td>436</td>\n",
       "      <td>no</td>\n",
       "      <td>no</td>\n",
       "      <td>cellular</td>\n",
       "      <td>13</td>\n",
       "      <td>apr</td>\n",
       "      <td>567</td>\n",
       "      <td>1</td>\n",
       "      <td>595</td>\n",
       "      <td>2</td>\n",
       "      <td>failure</td>\n",
       "    </tr>\n",
       "  </tbody>\n",
       "</table>\n",
       "</div>"
      ],
      "text/plain": [
       "   age           job  marital  education default  balance housing loan  \\\n",
       "0   39   blue-collar  married  secondary      no     1756     yes   no   \n",
       "1   51  entrepreneur  married    primary      no     1443      no   no   \n",
       "2   36    management   single   tertiary      no      436      no   no   \n",
       "\n",
       "    contact  day month  duration  campaign  pdays  previous poutcome  \n",
       "0  cellular    3   apr       939         1     -1         0  unknown  \n",
       "1  cellular   18   feb       172        10     -1         0  unknown  \n",
       "2  cellular   13   apr       567         1    595         2  failure  "
      ]
     },
     "execution_count": 36,
     "metadata": {},
     "output_type": "execute_result"
    }
   ],
   "source": [
    "trainX.head(3)"
   ]
  },
  {
   "cell_type": "code",
   "execution_count": 37,
   "id": "2ab82013-8525-4b8c-9252-994c55e13a7c",
   "metadata": {},
   "outputs": [],
   "source": [
    "testX = test.copy()"
   ]
  },
  {
   "cell_type": "code",
   "execution_count": 38,
   "id": "769a6178-b92a-4dbd-8449-76a7d7f1b439",
   "metadata": {},
   "outputs": [],
   "source": [
    "testX = testX.iloc[:, 1:17]"
   ]
  },
  {
   "cell_type": "code",
   "execution_count": 39,
   "id": "0ef403ba-daaf-435a-9b10-7ea5863015ac",
   "metadata": {},
   "outputs": [],
   "source": [
    "trainX = pd.get_dummies(trainX, drop_first=True)\n",
    "testX = pd.get_dummies(testX, drop_first=True)"
   ]
  },
  {
   "cell_type": "code",
   "execution_count": 40,
   "id": "fe2e2abc-8ddb-4bf7-bd4d-298f19ad7499",
   "metadata": {},
   "outputs": [],
   "source": [
    "model = RandomForestClassifier(n_estimators=200, random_state=0)"
   ]
  },
  {
   "cell_type": "code",
   "execution_count": 41,
   "id": "db603bf4-8cc0-4ac0-b38d-be0578e7ff3a",
   "metadata": {},
   "outputs": [
    {
     "data": {
      "text/plain": [
       "RandomForestClassifier(n_estimators=200, random_state=0)"
      ]
     },
     "execution_count": 41,
     "metadata": {},
     "output_type": "execute_result"
    }
   ],
   "source": [
    "model.fit(trainX, trainy)"
   ]
  },
  {
   "cell_type": "code",
   "execution_count": 42,
   "id": "1510d7f2-5926-42dd-83c0-2182dfb27cb5",
   "metadata": {},
   "outputs": [],
   "source": [
    "pred = model.predict_proba(testX)"
   ]
  },
  {
   "cell_type": "code",
   "execution_count": 43,
   "id": "0abab97e-ed0c-4bd8-a2cf-e86ae745cb2e",
   "metadata": {},
   "outputs": [
    {
     "data": {
      "text/plain": [
       "array([[0.45 , 0.55 ],\n",
       "       [0.4  , 0.6  ],\n",
       "       [0.99 , 0.01 ],\n",
       "       ...,\n",
       "       [1.   , 0.   ],\n",
       "       [1.   , 0.   ],\n",
       "       [0.995, 0.005]])"
      ]
     },
     "execution_count": 43,
     "metadata": {},
     "output_type": "execute_result"
    }
   ],
   "source": [
    "pred"
   ]
  },
  {
   "cell_type": "code",
   "execution_count": 46,
   "id": "e761655e-86c0-42d5-a73b-f4895c41eb1f",
   "metadata": {},
   "outputs": [],
   "source": [
    "pred = pred[:, 1]"
   ]
  },
  {
   "cell_type": "code",
   "execution_count": 47,
   "id": "7c130251-82b1-467a-a1d2-eeb80ba1fe50",
   "metadata": {},
   "outputs": [],
   "source": [
    "sample[1] = pred"
   ]
  },
  {
   "cell_type": "code",
   "execution_count": 49,
   "id": "8cd93490-a063-4767-b70e-980f4fc95431",
   "metadata": {},
   "outputs": [],
   "source": [
    "sample.to_csv(\"forest1_bank.csv\", index=None, header=None)"
   ]
  },
  {
   "cell_type": "code",
   "execution_count": 51,
   "id": "105afe00-6c7d-49a4-b684-2c8a313f48f6",
   "metadata": {},
   "outputs": [],
   "source": [
    "model2 = RandomForestClassifier(n_estimators=200, max_depth=10, random_state=0)"
   ]
  },
  {
   "cell_type": "code",
   "execution_count": 52,
   "id": "3cf5d236-699b-436e-8ebe-872718824c82",
   "metadata": {},
   "outputs": [
    {
     "data": {
      "text/plain": [
       "RandomForestClassifier(max_depth=10, n_estimators=200, random_state=0)"
      ]
     },
     "execution_count": 52,
     "metadata": {},
     "output_type": "execute_result"
    }
   ],
   "source": [
    "model2.fit(trainX, trainy)"
   ]
  },
  {
   "cell_type": "code",
   "execution_count": 54,
   "id": "df049617-b0a3-451c-83c1-070211a17a89",
   "metadata": {},
   "outputs": [],
   "source": [
    "pred2 = model2.predict_proba(testX)"
   ]
  },
  {
   "cell_type": "code",
   "execution_count": 55,
   "id": "607150a8-4cda-40ee-b56f-bab18c43f295",
   "metadata": {},
   "outputs": [
    {
     "data": {
      "text/plain": [
       "array([[0.49823788, 0.50176212],\n",
       "       [0.52900699, 0.47099301],\n",
       "       [0.97697467, 0.02302533],\n",
       "       ...,\n",
       "       [0.98456992, 0.01543008],\n",
       "       [0.97214615, 0.02785385],\n",
       "       [0.96317862, 0.03682138]])"
      ]
     },
     "execution_count": 55,
     "metadata": {},
     "output_type": "execute_result"
    }
   ],
   "source": [
    "pred2"
   ]
  },
  {
   "cell_type": "code",
   "execution_count": 56,
   "id": "cf50b200-8d57-408a-a6ad-90c8630fe4af",
   "metadata": {},
   "outputs": [],
   "source": [
    "pred2 = pred2[:, 1]"
   ]
  },
  {
   "cell_type": "code",
   "execution_count": 57,
   "id": "e70a0cb8-3b9b-4377-9abe-c87607ee847d",
   "metadata": {},
   "outputs": [],
   "source": [
    "sample[1] = pred2"
   ]
  },
  {
   "cell_type": "code",
   "execution_count": 58,
   "id": "156efe9d-8b56-4d29-a527-e1cf4f9c5592",
   "metadata": {},
   "outputs": [],
   "source": [
    "sample.to_csv(\"forest2_bank.csv\", index=None, header=None)"
   ]
  },
  {
   "cell_type": "code",
   "execution_count": null,
   "id": "c5ea0dbf-8875-4a33-84ed-ee44d5a3df49",
   "metadata": {},
   "outputs": [],
   "source": []
  },
  {
   "cell_type": "code",
   "execution_count": 60,
   "id": "6351aace-bbb1-404a-a568-35881d54872d",
   "metadata": {},
   "outputs": [],
   "source": [
    "model3 = RandomForestClassifier(n_estimators=300, random_state=0)"
   ]
  },
  {
   "cell_type": "code",
   "execution_count": 61,
   "id": "cef0f941-24f9-4ec8-89c9-91ae2ab98aa7",
   "metadata": {},
   "outputs": [
    {
     "data": {
      "text/plain": [
       "RandomForestClassifier(n_estimators=300, random_state=0)"
      ]
     },
     "execution_count": 61,
     "metadata": {},
     "output_type": "execute_result"
    }
   ],
   "source": [
    "model3.fit(trainX, trainy)"
   ]
  },
  {
   "cell_type": "code",
   "execution_count": 62,
   "id": "60191b51-fa89-4375-89ee-ca62969a1e03",
   "metadata": {},
   "outputs": [],
   "source": [
    "pred3 = model3.predict_proba(testX)"
   ]
  },
  {
   "cell_type": "code",
   "execution_count": 63,
   "id": "9d89aeaf-7456-4e7e-8bca-7630860c625f",
   "metadata": {},
   "outputs": [
    {
     "data": {
      "text/plain": [
       "array([[0.46      , 0.54      ],\n",
       "       [0.39666667, 0.60333333],\n",
       "       [0.99333333, 0.00666667],\n",
       "       ...,\n",
       "       [1.        , 0.        ],\n",
       "       [1.        , 0.        ],\n",
       "       [0.99666667, 0.00333333]])"
      ]
     },
     "execution_count": 63,
     "metadata": {},
     "output_type": "execute_result"
    }
   ],
   "source": [
    "pred3"
   ]
  },
  {
   "cell_type": "code",
   "execution_count": 64,
   "id": "830f8c12-e520-47ea-b546-7df9faa77ed8",
   "metadata": {},
   "outputs": [],
   "source": [
    "pred3 = pred3[:, 1]"
   ]
  },
  {
   "cell_type": "code",
   "execution_count": 65,
   "id": "18c834f3-61c7-4a31-b1d8-031a17fd3d2e",
   "metadata": {},
   "outputs": [],
   "source": [
    "sample[1] = pred3"
   ]
  },
  {
   "cell_type": "code",
   "execution_count": 66,
   "id": "8f2686f5-0ef9-4e47-9b5f-cf9539d157b3",
   "metadata": {},
   "outputs": [],
   "source": [
    "sample.to_csv(\"forest3_bank.csv\", index=None, header=None)"
   ]
  },
  {
   "cell_type": "code",
   "execution_count": null,
   "id": "1ed99abf-1be8-4bb9-9e3e-7060da91beec",
   "metadata": {},
   "outputs": [],
   "source": []
  },
  {
   "cell_type": "code",
   "execution_count": 87,
   "id": "f6dc8fa6-c08d-4ee2-94f1-6910b4e4ae25",
   "metadata": {},
   "outputs": [],
   "source": [
    "model4 = RandomForestClassifier()"
   ]
  },
  {
   "cell_type": "code",
   "execution_count": 88,
   "id": "2a984feb-60a0-4aaa-b72b-53ca2d06502f",
   "metadata": {},
   "outputs": [],
   "source": [
    "parameters={\"n_estimators\":list(range(100, 401, 50))}"
   ]
  },
  {
   "cell_type": "code",
   "execution_count": 89,
   "id": "4ffa912c-c7b1-4b62-b9ad-0b4fba6ade62",
   "metadata": {},
   "outputs": [
    {
     "data": {
      "text/plain": [
       "GridSearchCV(cv=5, estimator=RandomForestClassifier(), n_jobs=-1,\n",
       "             param_grid={'n_estimators': [100, 150, 200, 250, 300, 350, 400]},\n",
       "             return_train_score=True, scoring='roc_auc')"
      ]
     },
     "execution_count": 89,
     "metadata": {},
     "output_type": "execute_result"
    }
   ],
   "source": [
    "gcv = GridSearchCV(model4, parameters, cv=5, scoring=\"roc_auc\", n_jobs=-1, return_train_score=True)\n",
    "gcv.fit(trainX, trainy)"
   ]
  },
  {
   "cell_type": "code",
   "execution_count": 90,
   "id": "213107ba-2c8b-4920-8696-2ef8d33924b8",
   "metadata": {},
   "outputs": [
    {
     "data": {
      "text/plain": [
       "{'mean_fit_time': array([ 3.79378462,  5.6587728 ,  7.90883656, 10.2471478 , 12.21184525,\n",
       "        13.75139146, 12.74301772]),\n",
       " 'std_fit_time': array([0.02605117, 0.16797186, 0.10073799, 0.10249265, 0.20202549,\n",
       "        0.07319752, 1.89737298]),\n",
       " 'mean_score_time': array([0.17231059, 0.2782433 , 0.36408243, 0.46931849, 0.54893117,\n",
       "        0.61834044, 0.45348544]),\n",
       " 'std_score_time': array([0.00450526, 0.00435867, 0.0126649 , 0.02531872, 0.0124115 ,\n",
       "        0.02959822, 0.08048397]),\n",
       " 'param_n_estimators': masked_array(data=[100, 150, 200, 250, 300, 350, 400],\n",
       "              mask=[False, False, False, False, False, False, False],\n",
       "        fill_value='?',\n",
       "             dtype=object),\n",
       " 'params': [{'n_estimators': 100},\n",
       "  {'n_estimators': 150},\n",
       "  {'n_estimators': 200},\n",
       "  {'n_estimators': 250},\n",
       "  {'n_estimators': 300},\n",
       "  {'n_estimators': 350},\n",
       "  {'n_estimators': 400}],\n",
       " 'split0_test_score': array([0.92545652, 0.92540574, 0.92543401, 0.92624491, 0.92630293,\n",
       "        0.92625658, 0.92674486]),\n",
       " 'split1_test_score': array([0.92684495, 0.93000442, 0.92983481, 0.93019704, 0.92921275,\n",
       "        0.93174637, 0.93033904]),\n",
       " 'split2_test_score': array([0.92446385, 0.9267069 , 0.92452071, 0.92750203, 0.92700569,\n",
       "        0.92602485, 0.92659054]),\n",
       " 'split3_test_score': array([0.92439909, 0.92757221, 0.92751993, 0.92747637, 0.92909063,\n",
       "        0.92987244, 0.9297766 ]),\n",
       " 'split4_test_score': array([0.92161762, 0.92425993, 0.9238461 , 0.92503096, 0.9258978 ,\n",
       "        0.92605516, 0.92588924]),\n",
       " 'mean_test_score': array([0.92455641, 0.92678984, 0.92623111, 0.92729026, 0.92750196,\n",
       "        0.92799108, 0.92786806]),\n",
       " 'std_test_score': array([0.00171566, 0.00196309, 0.00218617, 0.00171616, 0.00139341,\n",
       "        0.00237756, 0.00181976]),\n",
       " 'rank_test_score': array([7, 5, 6, 4, 3, 1, 2], dtype=int32),\n",
       " 'split0_train_score': array([1., 1., 1., 1., 1., 1., 1.]),\n",
       " 'split1_train_score': array([1., 1., 1., 1., 1., 1., 1.]),\n",
       " 'split2_train_score': array([1., 1., 1., 1., 1., 1., 1.]),\n",
       " 'split3_train_score': array([1., 1., 1., 1., 1., 1., 1.]),\n",
       " 'split4_train_score': array([1., 1., 1., 1., 1., 1., 1.]),\n",
       " 'mean_train_score': array([1., 1., 1., 1., 1., 1., 1.]),\n",
       " 'std_train_score': array([0.00000000e+00, 0.00000000e+00, 4.96506831e-17, 0.00000000e+00,\n",
       "        4.96506831e-17, 0.00000000e+00, 0.00000000e+00])}"
      ]
     },
     "execution_count": 90,
     "metadata": {},
     "output_type": "execute_result"
    }
   ],
   "source": [
    "gcv.cv_results_"
   ]
  },
  {
   "cell_type": "code",
   "execution_count": 91,
   "id": "d9e1cfb8-6604-4b6f-a122-2f43345975ca",
   "metadata": {},
   "outputs": [],
   "source": [
    "train_score = gcv.cv_results_[\"mean_train_score\"]\n",
    "test_score = gcv.cv_results_[\"mean_test_score\"]"
   ]
  },
  {
   "cell_type": "code",
   "execution_count": 92,
   "id": "47af22bc-0f09-48c1-a8d7-2ff59648e1fc",
   "metadata": {},
   "outputs": [
    {
     "data": {
      "text/plain": [
       "array([1., 1., 1., 1., 1., 1., 1.])"
      ]
     },
     "execution_count": 92,
     "metadata": {},
     "output_type": "execute_result"
    }
   ],
   "source": [
    "train_score"
   ]
  },
  {
   "cell_type": "code",
   "execution_count": 93,
   "id": "13668ceb-df50-4854-aa8e-2d5bb3b668ca",
   "metadata": {},
   "outputs": [
    {
     "data": {
      "text/plain": [
       "array([0.92455641, 0.92678984, 0.92623111, 0.92729026, 0.92750196,\n",
       "       0.92799108, 0.92786806])"
      ]
     },
     "execution_count": 93,
     "metadata": {},
     "output_type": "execute_result"
    }
   ],
   "source": [
    "test_score"
   ]
  },
  {
   "cell_type": "code",
   "execution_count": 94,
   "id": "5a937c6e-94e4-4294-bdea-13d715afdfb2",
   "metadata": {},
   "outputs": [
    {
     "data": {
      "image/png": "[encoded data removed]",
      "text/plain": [
       "<Figure size 640x480 with 1 Axes>"
      ]
     },
     "metadata": {},
     "output_type": "display_data"
    }
   ],
   "source": [
    "plt.plot(train_score)\n",
    "plt.plot(test_score)\n",
    "#plt.xticks([0,1,2,3,4,5,6,7,8],[2,3,4,5,6,7,8,9,10])\n",
    "plt.show()"
   ]
  },
  {
   "cell_type": "code",
   "execution_count": 95,
   "id": "b101c498-d5c9-4deb-9c75-0d172100b634",
   "metadata": {},
   "outputs": [
    {
     "data": {
      "text/plain": [
       "{'n_estimators': 350}"
      ]
     },
     "execution_count": 95,
     "metadata": {},
     "output_type": "execute_result"
    }
   ],
   "source": [
    "gcv.best_params_"
   ]
  },
  {
   "cell_type": "code",
   "execution_count": 96,
   "id": "368e37ae-cc09-49ae-a01d-365945957bb0",
   "metadata": {},
   "outputs": [],
   "source": [
    "pred = gcv.predict_proba(testX)"
   ]
  },
  {
   "cell_type": "code",
   "execution_count": 97,
   "id": "415a3117-df1e-46a1-b1ae-134283694e05",
   "metadata": {},
   "outputs": [
    {
     "data": {
      "text/plain": [
       "array([[0.42      , 0.58      ],\n",
       "       [0.36285714, 0.63714286],\n",
       "       [0.99142857, 0.00857143],\n",
       "       ...,\n",
       "       [1.        , 0.        ],\n",
       "       [0.99714286, 0.00285714],\n",
       "       [1.        , 0.        ]])"
      ]
     },
     "execution_count": 97,
     "metadata": {},
     "output_type": "execute_result"
    }
   ],
   "source": [
    "pred"
   ]
  },
  {
   "cell_type": "code",
   "execution_count": 98,
   "id": "2b2c3645-19a4-4957-840e-a0e8e9f6ca62",
   "metadata": {},
   "outputs": [],
   "source": [
    "pred = pred[:, 1]"
   ]
  },
  {
   "cell_type": "code",
   "execution_count": 99,
   "id": "19c47d16-b418-40a1-88e3-03f8f4cb739d",
   "metadata": {},
   "outputs": [],
   "source": [
    "sample[1] = pred"
   ]
  },
  {
   "cell_type": "code",
   "execution_count": 100,
   "id": "2ef6d1d5-0280-4a10-8fa4-61a650710970",
   "metadata": {},
   "outputs": [],
   "source": [
    "sample.to_csv(\"forest4_bank.csv\", index=None, header=None)"
   ]
  },
  {
   "cell_type": "code",
   "execution_count": null,
   "id": "c1724fc9-d3f9-43a4-b019-e85eb45e145d",
   "metadata": {},
   "outputs": [],
   "source": []
  },
  {
   "cell_type": "code",
   "execution_count": null,
   "id": "ced1155b-d82d-4180-af12-53c0d35fe19e",
   "metadata": {},
   "outputs": [],
   "source": []
  },
  {
   "cell_type": "code",
   "execution_count": 101,
   "id": "99ea43cd-7784-4fa1-83f3-059b27e3606b",
   "metadata": {},
   "outputs": [],
   "source": [
    "parameters2={\"n_estimators\":list(range(100, 401, 50)),\n",
    "             \"max_depth\":list(range(1, 11))}"
   ]
  },
  {
   "cell_type": "code",
   "execution_count": 103,
   "id": "f150aa45-4fef-4841-91ee-fb2e5f137192",
   "metadata": {},
   "outputs": [
    {
     "data": {
      "text/plain": [
       "GridSearchCV(cv=5, estimator=RandomForestClassifier(), n_jobs=-1,\n",
       "             param_grid={'max_depth': [1, 2, 3, 4, 5, 6, 7, 8, 9, 10],\n",
       "                         'n_estimators': [100, 150, 200, 250, 300, 350, 400]},\n",
       "             return_train_score=True, scoring='roc_auc')"
      ]
     },
     "execution_count": 103,
     "metadata": {},
     "output_type": "execute_result"
    }
   ],
   "source": [
    "gcv = GridSearchCV(model4, parameters2, cv=5, scoring=\"roc_auc\", n_jobs=-1, return_train_score=True)\n",
    "gcv.fit(trainX, trainy)"
   ]
  },
  {
   "cell_type": "code",
   "execution_count": 104,
   "id": "8a7f1609-b925-47e0-95d7-ee65665538a5",
   "metadata": {
    "collapsed": true,
    "jupyter": {
     "outputs_hidden": true
    },
    "tags": []
   },
   "outputs": [
    {
     "data": {
      "text/plain": [
       "{'mean_fit_time': array([0.6597055 , 0.92057776, 1.30403938, 1.79081221, 2.04569545,\n",
       "        2.68591595, 3.51729603, 1.19363661, 1.49183044, 1.8756186 ,\n",
       "        2.60066237, 3.45371261, 3.88361416, 4.63101001, 1.54710355,\n",
       "        2.21837139, 2.50398455, 2.78420205, 3.69250979, 4.3188951 ,\n",
       "        4.66674662, 1.32833877, 1.90106287, 2.67258139, 3.41359525,\n",
       "        4.61989923, 5.16715441, 5.76018476, 1.55858502, 2.46001992,\n",
       "        3.29165378, 4.01424212, 4.49675469, 5.11378551, 5.80341759,\n",
       "        1.65734558, 2.59197392, 3.84850478, 4.51801   , 5.25767679,\n",
       "        6.50220208, 7.58778157, 1.93861508, 2.62672987, 3.88836141,\n",
       "        4.60268559, 5.24324999, 6.11989913, 6.91315117, 1.91684155,\n",
       "        2.88408937, 3.83079395, 4.75446434, 5.75354724, 6.61707778,\n",
       "        7.51206946, 2.05655923, 3.14156566, 4.160079  , 5.21177392,\n",
       "        6.17905769, 7.22763319, 8.33583121, 2.31842957, 3.76630902,\n",
       "        4.4513061 , 5.6383008 , 6.81863127, 7.83690195, 7.8416544 ]),\n",
       " 'std_fit_time': array([0.00905428, 0.00544348, 0.05539009, 0.02343879, 0.07357252,\n",
       "        0.07893131, 0.15972444, 0.0513204 , 0.04348752, 0.01793945,\n",
       "        0.15303723, 0.06981208, 0.1071933 , 0.23756475, 0.09627871,\n",
       "        0.04731058, 0.21825785, 0.04133027, 0.05257945, 0.10553054,\n",
       "        0.14108962, 0.02376763, 0.00546733, 0.01466296, 0.1271026 ,\n",
       "        0.04912064, 0.09782554, 0.10650306, 0.10794627, 0.03477557,\n",
       "        0.03213274, 0.10748643, 0.02765474, 0.09156519, 0.1433169 ,\n",
       "        0.04702924, 0.03706485, 0.05382014, 0.22724405, 0.12232508,\n",
       "        0.23974495, 0.18715547, 0.22892065, 0.01873462, 0.01536959,\n",
       "        0.07656754, 0.04299129, 0.03467491, 0.05090272, 0.02306219,\n",
       "        0.02523654, 0.0154422 , 0.02640044, 0.04292659, 0.04763136,\n",
       "        0.03066021, 0.02100162, 0.01471057, 0.0237939 , 0.06955604,\n",
       "        0.02722139, 0.04216293, 0.14159564, 0.16232623, 0.01686015,\n",
       "        0.03541629, 0.01675418, 0.0465466 , 0.13072365, 0.72291863]),\n",
       " 'mean_score_time': array([0.05332623, 0.0787694 , 0.13024635, 0.13739519, 0.18225517,\n",
       "        0.23469596, 0.28737364, 0.08725119, 0.10516257, 0.1351965 ,\n",
       "        0.20217495, 0.27969141, 0.26973581, 0.3786653 , 0.10311818,\n",
       "        0.16052594, 0.14402914, 0.2012085 , 0.23708677, 0.26958127,\n",
       "        0.28020687, 0.07867851, 0.11543236, 0.14933558, 0.19808078,\n",
       "        0.24969945, 0.31962819, 0.31529002, 0.09463444, 0.15216522,\n",
       "        0.205164  , 0.18917737, 0.26339021, 0.28023005, 0.30808859,\n",
       "        0.09695549, 0.12977629, 0.19441471, 0.21337061, 0.28086863,\n",
       "        0.34609318, 0.3337142 , 0.09546852, 0.14267678, 0.17683897,\n",
       "        0.21672239, 0.25441937, 0.29462528, 0.33927822, 0.09670391,\n",
       "        0.13709679, 0.18670878, 0.23483682, 0.26786056, 0.31929493,\n",
       "        0.3555222 , 0.10168562, 0.14504013, 0.1922503 , 0.24592519,\n",
       "        0.2898973 , 0.34292264, 0.39742861, 0.11926942, 0.15874577,\n",
       "        0.21493506, 0.26397972, 0.31464701, 0.35092816, 0.2659688 ]),\n",
       " 'std_score_time': array([0.00291592, 0.00307284, 0.01118421, 0.00936694, 0.03713241,\n",
       "        0.05207382, 0.03897656, 0.0089618 , 0.00795219, 0.01247276,\n",
       "        0.00955165, 0.05713189, 0.01282985, 0.05557273, 0.00688503,\n",
       "        0.02633112, 0.00523089, 0.01142437, 0.024691  , 0.01027011,\n",
       "        0.0171374 , 0.00516382, 0.00371926, 0.00437486, 0.01148675,\n",
       "        0.02906434, 0.0373349 , 0.02239159, 0.01288402, 0.01303766,\n",
       "        0.017306  , 0.00350892, 0.05159994, 0.0067923 , 0.0159984 ,\n",
       "        0.01946738, 0.0041159 , 0.04626025, 0.01404662, 0.02428706,\n",
       "        0.02796855, 0.02198475, 0.00775736, 0.0088237 , 0.00323899,\n",
       "        0.00723394, 0.0057138 , 0.00574916, 0.00744108, 0.00273958,\n",
       "        0.00225545, 0.00861889, 0.01354408, 0.00553948, 0.00759305,\n",
       "        0.01144691, 0.00458215, 0.00260882, 0.00458761, 0.00344971,\n",
       "        0.0095246 , 0.00712167, 0.03711232, 0.01469329, 0.00292651,\n",
       "        0.00628744, 0.00376099, 0.00665729, 0.01605053, 0.03816713]),\n",
       " 'param_max_depth': masked_array(data=[1, 1, 1, 1, 1, 1, 1, 2, 2, 2, 2, 2, 2, 2, 3, 3, 3, 3,\n",
       "                    3, 3, 3, 4, 4, 4, 4, 4, 4, 4, 5, 5, 5, 5, 5, 5, 5, 6,\n",
       "                    6, 6, 6, 6, 6, 6, 7, 7, 7, 7, 7, 7, 7, 8, 8, 8, 8, 8,\n",
       "                    8, 8, 9, 9, 9, 9, 9, 9, 9, 10, 10, 10, 10, 10, 10, 10],\n",
       "              mask=[False, False, False, False, False, False, False, False,\n",
       "                    False, False, False, False, False, False, False, False,\n",
       "                    False, False, False, False, False, False, False, False,\n",
       "                    False, False, False, False, False, False, False, False,\n",
       "                    False, False, False, False, False, False, False, False,\n",
       "                    False, False, False, False, False, False, False, False,\n",
       "                    False, False, False, False, False, False, False, False,\n",
       "                    False, False, False, False, False, False, False, False,\n",
       "                    False, False, False, False, False, False],\n",
       "        fill_value='?',\n",
       "             dtype=object),\n",
       " 'param_n_estimators': masked_array(data=[100, 150, 200, 250, 300, 350, 400, 100, 150, 200, 250,\n",
       "                    300, 350, 400, 100, 150, 200, 250, 300, 350, 400, 100,\n",
       "                    150, 200, 250, 300, 350, 400, 100, 150, 200, 250, 300,\n",
       "                    350, 400, 100, 150, 200, 250, 300, 350, 400, 100, 150,\n",
       "                    200, 250, 300, 350, 400, 100, 150, 200, 250, 300, 350,\n",
       "                    400, 100, 150, 200, 250, 300, 350, 400, 100, 150, 200,\n",
       "                    250, 300, 350, 400],\n",
       "              mask=[False, False, False, False, False, False, False, False,\n",
       "                    False, False, False, False, False, False, False, False,\n",
       "                    False, False, False, False, False, False, False, False,\n",
       "                    False, False, False, False, False, False, False, False,\n",
       "                    False, False, False, False, False, False, False, False,\n",
       "                    False, False, False, False, False, False, False, False,\n",
       "                    False, False, False, False, False, False, False, False,\n",
       "                    False, False, False, False, False, False, False, False,\n",
       "                    False, False, False, False, False, False],\n",
       "        fill_value='?',\n",
       "             dtype=object),\n",
       " 'params': [{'max_depth': 1, 'n_estimators': 100},\n",
       "  {'max_depth': 1, 'n_estimators': 150},\n",
       "  {'max_depth': 1, 'n_estimators': 200},\n",
       "  {'max_depth': 1, 'n_estimators': 250},\n",
       "  {'max_depth': 1, 'n_estimators': 300},\n",
       "  {'max_depth': 1, 'n_estimators': 350},\n",
       "  {'max_depth': 1, 'n_estimators': 400},\n",
       "  {'max_depth': 2, 'n_estimators': 100},\n",
       "  {'max_depth': 2, 'n_estimators': 150},\n",
       "  {'max_depth': 2, 'n_estimators': 200},\n",
       "  {'max_depth': 2, 'n_estimators': 250},\n",
       "  {'max_depth': 2, 'n_estimators': 300},\n",
       "  {'max_depth': 2, 'n_estimators': 350},\n",
       "  {'max_depth': 2, 'n_estimators': 400},\n",
       "  {'max_depth': 3, 'n_estimators': 100},\n",
       "  {'max_depth': 3, 'n_estimators': 150},\n",
       "  {'max_depth': 3, 'n_estimators': 200},\n",
       "  {'max_depth': 3, 'n_estimators': 250},\n",
       "  {'max_depth': 3, 'n_estimators': 300},\n",
       "  {'max_depth': 3, 'n_estimators': 350},\n",
       "  {'max_depth': 3, 'n_estimators': 400},\n",
       "  {'max_depth': 4, 'n_estimators': 100},\n",
       "  {'max_depth': 4, 'n_estimators': 150},\n",
       "  {'max_depth': 4, 'n_estimators': 200},\n",
       "  {'max_depth': 4, 'n_estimators': 250},\n",
       "  {'max_depth': 4, 'n_estimators': 300},\n",
       "  {'max_depth': 4, 'n_estimators': 350},\n",
       "  {'max_depth': 4, 'n_estimators': 400},\n",
       "  {'max_depth': 5, 'n_estimators': 100},\n",
       "  {'max_depth': 5, 'n_estimators': 150},\n",
       "  {'max_depth': 5, 'n_estimators': 200},\n",
       "  {'max_depth': 5, 'n_estimators': 250},\n",
       "  {'max_depth': 5, 'n_estimators': 300},\n",
       "  {'max_depth': 5, 'n_estimators': 350},\n",
       "  {'max_depth': 5, 'n_estimators': 400},\n",
       "  {'max_depth': 6, 'n_estimators': 100},\n",
       "  {'max_depth': 6, 'n_estimators': 150},\n",
       "  {'max_depth': 6, 'n_estimators': 200},\n",
       "  {'max_depth': 6, 'n_estimators': 250},\n",
       "  {'max_depth': 6, 'n_estimators': 300},\n",
       "  {'max_depth': 6, 'n_estimators': 350},\n",
       "  {'max_depth': 6, 'n_estimators': 400},\n",
       "  {'max_depth': 7, 'n_estimators': 100},\n",
       "  {'max_depth': 7, 'n_estimators': 150},\n",
       "  {'max_depth': 7, 'n_estimators': 200},\n",
       "  {'max_depth': 7, 'n_estimators': 250},\n",
       "  {'max_depth': 7, 'n_estimators': 300},\n",
       "  {'max_depth': 7, 'n_estimators': 350},\n",
       "  {'max_depth': 7, 'n_estimators': 400},\n",
       "  {'max_depth': 8, 'n_estimators': 100},\n",
       "  {'max_depth': 8, 'n_estimators': 150},\n",
       "  {'max_depth': 8, 'n_estimators': 200},\n",
       "  {'max_depth': 8, 'n_estimators': 250},\n",
       "  {'max_depth': 8, 'n_estimators': 300},\n",
       "  {'max_depth': 8, 'n_estimators': 350},\n",
       "  {'max_depth': 8, 'n_estimators': 400},\n",
       "  {'max_depth': 9, 'n_estimators': 100},\n",
       "  {'max_depth': 9, 'n_estimators': 150},\n",
       "  {'max_depth': 9, 'n_estimators': 200},\n",
       "  {'max_depth': 9, 'n_estimators': 250},\n",
       "  {'max_depth': 9, 'n_estimators': 300},\n",
       "  {'max_depth': 9, 'n_estimators': 350},\n",
       "  {'max_depth': 9, 'n_estimators': 400},\n",
       "  {'max_depth': 10, 'n_estimators': 100},\n",
       "  {'max_depth': 10, 'n_estimators': 150},\n",
       "  {'max_depth': 10, 'n_estimators': 200},\n",
       "  {'max_depth': 10, 'n_estimators': 250},\n",
       "  {'max_depth': 10, 'n_estimators': 300},\n",
       "  {'max_depth': 10, 'n_estimators': 350},\n",
       "  {'max_depth': 10, 'n_estimators': 400}],\n",
       " 'split0_test_score': array([0.84422548, 0.83623855, 0.86531341, 0.86395538, 0.86483729,\n",
       "        0.8677167 , 0.86555402, 0.87813666, 0.87310163, 0.88014469,\n",
       "        0.87759431, 0.88095625, 0.88074342, 0.87979594, 0.88288441,\n",
       "        0.88866839, 0.89077322, 0.88961011, 0.88814049, 0.88755804,\n",
       "        0.88838275, 0.89643919, 0.8980181 , 0.89406893, 0.89738092,\n",
       "        0.89613498, 0.89691827, 0.89448786, 0.90185469, 0.90300761,\n",
       "        0.90291919, 0.9033608 , 0.90330196, 0.903228  , 0.90074697,\n",
       "        0.90910944, 0.91110744, 0.90888066, 0.9100556 , 0.9086795 ,\n",
       "        0.90958671, 0.91045546, 0.91511578, 0.9135814 , 0.91325205,\n",
       "        0.91307882, 0.91410371, 0.91409944, 0.91336512, 0.91547406,\n",
       "        0.91720007, 0.91582741, 0.91730098, 0.9179334 , 0.91714517,\n",
       "        0.91782295, 0.91679971, 0.91893495, 0.91936554, 0.91899806,\n",
       "        0.91968175, 0.91889189, 0.91945659, 0.92026487, 0.92036512,\n",
       "        0.92127562, 0.92160169, 0.922029  , 0.92204741, 0.92092621]),\n",
       " 'split1_test_score': array([0.85968179, 0.86716021, 0.86807843, 0.8597845 , 0.82452039,\n",
       "        0.86715659, 0.85422174, 0.87466526, 0.87505658, 0.88089955,\n",
       "        0.87574373, 0.87777345, 0.8751353 , 0.87778972, 0.88518482,\n",
       "        0.88386821, 0.88884983, 0.88874629, 0.88805372, 0.88724643,\n",
       "        0.88721997, 0.89835896, 0.89770518, 0.89551242, 0.8958753 ,\n",
       "        0.89581121, 0.89642177, 0.89688672, 0.90176052, 0.90352942,\n",
       "        0.90668083, 0.90528024, 0.90503552, 0.90564904, 0.90445011,\n",
       "        0.90885338, 0.91177191, 0.90846962, 0.91000613, 0.90901608,\n",
       "        0.90863874, 0.90945326, 0.91016604, 0.91378027, 0.91397305,\n",
       "        0.91411932, 0.9129503 , 0.91292828, 0.91429896, 0.91671162,\n",
       "        0.91757248, 0.91786371, 0.91833277, 0.91701139, 0.91723294,\n",
       "        0.91802872, 0.91799782, 0.91921335, 0.92048773, 0.91960122,\n",
       "        0.92018598, 0.91994997, 0.91984249, 0.92212367, 0.92313311,\n",
       "        0.92210197, 0.92166513, 0.92241752, 0.92170392, 0.92215785]),\n",
       " 'split2_test_score': array([0.84942617, 0.8550195 , 0.85649602, 0.85695686, 0.85399921,\n",
       "        0.83490353, 0.85248686, 0.86303239, 0.8669648 , 0.86265932,\n",
       "        0.86599497, 0.86592068, 0.86796865, 0.86981562, 0.86921541,\n",
       "        0.8734019 , 0.87404648, 0.87423466, 0.87585762, 0.87445571,\n",
       "        0.87519644, 0.88778583, 0.88754423, 0.88225873, 0.8872175 ,\n",
       "        0.88499007, 0.88676817, 0.88621135, 0.89135913, 0.8906442 ,\n",
       "        0.89583159, 0.89194881, 0.89531388, 0.89280639, 0.89526277,\n",
       "        0.90023732, 0.9004398 , 0.90078264, 0.90010321, 0.90136   ,\n",
       "        0.89930447, 0.90017306, 0.90729846, 0.90667262, 0.9043492 ,\n",
       "        0.9060282 , 0.90648296, 0.90575456, 0.90594898, 0.90851005,\n",
       "        0.90977933, 0.91087916, 0.9113349 , 0.91112273, 0.91100899,\n",
       "        0.91038989, 0.91327867, 0.91193757, 0.91275867, 0.91405309,\n",
       "        0.91390517, 0.91302952, 0.91321852, 0.91580555, 0.91570957,\n",
       "        0.9159349 , 0.91557892, 0.91652459, 0.91651834, 0.91691377]),\n",
       " 'split3_test_score': array([0.83340407, 0.86545543, 0.86282708, 0.86062384, 0.85700146,\n",
       "        0.86247267, 0.86060773, 0.88083392, 0.87325185, 0.87408446,\n",
       "        0.87337136, 0.87228971, 0.87189091, 0.87210971, 0.88340555,\n",
       "        0.88467263, 0.88457038, 0.87939934, 0.88310325, 0.88279815,\n",
       "        0.88247744, 0.89150346, 0.88931369, 0.89277185, 0.88931435,\n",
       "        0.89198971, 0.89010373, 0.89213272, 0.90049019, 0.89787056,\n",
       "        0.89835616, 0.90198149, 0.89951145, 0.90117436, 0.90191508,\n",
       "        0.90430391, 0.90753571, 0.9067608 , 0.90876629, 0.90698946,\n",
       "        0.90735029, 0.90658458, 0.91024608, 0.91263673, 0.91140351,\n",
       "        0.91317509, 0.91243075, 0.91193102, 0.91251558, 0.91487038,\n",
       "        0.91606595, 0.91628129, 0.91622245, 0.91580754, 0.91628064,\n",
       "        0.91636316, 0.91804021, 0.91703023, 0.9198994 , 0.9197577 ,\n",
       "        0.91887693, 0.91975014, 0.91988625, 0.92115201, 0.92117338,\n",
       "        0.92149787, 0.92204889, 0.92256275, 0.92201141, 0.92179804]),\n",
       " 'split4_test_score': array([0.8390219 , 0.86179841, 0.86686542, 0.8653627 , 0.86332269,\n",
       "        0.86474459, 0.86409916, 0.88183368, 0.87756206, 0.88110479,\n",
       "        0.87875005, 0.87688173, 0.87782955, 0.87668058, 0.88751369,\n",
       "        0.88739188, 0.88994744, 0.8889848 , 0.88788439, 0.88790743,\n",
       "        0.88862464, 0.89477905, 0.89994943, 0.89764803, 0.89562597,\n",
       "        0.89533477, 0.89552012, 0.89697198, 0.90056458, 0.90418549,\n",
       "        0.90434862, 0.90384936, 0.90337397, 0.90511487, 0.903718  ,\n",
       "        0.90973019, 0.9076813 , 0.90907867, 0.90869842, 0.90787175,\n",
       "        0.90949184, 0.90969069, 0.9117516 , 0.91197382, 0.91314485,\n",
       "        0.91368674, 0.91232411, 0.91403539, 0.91356329, 0.91651901,\n",
       "        0.91488609, 0.91552378, 0.91662239, 0.91713465, 0.91663556,\n",
       "        0.91640082, 0.91866288, 0.91847688, 0.91868231, 0.91872214,\n",
       "        0.91812428, 0.91977136, 0.91909153, 0.91923638, 0.91958931,\n",
       "        0.92145927, 0.92095853, 0.92054733, 0.92073532, 0.92088742]),\n",
       " 'mean_test_score': array([0.84515188, 0.85713442, 0.86391607, 0.86133666, 0.85273621,\n",
       "        0.85939882, 0.8593939 , 0.87570038, 0.87318738, 0.87577856,\n",
       "        0.87429088, 0.87476437, 0.87471357, 0.87523831, 0.88164078,\n",
       "        0.8836006 , 0.88563747, 0.88419504, 0.88460789, 0.88399315,\n",
       "        0.88438025, 0.8937733 , 0.89450613, 0.89245199, 0.89308281,\n",
       "        0.89285215, 0.89314641, 0.89333813, 0.89920582, 0.89984746,\n",
       "        0.90162728, 0.90128414, 0.90130736, 0.90159454, 0.90121859,\n",
       "        0.90644685, 0.90770723, 0.90679448, 0.90752593, 0.90678336,\n",
       "        0.90687441, 0.90727141, 0.91091559, 0.91172897, 0.91122453,\n",
       "        0.91201763, 0.91165836, 0.91174974, 0.91193838, 0.91441702,\n",
       "        0.91510078, 0.91527507, 0.9159627 , 0.91580194, 0.91566066,\n",
       "        0.91580111, 0.91695586, 0.9171186 , 0.91823873, 0.91822644,\n",
       "        0.91815482, 0.91827857, 0.91829907, 0.9197165 , 0.9199941 ,\n",
       "        0.92045393, 0.92037063, 0.92081624, 0.92060328, 0.92053666]),\n",
       " 'std_test_score': array([0.00900926, 0.01124828, 0.00410413, 0.00300555, 0.01465899,\n",
       "        0.01238883, 0.00521571, 0.00680376, 0.00350325, 0.00705182,\n",
       "        0.00452935, 0.00521943, 0.00446559, 0.00370285, 0.00642031,\n",
       "        0.00539056, 0.00617674, 0.00624798, 0.00477325, 0.00511868,\n",
       "        0.00510023, 0.00374563, 0.00505226, 0.00534761, 0.00403342,\n",
       "        0.00420125, 0.00401321, 0.00398405, 0.00396508, 0.00511801,\n",
       "        0.00397249, 0.00478532, 0.0035013 , 0.00466708, 0.00325174,\n",
       "        0.00365545, 0.00402315, 0.0031151 , 0.00375661, 0.00280073,\n",
       "        0.00386913, 0.00378444, 0.00254693, 0.00261113, 0.00353992,\n",
       "        0.00301802, 0.00266359, 0.00310191, 0.00304809, 0.00302981,\n",
       "        0.00282177, 0.00234113, 0.00242187, 0.00243627, 0.00235154,\n",
       "        0.0027931 , 0.00193502, 0.00269751, 0.00280405, 0.00212098,\n",
       "        0.00223781, 0.00265014, 0.0025566 , 0.00217632, 0.00244552,\n",
       "        0.00227655, 0.00242132, 0.00226167, 0.00209685, 0.0018772 ]),\n",
       " 'rank_test_score': array([70, 68, 64, 65, 69, 66, 67, 58, 63, 57, 62, 60, 61, 59, 56, 55, 50,\n",
       "        53, 51, 54, 52, 44, 43, 49, 47, 48, 46, 45, 42, 41, 36, 39, 38, 37,\n",
       "        40, 35, 29, 33, 30, 34, 32, 31, 28, 25, 27, 22, 26, 24, 23, 21, 20,\n",
       "        19, 15, 16, 18, 17, 14, 13, 10, 11, 12,  9,  8,  7,  6,  4,  5,  1,\n",
       "         2,  3], dtype=int32),\n",
       " 'split0_train_score': array([0.84174236, 0.8348664 , 0.86158588, 0.86081144, 0.861825  ,\n",
       "        0.86487288, 0.86211409, 0.87528105, 0.87202082, 0.87868869,\n",
       "        0.8763065 , 0.87931083, 0.87893907, 0.87744824, 0.88243272,\n",
       "        0.88730414, 0.88866225, 0.8888249 , 0.88637465, 0.88694608,\n",
       "        0.8870075 , 0.89789146, 0.89895571, 0.89528453, 0.89945552,\n",
       "        0.89719048, 0.89820829, 0.89565412, 0.90729221, 0.90632559,\n",
       "        0.90644092, 0.90808325, 0.90849127, 0.90754191, 0.90559555,\n",
       "        0.91647865, 0.91743118, 0.91665916, 0.91746723, 0.916591  ,\n",
       "        0.91633163, 0.91762889, 0.92731097, 0.92596842, 0.9252635 ,\n",
       "        0.92502969, 0.92600005, 0.9257442 , 0.92574304, 0.93291683,\n",
       "        0.93503127, 0.93392811, 0.93506104, 0.93568385, 0.93483676,\n",
       "        0.93475676, 0.94074161, 0.94308829, 0.94306777, 0.94335488,\n",
       "        0.94376231, 0.94339139, 0.94385319, 0.95196074, 0.95271591,\n",
       "        0.95261495, 0.95354306, 0.95244861, 0.95288725, 0.95196093]),\n",
       " 'split1_train_score': array([0.85791166, 0.86574998, 0.86383124, 0.85908159, 0.82862102,\n",
       "        0.86396933, 0.8561601 , 0.87399728, 0.87497661, 0.87816749,\n",
       "        0.8779252 , 0.87746645, 0.87626609, 0.87768145, 0.88572711,\n",
       "        0.88515673, 0.88952873, 0.88910057, 0.88827823, 0.88626075,\n",
       "        0.88653259, 0.90052753, 0.8979263 , 0.8978936 , 0.89727529,\n",
       "        0.89784178, 0.89879084, 0.89975194, 0.90663741, 0.90827571,\n",
       "        0.91075127, 0.90879745, 0.90925205, 0.91029424, 0.90805805,\n",
       "        0.91673223, 0.9178824 , 0.91603589, 0.91755808, 0.91616352,\n",
       "        0.91632368, 0.91753662, 0.92268471, 0.92605997, 0.92520417,\n",
       "        0.92554529, 0.92501223, 0.92547414, 0.926839  , 0.93362014,\n",
       "        0.93372129, 0.93490851, 0.93508425, 0.93465703, 0.93422066,\n",
       "        0.93537291, 0.94148877, 0.9427509 , 0.94221874, 0.94259188,\n",
       "        0.94314085, 0.94338421, 0.94378892, 0.95012374, 0.95189853,\n",
       "        0.95127539, 0.95180925, 0.95299283, 0.95186041, 0.9517852 ]),\n",
       " 'split2_train_score': array([0.85999517, 0.86545095, 0.86543293, 0.86643537, 0.86422955,\n",
       "        0.84371952, 0.86328055, 0.87471245, 0.87933604, 0.87449213,\n",
       "        0.87786709, 0.87777985, 0.87853015, 0.88066693, 0.88232151,\n",
       "        0.8868298 , 0.8867913 , 0.88684486, 0.88817553, 0.88681782,\n",
       "        0.88897955, 0.90149933, 0.90159336, 0.89661395, 0.90035663,\n",
       "        0.8990073 , 0.90004351, 0.90014661, 0.90779746, 0.90617685,\n",
       "        0.91072173, 0.90769109, 0.91014541, 0.90755299, 0.90985442,\n",
       "        0.91708984, 0.9164049 , 0.91822526, 0.91724986, 0.91844226,\n",
       "        0.91758149, 0.91722258, 0.92685205, 0.92712669, 0.9252555 ,\n",
       "        0.92615211, 0.92703849, 0.92655338, 0.92665813, 0.93507496,\n",
       "        0.93465246, 0.93616207, 0.93605804, 0.93584667, 0.93568519,\n",
       "        0.93555198, 0.94344174, 0.94279008, 0.94420388, 0.94384404,\n",
       "        0.94422224, 0.94366854, 0.94391524, 0.95110474, 0.95235341,\n",
       "        0.95249847, 0.95282037, 0.95281003, 0.95214895, 0.9529977 ]),\n",
       " 'split3_train_score': array([0.83683302, 0.87024528, 0.86765343, 0.86336669, 0.85933022,\n",
       "        0.86627082, 0.86496231, 0.8838764 , 0.87859025, 0.87712194,\n",
       "        0.87792805, 0.87705969, 0.87678179, 0.87581332, 0.88715384,\n",
       "        0.88903907, 0.88832916, 0.88372607, 0.88744142, 0.88753482,\n",
       "        0.88675698, 0.89621992, 0.89528329, 0.89783709, 0.8965107 ,\n",
       "        0.89755084, 0.89607906, 0.89667038, 0.90675908, 0.90503842,\n",
       "        0.90560917, 0.90914241, 0.90789045, 0.90793761, 0.90841091,\n",
       "        0.91423081, 0.91621589, 0.91698561, 0.91751189, 0.91660823,\n",
       "        0.91708405, 0.91629012, 0.92218611, 0.92639814, 0.92344755,\n",
       "        0.92605295, 0.92522244, 0.9256438 , 0.92576804, 0.93273335,\n",
       "        0.93454154, 0.93434055, 0.93377788, 0.93422106, 0.93399158,\n",
       "        0.9343702 , 0.94207946, 0.94104123, 0.94366937, 0.94294303,\n",
       "        0.94233378, 0.94261092, 0.94303244, 0.95151505, 0.95131496,\n",
       "        0.95122896, 0.95199149, 0.95234106, 0.95091618, 0.95237579]),\n",
       " 'split4_train_score': array([0.83960133, 0.86383611, 0.86638978, 0.86544563, 0.86305872,\n",
       "        0.86515882, 0.86473558, 0.88319995, 0.87649992, 0.88079995,\n",
       "        0.87945231, 0.8765085 , 0.87796305, 0.87740286, 0.88935005,\n",
       "        0.89061479, 0.89161968, 0.88994287, 0.88897258, 0.88872744,\n",
       "        0.88962118, 0.89783925, 0.90355846, 0.90044897, 0.8999169 ,\n",
       "        0.89971719, 0.89888059, 0.90081445, 0.90620252, 0.91008778,\n",
       "        0.91068168, 0.91025667, 0.909888  , 0.91049097, 0.90926585,\n",
       "        0.92007239, 0.9171145 , 0.91746127, 0.91882213, 0.91794299,\n",
       "        0.91887939, 0.91977651, 0.92626486, 0.92618718, 0.92685607,\n",
       "        0.92720302, 0.92682013, 0.92789217, 0.92756009, 0.93514106,\n",
       "        0.93464096, 0.93514453, 0.9353633 , 0.93575259, 0.9359109 ,\n",
       "        0.93593467, 0.94400707, 0.94484012, 0.94424136, 0.94409759,\n",
       "        0.94422383, 0.94465085, 0.94517288, 0.9529876 , 0.95306089,\n",
       "        0.9535673 , 0.95269318, 0.95325473, 0.95352882, 0.95378939]),\n",
       " 'mean_train_score': array([0.84721671, 0.86002974, 0.86497865, 0.86302814, 0.8554129 ,\n",
       "        0.86079827, 0.86225052, 0.87821343, 0.87628473, 0.87785404,\n",
       "        0.87789583, 0.87762506, 0.87769603, 0.87780256, 0.88539705,\n",
       "        0.8877889 , 0.88898622, 0.88768786, 0.88784848, 0.88725738,\n",
       "        0.88777956, 0.8987955 , 0.89946342, 0.89761563, 0.89870301,\n",
       "        0.89826152, 0.89840046, 0.8986075 , 0.90693773, 0.90718087,\n",
       "        0.90884096, 0.90879417, 0.90913344, 0.90876354, 0.90823695,\n",
       "        0.91692078, 0.91700978, 0.91707344, 0.91772184, 0.9171496 ,\n",
       "        0.91724005, 0.91769094, 0.92505974, 0.92634808, 0.92520536,\n",
       "        0.92599661, 0.92601867, 0.92626154, 0.92651366, 0.93389727,\n",
       "        0.93451751, 0.93489675, 0.9350689 , 0.93523224, 0.93492902,\n",
       "        0.93519731, 0.94235173, 0.94290212, 0.94348022, 0.94336629,\n",
       "        0.9435366 , 0.94354118, 0.94395253, 0.95153837, 0.95226874,\n",
       "        0.95223701, 0.95257147, 0.95276945, 0.95226832, 0.9525818 ]),\n",
       " 'std_train_score': array([0.00973093, 0.01276048, 0.00210616, 0.00275888, 0.01349413,\n",
       "        0.00857094, 0.00321565, 0.00437187, 0.00262923, 0.00206454,\n",
       "        0.00099512, 0.00094417, 0.00101909, 0.00157871, 0.00272278,\n",
       "        0.00187786, 0.00158643, 0.00222621, 0.0008824 , 0.00083922,\n",
       "        0.00126714, 0.00193266, 0.0028775 , 0.0017083 , 0.00152439,\n",
       "        0.00094906, 0.00130448, 0.00205057, 0.00055271, 0.00178765,\n",
       "        0.00231428, 0.00089246, 0.00084438, 0.00133918, 0.00146384,\n",
       "        0.00186699, 0.00062388, 0.00073932, 0.0005602 , 0.00088067,\n",
       "        0.00094798, 0.00114533, 0.002174  , 0.00041516, 0.00107895,\n",
       "        0.00072407, 0.00081604, 0.00089592, 0.0006887 , 0.00103216,\n",
       "        0.00043173, 0.00076291, 0.0007392 , 0.00066417, 0.00076485,\n",
       "        0.00056188, 0.00121158, 0.00120738, 0.00076161, 0.00055535,\n",
       "        0.00072065, 0.00065727, 0.00068903, 0.00094535, 0.00061342,\n",
       "        0.00088564, 0.00062259, 0.00033868, 0.00089229, 0.00073399])}"
      ]
     },
     "execution_count": 104,
     "metadata": {},
     "output_type": "execute_result"
    }
   ],
   "source": [
    "gcv.cv_results_"
   ]
  },
  {
   "cell_type": "code",
   "execution_count": 105,
   "id": "c77c6c02-984e-4984-a2e7-d881123cd46d",
   "metadata": {},
   "outputs": [],
   "source": [
    "train_score = gcv.cv_results_[\"mean_train_score\"]\n",
    "test_score = gcv.cv_results_[\"mean_test_score\"]"
   ]
  },
  {
   "cell_type": "code",
   "execution_count": 106,
   "id": "56fa73ea-13e6-426f-a1c0-27c2e156c7a2",
   "metadata": {
    "collapsed": true,
    "jupyter": {
     "outputs_hidden": true
    },
    "tags": []
   },
   "outputs": [
    {
     "data": {
      "text/plain": [
       "array([0.84721671, 0.86002974, 0.86497865, 0.86302814, 0.8554129 ,\n",
       "       0.86079827, 0.86225052, 0.87821343, 0.87628473, 0.87785404,\n",
       "       0.87789583, 0.87762506, 0.87769603, 0.87780256, 0.88539705,\n",
       "       0.8877889 , 0.88898622, 0.88768786, 0.88784848, 0.88725738,\n",
       "       0.88777956, 0.8987955 , 0.89946342, 0.89761563, 0.89870301,\n",
       "       0.89826152, 0.89840046, 0.8986075 , 0.90693773, 0.90718087,\n",
       "       0.90884096, 0.90879417, 0.90913344, 0.90876354, 0.90823695,\n",
       "       0.91692078, 0.91700978, 0.91707344, 0.91772184, 0.9171496 ,\n",
       "       0.91724005, 0.91769094, 0.92505974, 0.92634808, 0.92520536,\n",
       "       0.92599661, 0.92601867, 0.92626154, 0.92651366, 0.93389727,\n",
       "       0.93451751, 0.93489675, 0.9350689 , 0.93523224, 0.93492902,\n",
       "       0.93519731, 0.94235173, 0.94290212, 0.94348022, 0.94336629,\n",
       "       0.9435366 , 0.94354118, 0.94395253, 0.95153837, 0.95226874,\n",
       "       0.95223701, 0.95257147, 0.95276945, 0.95226832, 0.9525818 ])"
      ]
     },
     "execution_count": 106,
     "metadata": {},
     "output_type": "execute_result"
    }
   ],
   "source": [
    "train_score"
   ]
  },
  {
   "cell_type": "code",
   "execution_count": 107,
   "id": "ef166554-8ab1-4eae-9d91-468c8ebf8771",
   "metadata": {
    "collapsed": true,
    "jupyter": {
     "outputs_hidden": true
    },
    "tags": []
   },
   "outputs": [
    {
     "data": {
      "text/plain": [
       "array([0.84515188, 0.85713442, 0.86391607, 0.86133666, 0.85273621,\n",
       "       0.85939882, 0.8593939 , 0.87570038, 0.87318738, 0.87577856,\n",
       "       0.87429088, 0.87476437, 0.87471357, 0.87523831, 0.88164078,\n",
       "       0.8836006 , 0.88563747, 0.88419504, 0.88460789, 0.88399315,\n",
       "       0.88438025, 0.8937733 , 0.89450613, 0.89245199, 0.89308281,\n",
       "       0.89285215, 0.89314641, 0.89333813, 0.89920582, 0.89984746,\n",
       "       0.90162728, 0.90128414, 0.90130736, 0.90159454, 0.90121859,\n",
       "       0.90644685, 0.90770723, 0.90679448, 0.90752593, 0.90678336,\n",
       "       0.90687441, 0.90727141, 0.91091559, 0.91172897, 0.91122453,\n",
       "       0.91201763, 0.91165836, 0.91174974, 0.91193838, 0.91441702,\n",
       "       0.91510078, 0.91527507, 0.9159627 , 0.91580194, 0.91566066,\n",
       "       0.91580111, 0.91695586, 0.9171186 , 0.91823873, 0.91822644,\n",
       "       0.91815482, 0.91827857, 0.91829907, 0.9197165 , 0.9199941 ,\n",
       "       0.92045393, 0.92037063, 0.92081624, 0.92060328, 0.92053666])"
      ]
     },
     "execution_count": 107,
     "metadata": {},
     "output_type": "execute_result"
    }
   ],
   "source": [
    "test_score"
   ]
  },
  {
   "cell_type": "code",
   "execution_count": 108,
   "id": "435e5c36-3258-494b-8fdb-578e041f2584",
   "metadata": {},
   "outputs": [
    {
     "data": {
      "image/png": "[encoded data removed]",
      "text/plain": [
       "<Figure size 640x480 with 1 Axes>"
      ]
     },
     "metadata": {},
     "output_type": "display_data"
    }
   ],
   "source": [
    "plt.plot(train_score)\n",
    "plt.plot(test_score)\n",
    "#plt.xticks([0,1,2,3,4,5,6,7,8],[2,3,4,5,6,7,8,9,10])\n",
    "plt.show()"
   ]
  },
  {
   "cell_type": "code",
   "execution_count": 109,
   "id": "106ff85c-6d7d-4555-9b23-d1a0be67bcc0",
   "metadata": {},
   "outputs": [
    {
     "data": {
      "text/plain": [
       "{'max_depth': 10, 'n_estimators': 300}"
      ]
     },
     "execution_count": 109,
     "metadata": {},
     "output_type": "execute_result"
    }
   ],
   "source": [
    "gcv.best_params_"
   ]
  },
  {
   "cell_type": "code",
   "execution_count": 110,
   "id": "eb076ee1-343a-4a9b-a8a7-c4400f811c06",
   "metadata": {},
   "outputs": [],
   "source": [
    "pred = gcv.predict_proba(testX)"
   ]
  },
  {
   "cell_type": "code",
   "execution_count": 111,
   "id": "ab7df722-d122-41c8-a92c-186f7918402a",
   "metadata": {},
   "outputs": [
    {
     "data": {
      "text/plain": [
       "array([[0.57137057, 0.42862943],\n",
       "       [0.5546483 , 0.4453517 ],\n",
       "       [0.9781081 , 0.0218919 ],\n",
       "       ...,\n",
       "       [0.98311428, 0.01688572],\n",
       "       [0.97274987, 0.02725013],\n",
       "       [0.96242975, 0.03757025]])"
      ]
     },
     "execution_count": 111,
     "metadata": {},
     "output_type": "execute_result"
    }
   ],
   "source": [
    "pred"
   ]
  },
  {
   "cell_type": "code",
   "execution_count": 112,
   "id": "75458de8-9321-403d-8333-de29794e8799",
   "metadata": {},
   "outputs": [],
   "source": [
    "pred = pred[:, 1]"
   ]
  },
  {
   "cell_type": "code",
   "execution_count": 113,
   "id": "78633e53-7ca3-495d-84e1-e74bd23b694e",
   "metadata": {},
   "outputs": [],
   "source": [
    "sample[1] = pred"
   ]
  },
  {
   "cell_type": "code",
   "execution_count": 114,
   "id": "d0dd273c-5f24-40f0-aa7f-2ba593db7ea5",
   "metadata": {},
   "outputs": [],
   "source": [
    "sample.to_csv(\"forest5_bank.csv\", index=None, header=None)"
   ]
  },
  {
   "cell_type": "code",
   "execution_count": null,
   "id": "bbb9d83e-1f5c-4162-876c-9676991103c9",
   "metadata": {},
   "outputs": [],
   "source": []
  },
  {
   "cell_type": "code",
   "execution_count": null,
   "id": "ed41b0d6-faef-4ec0-a614-621900a55c5b",
   "metadata": {},
   "outputs": [],
   "source": []
  },
  {
   "cell_type": "code",
   "execution_count": 115,
   "id": "437d03b5-49b3-4907-8767-58bd78f87833",
   "metadata": {},
   "outputs": [],
   "source": [
    "parameters3={\"n_estimators\":list(range(250, 501, 50)),\n",
    "             \"max_depth\":list(range(5, 15))}"
   ]
  },
  {
   "cell_type": "code",
   "execution_count": 116,
   "id": "e46678f6-e8e5-41cf-bb70-4413df60484d",
   "metadata": {},
   "outputs": [
    {
     "data": {
      "text/plain": [
       "GridSearchCV(cv=5, estimator=RandomForestClassifier(), n_jobs=-1,\n",
       "             param_grid={'max_depth': [5, 6, 7, 8, 9, 10, 11, 12, 13, 14],\n",
       "                         'n_estimators': [250, 300, 350, 400, 450, 500]},\n",
       "             return_train_score=True, scoring='roc_auc')"
      ]
     },
     "execution_count": 116,
     "metadata": {},
     "output_type": "execute_result"
    }
   ],
   "source": [
    "gcv = GridSearchCV(model4, parameters3, cv=5, scoring=\"roc_auc\", n_jobs=-1, return_train_score=True)\n",
    "gcv.fit(trainX, trainy)"
   ]
  },
  {
   "cell_type": "code",
   "execution_count": 117,
   "id": "aacb5abd-06e8-4644-939d-afd81ad49b79",
   "metadata": {
    "collapsed": true,
    "jupyter": {
     "outputs_hidden": true
    },
    "tags": []
   },
   "outputs": [
    {
     "data": {
      "text/plain": [
       "{'mean_fit_time': array([ 3.50607352,  4.26591349,  5.03860321,  5.89888663,  6.61756949,\n",
       "         7.16086097,  3.99814477,  4.84084325,  5.96089234,  6.81167412,\n",
       "         7.4311965 ,  8.69878445,  4.80801272,  5.49286151,  6.26174822,\n",
       "         7.5197576 ,  8.28977933,  8.86667037,  4.97742248,  6.29029517,\n",
       "         7.09779453,  8.18450031,  9.31323476, 10.37889047,  5.673248  ,\n",
       "         6.67337565,  7.79185238,  8.71782193,  9.67423525, 10.85818939,\n",
       "         5.97388258,  7.69129758,  8.83067846,  9.1537796 , 10.12178574,\n",
       "        11.27989979,  6.04902382,  7.26164255,  8.59663944,  9.81458783,\n",
       "        11.01373014, 12.2362433 ,  6.51603899,  7.81536803,  9.79346366,\n",
       "        10.85496273, 11.73426294, 13.07479787,  6.86710501,  8.23466616,\n",
       "         9.69626284, 11.0712503 , 12.45692601, 13.75631132,  7.28884282,\n",
       "         8.71193256, 10.17016063, 11.69139819, 13.05076451, 12.47223272]),\n",
       " 'std_fit_time': array([0.0397215 , 0.08035178, 0.06677571, 0.06116829, 0.02084022,\n",
       "        0.07567513, 0.07110701, 0.05903275, 0.11897953, 0.09217999,\n",
       "        0.07965591, 0.09441921, 0.05910571, 0.08038446, 0.04342115,\n",
       "        0.13006767, 0.10575623, 0.06506944, 0.13192243, 0.03889523,\n",
       "        0.05131426, 0.07622986, 0.06556814, 0.1054394 , 0.04703601,\n",
       "        0.02423008, 0.03849057, 0.06246633, 0.07462979, 0.07016182,\n",
       "        0.10765854, 0.26696823, 0.22843515, 0.06609303, 0.04468279,\n",
       "        0.01997665, 0.0367636 , 0.05504606, 0.04661729, 0.07081261,\n",
       "        0.07133316, 0.10754543, 0.04446747, 0.02343146, 0.13480212,\n",
       "        0.34487668, 0.07451997, 0.06159841, 0.07305676, 0.03389216,\n",
       "        0.04688806, 0.04448124, 0.07503551, 0.10052978, 0.0633538 ,\n",
       "        0.01376185, 0.05424319, 0.07092182, 0.0908797 , 1.33898068]),\n",
       " 'mean_score_time': array([0.18632979, 0.24285059, 0.27128272, 0.31574664, 0.34851017,\n",
       "        0.37894106, 0.19628167, 0.27514019, 0.32550249, 0.35735359,\n",
       "        0.38384976, 0.42958293, 0.23059015, 0.25777984, 0.30722694,\n",
       "        0.37578592, 0.39126453, 0.44026413, 0.24223461, 0.30243888,\n",
       "        0.33085437, 0.39205718, 0.43748693, 0.48549595, 0.25928512,\n",
       "        0.31491256, 0.36489544, 0.39207206, 0.44958186, 0.52276154,\n",
       "        0.30831227, 0.3965044 , 0.36622801, 0.41795125, 0.46660566,\n",
       "        0.51817379, 0.27512097, 0.33538527, 0.39865413, 0.44644775,\n",
       "        0.50281606, 0.55909309, 0.29807878, 0.35465684, 0.43406949,\n",
       "        0.47075205, 0.5354187 , 0.58648009, 0.31565409, 0.3776999 ,\n",
       "        0.43364701, 0.50560136, 0.55666928, 0.62205329, 0.33054113,\n",
       "        0.39477968, 0.46489401, 0.539537  , 0.57283444, 0.41290216]),\n",
       " 'std_score_time': array([0.0057263 , 0.0418788 , 0.01788844, 0.01714871, 0.01690557,\n",
       "        0.01519487, 0.00668164, 0.02042308, 0.03792834, 0.05477332,\n",
       "        0.01665082, 0.03777963, 0.00841469, 0.013171  , 0.00883466,\n",
       "        0.02899842, 0.00452817, 0.02310481, 0.01527637, 0.01406763,\n",
       "        0.00847027, 0.02670091, 0.02619264, 0.02658778, 0.00954755,\n",
       "        0.01185062, 0.01267784, 0.01055113, 0.01589853, 0.02171588,\n",
       "        0.02479027, 0.0289459 , 0.00608717, 0.00865301, 0.00469428,\n",
       "        0.00777394, 0.00485265, 0.00328979, 0.01147564, 0.01294251,\n",
       "        0.00994701, 0.01175857, 0.00503845, 0.00437386, 0.02764602,\n",
       "        0.0122563 , 0.00930259, 0.01808133, 0.00948776, 0.01030143,\n",
       "        0.00607493, 0.0125758 , 0.00810379, 0.02292132, 0.00330323,\n",
       "        0.01354961, 0.00759065, 0.02175293, 0.03349254, 0.06787048]),\n",
       " 'param_max_depth': masked_array(data=[5, 5, 5, 5, 5, 5, 6, 6, 6, 6, 6, 6, 7, 7, 7, 7, 7, 7,\n",
       "                    8, 8, 8, 8, 8, 8, 9, 9, 9, 9, 9, 9, 10, 10, 10, 10, 10,\n",
       "                    10, 11, 11, 11, 11, 11, 11, 12, 12, 12, 12, 12, 12, 13,\n",
       "                    13, 13, 13, 13, 13, 14, 14, 14, 14, 14, 14],\n",
       "              mask=[False, False, False, False, False, False, False, False,\n",
       "                    False, False, False, False, False, False, False, False,\n",
       "                    False, False, False, False, False, False, False, False,\n",
       "                    False, False, False, False, False, False, False, False,\n",
       "                    False, False, False, False, False, False, False, False,\n",
       "                    False, False, False, False, False, False, False, False,\n",
       "                    False, False, False, False, False, False, False, False,\n",
       "                    False, False, False, False],\n",
       "        fill_value='?',\n",
       "             dtype=object),\n",
       " 'param_n_estimators': masked_array(data=[250, 300, 350, 400, 450, 500, 250, 300, 350, 400, 450,\n",
       "                    500, 250, 300, 350, 400, 450, 500, 250, 300, 350, 400,\n",
       "                    450, 500, 250, 300, 350, 400, 450, 500, 250, 300, 350,\n",
       "                    400, 450, 500, 250, 300, 350, 400, 450, 500, 250, 300,\n",
       "                    350, 400, 450, 500, 250, 300, 350, 400, 450, 500, 250,\n",
       "                    300, 350, 400, 450, 500],\n",
       "              mask=[False, False, False, False, False, False, False, False,\n",
       "                    False, False, False, False, False, False, False, False,\n",
       "                    False, False, False, False, False, False, False, False,\n",
       "                    False, False, False, False, False, False, False, False,\n",
       "                    False, False, False, False, False, False, False, False,\n",
       "                    False, False, False, False, False, False, False, False,\n",
       "                    False, False, False, False, False, False, False, False,\n",
       "                    False, False, False, False],\n",
       "        fill_value='?',\n",
       "             dtype=object),\n",
       " 'params': [{'max_depth': 5, 'n_estimators': 250},\n",
       "  {'max_depth': 5, 'n_estimators': 300},\n",
       "  {'max_depth': 5, 'n_estimators': 350},\n",
       "  {'max_depth': 5, 'n_estimators': 400},\n",
       "  {'max_depth': 5, 'n_estimators': 450},\n",
       "  {'max_depth': 5, 'n_estimators': 500},\n",
       "  {'max_depth': 6, 'n_estimators': 250},\n",
       "  {'max_depth': 6, 'n_estimators': 300},\n",
       "  {'max_depth': 6, 'n_estimators': 350},\n",
       "  {'max_depth': 6, 'n_estimators': 400},\n",
       "  {'max_depth': 6, 'n_estimators': 450},\n",
       "  {'max_depth': 6, 'n_estimators': 500},\n",
       "  {'max_depth': 7, 'n_estimators': 250},\n",
       "  {'max_depth': 7, 'n_estimators': 300},\n",
       "  {'max_depth': 7, 'n_estimators': 350},\n",
       "  {'max_depth': 7, 'n_estimators': 400},\n",
       "  {'max_depth': 7, 'n_estimators': 450},\n",
       "  {'max_depth': 7, 'n_estimators': 500},\n",
       "  {'max_depth': 8, 'n_estimators': 250},\n",
       "  {'max_depth': 8, 'n_estimators': 300},\n",
       "  {'max_depth': 8, 'n_estimators': 350},\n",
       "  {'max_depth': 8, 'n_estimators': 400},\n",
       "  {'max_depth': 8, 'n_estimators': 450},\n",
       "  {'max_depth': 8, 'n_estimators': 500},\n",
       "  {'max_depth': 9, 'n_estimators': 250},\n",
       "  {'max_depth': 9, 'n_estimators': 300},\n",
       "  {'max_depth': 9, 'n_estimators': 350},\n",
       "  {'max_depth': 9, 'n_estimators': 400},\n",
       "  {'max_depth': 9, 'n_estimators': 450},\n",
       "  {'max_depth': 9, 'n_estimators': 500},\n",
       "  {'max_depth': 10, 'n_estimators': 250},\n",
       "  {'max_depth': 10, 'n_estimators': 300},\n",
       "  {'max_depth': 10, 'n_estimators': 350},\n",
       "  {'max_depth': 10, 'n_estimators': 400},\n",
       "  {'max_depth': 10, 'n_estimators': 450},\n",
       "  {'max_depth': 10, 'n_estimators': 500},\n",
       "  {'max_depth': 11, 'n_estimators': 250},\n",
       "  {'max_depth': 11, 'n_estimators': 300},\n",
       "  {'max_depth': 11, 'n_estimators': 350},\n",
       "  {'max_depth': 11, 'n_estimators': 400},\n",
       "  {'max_depth': 11, 'n_estimators': 450},\n",
       "  {'max_depth': 11, 'n_estimators': 500},\n",
       "  {'max_depth': 12, 'n_estimators': 250},\n",
       "  {'max_depth': 12, 'n_estimators': 300},\n",
       "  {'max_depth': 12, 'n_estimators': 350},\n",
       "  {'max_depth': 12, 'n_estimators': 400},\n",
       "  {'max_depth': 12, 'n_estimators': 450},\n",
       "  {'max_depth': 12, 'n_estimators': 500},\n",
       "  {'max_depth': 13, 'n_estimators': 250},\n",
       "  {'max_depth': 13, 'n_estimators': 300},\n",
       "  {'max_depth': 13, 'n_estimators': 350},\n",
       "  {'max_depth': 13, 'n_estimators': 400},\n",
       "  {'max_depth': 13, 'n_estimators': 450},\n",
       "  {'max_depth': 13, 'n_estimators': 500},\n",
       "  {'max_depth': 14, 'n_estimators': 250},\n",
       "  {'max_depth': 14, 'n_estimators': 300},\n",
       "  {'max_depth': 14, 'n_estimators': 350},\n",
       "  {'max_depth': 14, 'n_estimators': 400},\n",
       "  {'max_depth': 14, 'n_estimators': 450},\n",
       "  {'max_depth': 14, 'n_estimators': 500}],\n",
       " 'split0_test_score': array([0.90325495, 0.9038877 , 0.90332858, 0.90378679, 0.90396988,\n",
       "        0.90428691, 0.90931948, 0.90947232, 0.90933262, 0.91008765,\n",
       "        0.90920903, 0.90906079, 0.91367837, 0.91460991, 0.91290527,\n",
       "        0.91319189, 0.91417208, 0.91421908, 0.9163908 , 0.91701172,\n",
       "        0.91727632, 0.91686578, 0.91651571, 0.91733187, 0.92013667,\n",
       "        0.91949143, 0.91962982, 0.92046603, 0.91960845, 0.91945528,\n",
       "        0.92151952, 0.92178083, 0.9214541 , 0.92226731, 0.92145082,\n",
       "        0.92153957, 0.92281657, 0.92310155, 0.92348547, 0.92318767,\n",
       "        0.9228376 , 0.92313048, 0.92411625, 0.92416588, 0.9245143 ,\n",
       "        0.92387564, 0.92422045, 0.92354365, 0.92491006, 0.92596059,\n",
       "        0.92474439, 0.92450707, 0.92530516, 0.92554807, 0.92465433,\n",
       "        0.92508   , 0.92637113, 0.92615583, 0.92527722, 0.92555333]),\n",
       " 'split1_test_score': array([0.9040274 , 0.90384678, 0.90585169, 0.90474134, 0.90653834,\n",
       "        0.90460723, 0.91004442, 0.91051134, 0.90931142, 0.9098832 ,\n",
       "        0.91019891, 0.91089428, 0.91389367, 0.91324186, 0.91437028,\n",
       "        0.91414052, 0.91333192, 0.91421086, 0.9163885 , 0.91766485,\n",
       "        0.91708469, 0.91801491, 0.91762968, 0.91712939, 0.91957032,\n",
       "        0.92042659, 0.92018729, 0.92005187, 0.92065733, 0.91988094,\n",
       "        0.9220433 , 0.9218686 , 0.92202013, 0.92198134, 0.92248589,\n",
       "        0.92195899, 0.92353774, 0.92385592, 0.92354924, 0.92389569,\n",
       "        0.92450806, 0.92356337, 0.92485221, 0.9258932 , 0.92491302,\n",
       "        0.92571044, 0.9250823 , 0.9253068 , 0.92583699, 0.92579196,\n",
       "        0.92575318, 0.92559737, 0.92683394, 0.92650754, 0.92659235,\n",
       "        0.92687799, 0.92800313, 0.92805046, 0.92717711, 0.92708244]),\n",
       " 'split2_test_score': array([0.89342928, 0.89332706, 0.89440552, 0.89283072, 0.89397525,\n",
       "        0.89508872, 0.90065033, 0.89947687, 0.8976373 , 0.89994511,\n",
       "        0.90048171, 0.90149246, 0.90713723, 0.90588324, 0.90591184,\n",
       "        0.90416841, 0.90519856, 0.90573714, 0.91140541, 0.91095838,\n",
       "        0.91083446, 0.91010934, 0.90990062, 0.9101031 , 0.913634  ,\n",
       "        0.91438639, 0.91307718, 0.91343809, 0.91337531, 0.91440052,\n",
       "        0.91535145, 0.91630074, 0.91632145, 0.91698772, 0.9171524 ,\n",
       "        0.916826  , 0.91819143, 0.91821542, 0.91845373, 0.91884883,\n",
       "        0.91866081, 0.91964001, 0.9198415 , 0.92012714, 0.92107051,\n",
       "        0.92078783, 0.92036578, 0.92055379, 0.9219866 , 0.92194748,\n",
       "        0.9213384 , 0.92237019, 0.92153496, 0.92224496, 0.92248918,\n",
       "        0.9231548 , 0.92304534, 0.92357981, 0.92309761, 0.92356272]),\n",
       " 'split3_test_score': array([0.9007588 , 0.90043134, 0.90133184, 0.90093962, 0.90065589,\n",
       "        0.90134565, 0.90637762, 0.90765801, 0.90608716, 0.90766656,\n",
       "        0.90742064, 0.90740355, 0.91105847, 0.91108707, 0.91231963,\n",
       "        0.91281508, 0.91363207, 0.91280423, 0.9164253 , 0.91662519,\n",
       "        0.91647198, 0.91656338, 0.9161031 , 0.91638453, 0.91953907,\n",
       "        0.92013151, 0.91936219, 0.91955978, 0.91990104, 0.91947923,\n",
       "        0.92249864, 0.92160998, 0.92182894, 0.92268111, 0.92189404,\n",
       "        0.92148768, 0.92326139, 0.92375816, 0.92349383, 0.92374534,\n",
       "        0.92369701, 0.92361317, 0.92525603, 0.92625318, 0.92544343,\n",
       "        0.92513669, 0.92600332, 0.92520901, 0.92642776, 0.92683806,\n",
       "        0.92711324, 0.92702546, 0.92633735, 0.92700113, 0.9273779 ,\n",
       "        0.92684628, 0.92718294, 0.9289389 , 0.92716782, 0.92807456]),\n",
       " 'split4_test_score': array([0.90369528, 0.90468096, 0.90290582, 0.90354746, 0.90283997,\n",
       "        0.90376409, 0.90812723, 0.90884262, 0.90923241, 0.90956822,\n",
       "        0.90803998, 0.90917974, 0.91168871, 0.91306518, 0.91340822,\n",
       "        0.91315308, 0.91298748, 0.91320543, 0.91620395, 0.91698486,\n",
       "        0.91627341, 0.91540395, 0.91534666, 0.91735194, 0.91878074,\n",
       "        0.91950404, 0.91984215, 0.91826255, 0.91884593, 0.91974766,\n",
       "        0.92063622, 0.920067  , 0.92076923, 0.92124791, 0.92115902,\n",
       "        0.92177203, 0.92225861, 0.92202026, 0.92182734, 0.92237318,\n",
       "        0.92221614, 0.9226066 , 0.92324363, 0.92403376, 0.92363277,\n",
       "        0.92404627, 0.92335919, 0.92372067, 0.92474026, 0.92400841,\n",
       "        0.92440479, 0.92496018, 0.92448676, 0.92454668, 0.92487821,\n",
       "        0.92514784, 0.92549286, 0.92537631, 0.9245694 , 0.92558965]),\n",
       " 'mean_test_score': array([0.90103314, 0.90123477, 0.90156469, 0.90116919, 0.90159587,\n",
       "        0.90181852, 0.90690382, 0.90719223, 0.90632018, 0.90743015,\n",
       "        0.90707006, 0.90760616, 0.91149129, 0.91157745, 0.91178305,\n",
       "        0.9114938 , 0.91186442, 0.91203535, 0.91536279, 0.915849  ,\n",
       "        0.91558817, 0.91539147, 0.91509915, 0.91566017, 0.91833216,\n",
       "        0.91878799, 0.91841972, 0.91835566, 0.91847761, 0.91859273,\n",
       "        0.92040983, 0.92032543, 0.92047877, 0.92103308, 0.92082843,\n",
       "        0.92071685, 0.92201315, 0.92219026, 0.92216192, 0.92241014,\n",
       "        0.92238392, 0.92251072, 0.92346192, 0.92409463, 0.92391481,\n",
       "        0.92391137, 0.92380621, 0.92366679, 0.92478034, 0.9249093 ,\n",
       "        0.9246708 , 0.92489206, 0.92489964, 0.92516968, 0.92519839,\n",
       "        0.92542138, 0.92601908, 0.92642026, 0.92545783, 0.92597254]),\n",
       " 'std_test_score': array([0.00397198, 0.00421697, 0.00386254, 0.00435548, 0.00425603,\n",
       "        0.0035544 , 0.00336388, 0.00396693, 0.00451553, 0.00384013,\n",
       "        0.0034303 , 0.0032503 , 0.00243881, 0.00306084, 0.00301176,\n",
       "        0.00368915, 0.00335554, 0.00319779, 0.00198021, 0.0024682 ,\n",
       "        0.00240574, 0.00276877, 0.002702  , 0.00280075, 0.0023883 ,\n",
       "        0.00223032, 0.00268488, 0.00256795, 0.00261631, 0.00210228,\n",
       "        0.00260389, 0.00211729, 0.00212215, 0.00207603, 0.00189169,\n",
       "        0.00195274, 0.00195927, 0.00209243, 0.00196535, 0.00185895,\n",
       "        0.00201652, 0.00148039, 0.00193571, 0.00217458, 0.00154026,\n",
       "        0.00170376, 0.00193203, 0.00171912, 0.00152669, 0.00174289,\n",
       "        0.00191406, 0.00152063, 0.00186893, 0.00168697, 0.00169892,\n",
       "        0.00137701, 0.00170499, 0.0019094 , 0.00156669, 0.00153493]),\n",
       " 'rank_test_score': array([60, 58, 57, 59, 56, 55, 53, 51, 54, 50, 52, 49, 48, 46, 45, 47, 44,\n",
       "        43, 41, 37, 39, 40, 42, 38, 36, 31, 34, 35, 33, 32, 29, 30, 28, 25,\n",
       "        26, 27, 24, 22, 23, 20, 21, 19, 18, 13, 14, 15, 16, 17, 11,  8, 12,\n",
       "        10,  9,  7,  6,  5,  2,  1,  4,  3], dtype=int32),\n",
       " 'split0_train_score': array([0.9073183 , 0.9082949 , 0.90794647, 0.9075301 , 0.90836465,\n",
       "        0.90867997, 0.91717846, 0.91703235, 0.91703874, 0.91754642,\n",
       "        0.91681833, 0.91665487, 0.92597558, 0.92611194, 0.92529699,\n",
       "        0.92503665, 0.92582624, 0.92609655, 0.93460811, 0.93407778,\n",
       "        0.93401987, 0.93518607, 0.9339787 , 0.93504505, 0.94413575,\n",
       "        0.94418811, 0.94321993, 0.94395265, 0.94332893, 0.94378687,\n",
       "        0.95269562, 0.95304874, 0.9527012 , 0.95274032, 0.95290744,\n",
       "        0.95282329, 0.96168623, 0.96160846, 0.96152668, 0.96127805,\n",
       "        0.9608391 , 0.96106424, 0.96940587, 0.96882063, 0.96949704,\n",
       "        0.96957336, 0.96904399, 0.96894639, 0.97606942, 0.97551486,\n",
       "        0.97643033, 0.97657311, 0.97622488, 0.97642745, 0.98167073,\n",
       "        0.9824509 , 0.98273831, 0.98197839, 0.98196293, 0.98210767]),\n",
       " 'split1_train_score': array([0.90807742, 0.90871165, 0.90948606, 0.90894437, 0.91107437,\n",
       "        0.90861336, 0.91745901, 0.91845485, 0.9172156 , 0.91703479,\n",
       "        0.91748062, 0.91808067, 0.92664504, 0.92576156, 0.9262351 ,\n",
       "        0.92631753, 0.92583756, 0.9258481 , 0.93421607, 0.93393515,\n",
       "        0.93397116, 0.93425821, 0.93504823, 0.93488309, 0.94314816,\n",
       "        0.9428837 , 0.94282807, 0.94317877, 0.94353092, 0.94325543,\n",
       "        0.95126025, 0.95225498, 0.95190756, 0.95202173, 0.95231142,\n",
       "        0.95183024, 0.96011366, 0.95985905, 0.96025207, 0.96043815,\n",
       "        0.96103622, 0.96047603, 0.96860903, 0.96956616, 0.96848831,\n",
       "        0.96844354, 0.9682109 , 0.96889891, 0.97526492, 0.9763572 ,\n",
       "        0.97552238, 0.97516246, 0.97648677, 0.97572415, 0.98203517,\n",
       "        0.98163441, 0.98213948, 0.98244007, 0.98153621, 0.98203298]),\n",
       " 'split2_train_score': array([0.907887  , 0.90835841, 0.90933299, 0.90744514, 0.90922633,\n",
       "        0.91009247, 0.91771862, 0.91721467, 0.91580181, 0.91742405,\n",
       "        0.91773655, 0.91820794, 0.92742896, 0.9267539 , 0.9256124 ,\n",
       "        0.92539327, 0.9267391 , 0.92621597, 0.93580263, 0.93573666,\n",
       "        0.93603827, 0.9358657 , 0.93504365, 0.93516269, 0.94354902,\n",
       "        0.94374138, 0.94348927, 0.94381961, 0.94365954, 0.94488898,\n",
       "        0.95307472, 0.9531501 , 0.95205418, 0.95337506, 0.9528102 ,\n",
       "        0.95312589, 0.96112787, 0.96113664, 0.96155613, 0.960938  ,\n",
       "        0.96102145, 0.96155368, 0.96826736, 0.96937697, 0.96907614,\n",
       "        0.96883339, 0.96824964, 0.96896396, 0.97537329, 0.97593026,\n",
       "        0.97608516, 0.97582334, 0.97610286, 0.97608101, 0.98227622,\n",
       "        0.98183086, 0.98223045, 0.98251346, 0.98198992, 0.98234341]),\n",
       " 'split3_train_score': array([0.90769051, 0.90803588, 0.90800908, 0.90791967, 0.90751923,\n",
       "        0.90814952, 0.91653111, 0.91676995, 0.91537033, 0.91737297,\n",
       "        0.91667647, 0.91727112, 0.92449709, 0.92463133, 0.92542036,\n",
       "        0.92634367, 0.92634579, 0.92616052, 0.93378119, 0.93453685,\n",
       "        0.9344022 , 0.93378478, 0.93386438, 0.93363584, 0.94266717,\n",
       "        0.9433836 , 0.94289014, 0.94240493, 0.9426422 , 0.94275643,\n",
       "        0.951314  , 0.9513029 , 0.95121064, 0.95214795, 0.95205958,\n",
       "        0.95187835, 0.9595005 , 0.96049141, 0.95999165, 0.96006128,\n",
       "        0.96076882, 0.9603756 , 0.96881524, 0.96779135, 0.96774967,\n",
       "        0.96838653, 0.96864542, 0.96843158, 0.9745547 , 0.975135  ,\n",
       "        0.97579155, 0.97589141, 0.97596353, 0.97569973, 0.98147944,\n",
       "        0.98151165, 0.9822285 , 0.98210375, 0.98191451, 0.98110949]),\n",
       " 'split4_train_score': array([0.91019962, 0.91055168, 0.90908622, 0.91002412, 0.90897989,\n",
       "        0.9105124 , 0.91843786, 0.91890523, 0.91863823, 0.91872178,\n",
       "        0.91801635, 0.91891609, 0.926542  , 0.92698301, 0.92651912,\n",
       "        0.92719734, 0.92715362, 0.92700925, 0.93579239, 0.93602924,\n",
       "        0.93564815, 0.93601944, 0.93526319, 0.93624437, 0.9439185 ,\n",
       "        0.94458594, 0.9454479 , 0.94448155, 0.94415507, 0.94507027,\n",
       "        0.95360367, 0.95347483, 0.95361045, 0.95357891, 0.95256167,\n",
       "        0.9539722 , 0.96171155, 0.96187671, 0.96130784, 0.96136341,\n",
       "        0.96160765, 0.96164426, 0.96972709, 0.97010025, 0.96956888,\n",
       "        0.97013331, 0.96941356, 0.97010452, 0.9756958 , 0.97668424,\n",
       "        0.97680126, 0.97696091, 0.97667721, 0.9769535 , 0.98288146,\n",
       "        0.98328106, 0.98270691, 0.98299444, 0.98296582, 0.98335697]),\n",
       " 'mean_train_score': array([0.90823457, 0.9087905 , 0.90877216, 0.90837268, 0.90903289,\n",
       "        0.90920955, 0.91746501, 0.91767541, 0.91681294, 0.91762   ,\n",
       "        0.91734566, 0.91782614, 0.92621774, 0.92604835, 0.92581679,\n",
       "        0.92605769, 0.92638046, 0.92626608, 0.93484008, 0.93486314,\n",
       "        0.93481593, 0.93502284, 0.93463963, 0.93499421, 0.94348372,\n",
       "        0.94375655, 0.94357506, 0.9435675 , 0.94346333, 0.94395159,\n",
       "        0.95238965, 0.95264631, 0.9522968 , 0.95277279, 0.95253006,\n",
       "        0.95272599, 0.96082796, 0.96099445, 0.96092687, 0.96081578,\n",
       "        0.96105465, 0.96102276, 0.96896492, 0.96913107, 0.96887601,\n",
       "        0.96907403, 0.96871271, 0.96906907, 0.97539163, 0.97592431,\n",
       "        0.97612614, 0.97608225, 0.97629105, 0.97617717, 0.98206861,\n",
       "        0.98214178, 0.98240873, 0.98240602, 0.98207388, 0.9821901 ]),\n",
       " 'std_train_score': array([0.00101415, 0.00090661, 0.00066134, 0.00098281, 0.00117861,\n",
       "        0.00092049, 0.00062691, 0.00084447, 0.00115311, 0.00057641,\n",
       "        0.00051898, 0.00078466, 0.00097715, 0.00083254, 0.00047694,\n",
       "        0.00076578, 0.00051566, 0.00039228, 0.00082436, 0.00086108,\n",
       "        0.00086084, 0.00087724, 0.00059276, 0.00083083, 0.00052873,\n",
       "        0.00059587, 0.00096624, 0.00071415, 0.00049273, 0.00090225,\n",
       "        0.00094545, 0.00078232, 0.00080985, 0.0006274 , 0.00031338,\n",
       "        0.00080539, 0.00088087, 0.00073726, 0.00066796, 0.00049808,\n",
       "        0.0002951 , 0.0005268 , 0.00053122, 0.0007849 , 0.00068187,\n",
       "        0.00067816, 0.00046297, 0.00055382, 0.00050374, 0.00055778,\n",
       "        0.00045309, 0.00062649, 0.00025865, 0.00047069, 0.00049201,\n",
       "        0.00065493, 0.00025857, 0.00035586, 0.00047527, 0.00071893])}"
      ]
     },
     "execution_count": 117,
     "metadata": {},
     "output_type": "execute_result"
    }
   ],
   "source": [
    "gcv.cv_results_"
   ]
  },
  {
   "cell_type": "code",
   "execution_count": 118,
   "id": "b9f690e4-6595-4a70-b711-d79c79df5d87",
   "metadata": {},
   "outputs": [],
   "source": [
    "train_score = gcv.cv_results_[\"mean_train_score\"]\n",
    "test_score = gcv.cv_results_[\"mean_test_score\"]"
   ]
  },
  {
   "cell_type": "code",
   "execution_count": 119,
   "id": "dc39edc4-3308-409b-986e-9f425d0ed98a",
   "metadata": {
    "collapsed": true,
    "jupyter": {
     "outputs_hidden": true
    },
    "tags": []
   },
   "outputs": [
    {
     "data": {
      "text/plain": [
       "array([0.90823457, 0.9087905 , 0.90877216, 0.90837268, 0.90903289,\n",
       "       0.90920955, 0.91746501, 0.91767541, 0.91681294, 0.91762   ,\n",
       "       0.91734566, 0.91782614, 0.92621774, 0.92604835, 0.92581679,\n",
       "       0.92605769, 0.92638046, 0.92626608, 0.93484008, 0.93486314,\n",
       "       0.93481593, 0.93502284, 0.93463963, 0.93499421, 0.94348372,\n",
       "       0.94375655, 0.94357506, 0.9435675 , 0.94346333, 0.94395159,\n",
       "       0.95238965, 0.95264631, 0.9522968 , 0.95277279, 0.95253006,\n",
       "       0.95272599, 0.96082796, 0.96099445, 0.96092687, 0.96081578,\n",
       "       0.96105465, 0.96102276, 0.96896492, 0.96913107, 0.96887601,\n",
       "       0.96907403, 0.96871271, 0.96906907, 0.97539163, 0.97592431,\n",
       "       0.97612614, 0.97608225, 0.97629105, 0.97617717, 0.98206861,\n",
       "       0.98214178, 0.98240873, 0.98240602, 0.98207388, 0.9821901 ])"
      ]
     },
     "execution_count": 119,
     "metadata": {},
     "output_type": "execute_result"
    }
   ],
   "source": [
    "train_score"
   ]
  },
  {
   "cell_type": "code",
   "execution_count": 120,
   "id": "7c1b65c1-0b68-4ff8-958d-89eb53c996b1",
   "metadata": {
    "collapsed": true,
    "jupyter": {
     "outputs_hidden": true
    },
    "tags": []
   },
   "outputs": [
    {
     "data": {
      "text/plain": [
       "array([0.90103314, 0.90123477, 0.90156469, 0.90116919, 0.90159587,\n",
       "       0.90181852, 0.90690382, 0.90719223, 0.90632018, 0.90743015,\n",
       "       0.90707006, 0.90760616, 0.91149129, 0.91157745, 0.91178305,\n",
       "       0.9114938 , 0.91186442, 0.91203535, 0.91536279, 0.915849  ,\n",
       "       0.91558817, 0.91539147, 0.91509915, 0.91566017, 0.91833216,\n",
       "       0.91878799, 0.91841972, 0.91835566, 0.91847761, 0.91859273,\n",
       "       0.92040983, 0.92032543, 0.92047877, 0.92103308, 0.92082843,\n",
       "       0.92071685, 0.92201315, 0.92219026, 0.92216192, 0.92241014,\n",
       "       0.92238392, 0.92251072, 0.92346192, 0.92409463, 0.92391481,\n",
       "       0.92391137, 0.92380621, 0.92366679, 0.92478034, 0.9249093 ,\n",
       "       0.9246708 , 0.92489206, 0.92489964, 0.92516968, 0.92519839,\n",
       "       0.92542138, 0.92601908, 0.92642026, 0.92545783, 0.92597254])"
      ]
     },
     "execution_count": 120,
     "metadata": {},
     "output_type": "execute_result"
    }
   ],
   "source": [
    "test_score"
   ]
  },
  {
   "cell_type": "code",
   "execution_count": 121,
   "id": "3a166e2a-f6ca-4251-9f54-a97d03e57212",
   "metadata": {},
   "outputs": [
    {
     "data": {
      "image/png": "[encoded data removed]",
      "text/plain": [
       "<Figure size 640x480 with 1 Axes>"
      ]
     },
     "metadata": {},
     "output_type": "display_data"
    }
   ],
   "source": [
    "plt.plot(train_score)\n",
    "plt.plot(test_score)\n",
    "#plt.xticks([0,1,2,3,4,5,6,7,8],[2,3,4,5,6,7,8,9,10])\n",
    "plt.show()"
   ]
  },
  {
   "cell_type": "code",
   "execution_count": 122,
   "id": "d51d614c-3fe6-48a0-9c22-dd0f11f992c5",
   "metadata": {},
   "outputs": [
    {
     "data": {
      "text/plain": [
       "{'max_depth': 14, 'n_estimators': 400}"
      ]
     },
     "execution_count": 122,
     "metadata": {},
     "output_type": "execute_result"
    }
   ],
   "source": [
    "gcv.best_params_"
   ]
  },
  {
   "cell_type": "code",
   "execution_count": 123,
   "id": "6624d784-95c2-4444-a809-0d1c9b5c4353",
   "metadata": {},
   "outputs": [],
   "source": [
    "pred = gcv.predict_proba(testX)"
   ]
  },
  {
   "cell_type": "code",
   "execution_count": 124,
   "id": "c1f75cbc-a450-452a-a32b-94066e16ddc7",
   "metadata": {},
   "outputs": [
    {
     "data": {
      "text/plain": [
       "array([[0.46199615, 0.53800385],\n",
       "       [0.46664714, 0.53335286],\n",
       "       [0.98323092, 0.01676908],\n",
       "       ...,\n",
       "       [0.99013508, 0.00986492],\n",
       "       [0.98774151, 0.01225849],\n",
       "       [0.98114453, 0.01885547]])"
      ]
     },
     "execution_count": 124,
     "metadata": {},
     "output_type": "execute_result"
    }
   ],
   "source": [
    "pred"
   ]
  },
  {
   "cell_type": "code",
   "execution_count": 125,
   "id": "caf9c5e6-8c02-459b-be42-f53d5f06cf7f",
   "metadata": {},
   "outputs": [],
   "source": [
    "pred = pred[:, 1]"
   ]
  },
  {
   "cell_type": "code",
   "execution_count": 126,
   "id": "3cfbb2e4-6d18-4fd6-a5cb-ec44e5495374",
   "metadata": {},
   "outputs": [],
   "source": [
    "sample[1] = pred"
   ]
  },
  {
   "cell_type": "code",
   "execution_count": 127,
   "id": "2f4388f9-9f1a-4402-a444-e02538b7b57b",
   "metadata": {},
   "outputs": [],
   "source": [
    "sample.to_csv(\"forest6_bank.csv\", index=None, header=None)"
   ]
  },
  {
   "cell_type": "code",
   "execution_count": null,
   "id": "02d49cca-8a8b-46d0-a1b2-fb24e9c23cef",
   "metadata": {},
   "outputs": [],
   "source": []
  }
 ],
 "metadata": {
  "kernelspec": {
   "display_name": "Python 3 (ipykernel)",
   "language": "python",
   "name": "python3"
  },
  "language_info": {
   "codemirror_mode": {
    "name": "ipython",
    "version": 3
   },
   "file_extension": ".py",
   "mimetype": "text/x-python",
   "name": "python",
   "nbconvert_exporter": "python",
   "pygments_lexer": "ipython3",
   "version": "3.7.13"
  }
 },
 "nbformat": 4,
 "nbformat_minor": 5
}
